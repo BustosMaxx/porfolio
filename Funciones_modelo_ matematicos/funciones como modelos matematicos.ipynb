{
 "cells": [
  {
   "cell_type": "markdown",
   "id": "f811325c-d0f1-438b-89ad-d8d6ab23ae5b",
   "metadata": {},
   "source": [
    "Entonces vamos a tomar un problema que en este caso sería una fábrica una empresa que genera cierto producto que bueno le da una utilidad de 300 dólares euros o lo que sea esto siempre y cuando produzca menos de 800 unidades porque cuando produce más de 800 unidades la utilidad decrece dos dólares por unidad esto no lo podemos imaginar como como economía de escala o algún tipo de empresa que bueno Hasta cierto producto tiene una capacidad que si hace hasta esa cantidad le va a generar unos gastos y va a recibir una utilidad pero si se pasa de esa cantidad Entonces ya le va a empezar a salir más caro generar producto por lo que tiene menos rentabilidad entonces podemos estar interesado en saber esto para saber cuál es el punto óptima en donde va a obtener la mayor ganancia \n",
    "Aunque el producto cueste un poco más No fíjate como un problema de la vida real lo que puede asemejarse o no de la vida real lo estamos poniendo en lenguaje matemático así que por lo tanto vamos a expresar la utilidad como una función de bueno como función de las unidades que produzca que en este caso las vamos a llamar x para esto vamos a utilizar la función por trozos que definimos hace bueno que vimos cuando vimos lo de la parte entera vamos a hacer algo parecido entonces la utilidad que vamos a llamar udx la vamos a poner en dos partes una si x es menor o igual que 800 pero mayor que cero y la otra si Es mayor que 800 Fíjate que el caso de la x negativa no tiene sentido porque no podemos producir una cantidad negativa de unidades bien si la x o si la cantidad de unidades está entre 0 y 800 sabemos que la utilidad es 300 veces eso es decir por cada unidad gana 300 ahora la pregunta es si la x Es mayor que 800 para eso tenemos que definir algunas cosas como por ejemplo el exceso es decir cuánto más allá de 800 es que vamos a estar produciendo eso simplemente una resta de X menos 800 Y tenemos 801 el exceso será 8101-800 pues 1 luego tenemos que ver cuánto decrece la utilidad por esa cantidad extra que yo hago entonces eso sería el exceso multiplicado por 2 porque es lo que nos dice que en lo que decrece es decir si tenemos 801 el exceso sería de 2 si tenemos etcétera me van entendiendo no Y por último Tenemos que hablar de la utilidad por unidad es decir si yo hago 801 Cuál va a ser mi utilidad Entonces eso sería los 300 menos la útil menos lo que decrece la utilidad no Entonces sería esos 300 menos lo que habíamos calculado arriba ahora esa ecuación la podemos después poner en la en función de la utilidad\n",
    "porque podemos Definir la utilidad como lo que se gana con los primeros 800 que es así no vamos a tener un gasto extra más la utilidad de las otras entonces acá sería primero la primera parte 300 por 800 es decir 800 unidades multiplicado por los 300 que le voy ganando sumado a el exceso de las otras unidades que era esto y lo que me gano por cada una de esas otras unidades\n",
    "luego de hacer toda esta cuenta me va a dar esta ecuación que si te fijas una función polinómica de grado 2 más o menos ya nos vamos ubicando en Cómo entender los tipos de funciones y esta de acá es la que va a ir entonces en la definición de nuestra utilidad ya de aquí se pueden hacer muchas cosas Yo te invito a que grafiques esto y veas Cuál es el punto máximo o cuál es el número\n",
    "de cajas óptimo que debería generar esta empresa para no perder o para ganar la mayor cantidad de dinero posible entonces bueno eso como ejercicio yo con esto termino el vídeo y te agradezco por permitirme enseñarte todo lo que sé\n"
   ]
  },
  {
   "cell_type": "code",
   "execution_count": 26,
   "id": "b8003182-1aba-4b2c-a390-8af11347eaba",
   "metadata": {},
   "outputs": [],
   "source": [
    "import pandas as pd\n",
    "import matplotlib.pyplot as plt\n",
    "import numpy as np"
   ]
  },
  {
   "cell_type": "code",
   "execution_count": 30,
   "id": "a0b75fc8-de5e-442b-9aad-91377be2c874",
   "metadata": {},
   "outputs": [],
   "source": [
    "# %%Writeline funcion_en_trozos.py\n",
    "\n",
    "def funcion_en_trozos(x):\n",
    "    y = []\n",
    "    for i in x:\n",
    "        \n",
    "        if i>800:\n",
    "            y.append(-2*i**2 + 3500*i + 1280000)\n",
    "        else:\n",
    "            y.append(300*i)\n",
    "    return y    "
   ]
  },
  {
   "cell_type": "code",
   "execution_count": 31,
   "id": "3d556976-aaa4-41e0-b24f-4d4e013e32eb",
   "metadata": {},
   "outputs": [],
   "source": [
    "x = list(range(0,5000))\n",
    "\n",
    "y = funcion_en_trozos(x)"
   ]
  },
  {
   "cell_type": "code",
   "execution_count": 34,
   "id": "8b8c680e-5cce-4254-9eca-2ea0e69c4820",
   "metadata": {},
   "outputs": [
    {
     "data": {
      "image/png": "[encoded data removed]",
      "text/plain": [
       "<Figure size 640x480 with 1 Axes>"
      ]
     },
     "metadata": {},
     "output_type": "display_data"
    }
   ],
   "source": [
    "#Definimos el gráfico\n",
    "\n",
    "# plot\n",
    "fig, ax = plt.subplots()\n",
    "\n",
    "ax.plot(x, y, linewidth=2.0)\n",
    "\n",
    "ax.set(xlim=(0, 2000))\n",
    "\n",
    "plt.show()"
   ]
  },
  {
   "cell_type": "code",
   "execution_count": 24,
   "id": "f0b0c472-e0e1-4b7d-81e9-d85d3ba3bfaa",
   "metadata": {},
   "outputs": [],
   "source": [
    "df = pd.DataFrame(y)"
   ]
  },
  {
   "cell_type": "code",
   "execution_count": 25,
   "id": "1aa0cb21-6ab9-46df-b615-210580fd01ae",
   "metadata": {},
   "outputs": [
    {
     "data": {
      "text/html": [
       "<div>\n",
       "<style scoped>\n",
       "    .dataframe tbody tr th:only-of-type {\n",
       "        vertical-align: middle;\n",
       "    }\n",
       "\n",
       "    .dataframe tbody tr th {\n",
       "        vertical-align: top;\n",
       "    }\n",
       "\n",
       "    .dataframe thead th {\n",
       "        text-align: right;\n",
       "    }\n",
       "</style>\n",
       "<table border=\"1\" class=\"dataframe\">\n",
       "  <thead>\n",
       "    <tr style=\"text-align: right;\">\n",
       "      <th></th>\n",
       "      <th>0</th>\n",
       "    </tr>\n",
       "  </thead>\n",
       "  <tbody>\n",
       "    <tr>\n",
       "      <th>count</th>\n",
       "      <td>5.000000e+03</td>\n",
       "    </tr>\n",
       "    <tr>\n",
       "      <th>mean</th>\n",
       "      <td>-6.975134e+06</td>\n",
       "    </tr>\n",
       "    <tr>\n",
       "      <th>std</th>\n",
       "      <td>9.817435e+06</td>\n",
       "    </tr>\n",
       "    <tr>\n",
       "      <th>min</th>\n",
       "      <td>-3.120350e+07</td>\n",
       "    </tr>\n",
       "    <tr>\n",
       "      <th>25%</th>\n",
       "      <td>-1.371138e+07</td>\n",
       "    </tr>\n",
       "    <tr>\n",
       "      <th>50%</th>\n",
       "      <td>-2.466751e+06</td>\n",
       "    </tr>\n",
       "    <tr>\n",
       "      <th>75%</th>\n",
       "      <td>2.283750e+05</td>\n",
       "    </tr>\n",
       "    <tr>\n",
       "      <th>max</th>\n",
       "      <td>2.811250e+06</td>\n",
       "    </tr>\n",
       "  </tbody>\n",
       "</table>\n",
       "</div>"
      ],
      "text/plain": [
       "                  0\n",
       "count  5.000000e+03\n",
       "mean  -6.975134e+06\n",
       "std    9.817435e+06\n",
       "min   -3.120350e+07\n",
       "25%   -1.371138e+07\n",
       "50%   -2.466751e+06\n",
       "75%    2.283750e+05\n",
       "max    2.811250e+06"
      ]
     },
     "execution_count": 25,
     "metadata": {},
     "output_type": "execute_result"
    }
   ],
   "source": [
    "df.describe()"
   ]
  },
  {
   "cell_type": "code",
   "execution_count": null,
   "id": "a33dca1a-ba51-4518-884a-a8aeedcf544e",
   "metadata": {},
   "outputs": [],
   "source": []
  }
 ],
 "metadata": {
  "kernelspec": {
   "display_name": "Python 3 (ipykernel)",
   "language": "python",
   "name": "python3"
  },
  "language_info": {
   "codemirror_mode": {
    "name": "ipython",
    "version": 3
   },
   "file_extension": ".py",
   "mimetype": "text/x-python",
   "name": "python",
   "nbconvert_exporter": "python",
   "pygments_lexer": "ipython3",
   "version": "3.10.9"
  }
 },
 "nbformat": 4,
 "nbformat_minor": 5
}
