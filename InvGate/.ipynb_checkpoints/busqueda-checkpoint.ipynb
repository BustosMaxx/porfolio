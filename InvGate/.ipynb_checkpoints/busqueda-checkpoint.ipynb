{
 "cells": [
  {
   "cell_type": "markdown",
   "metadata": {},
   "source": [
    "## Descripción y comentarios"
   ]
  },
  {
   "cell_type": "markdown",
   "metadata": {
    "id": "YbltOBlVWDIZ"
   },
   "source": [
    "Encontrando TKs asociados a los cambios en Central Puerto\n",
    "\n",
    "Pipelne\n",
    "1. Descargar un reporte desde las vistas armadas. Importar y generar un dataframe en base a este.\n",
    "2. Levantar el reporte de ABM para obtener el set de usuarios.\n",
    "3. De los tks obtenidos a través de las vistas, descargar su html y realizar la busqueda de los objetos involucrados en los cambios identificados en los reportes.\n",
    "\n"
   ]
  },
  {
   "cell_type": "code",
   "execution_count": null,
   "metadata": {
    "colab": {
     "base_uri": "https://localhost:8080/"
    },
    "id": "jawgGIYzWDIc",
    "outputId": "efa5f013-1710-4557-e69a-f8c4cc403d1e",
    "tags": []
   },
   "outputs": [],
   "source": [
    "import requests\n",
    "import re\n",
    "import pandas as pd\n",
    "from bs4 import BeautifulSoup\n",
    "import time"
   ]
  },
  {
   "cell_type": "code",
   "execution_count": null,
   "metadata": {
    "tags": []
   },
   "outputs": [],
   "source": [
    "def parseCookieFile(cookiefile):\n",
    "    \"\"\"Parse a cookies.txt file and return a dictionary of key value pairs\n",
    "    compatible with requests.\"\"\"\n",
    "\n",
    "    cookies = {}\n",
    "    with open (cookiefile, 'r') as fp:\n",
    "        for line in fp:\n",
    "            if re.match(r'^\\w', line):\n",
    "                lineFields = line.strip().split('\\t')\n",
    "                cookies[lineFields[5]] = lineFields[6]\n",
    "    return cookies\n",
    "\n",
    "\n",
    "def buscar_tag(df, list_usuarios, tag):\n",
    "    \"\"\" \n",
    "    Busca los tks que se encuentran en el dataframe, asociados a los usuarios que se encuentran en la list_usuarios.  \n",
    "    \n",
    "    Args:\n",
    "        df(dataframe): Tks generados en la ticketera.\n",
    "        list_usuarios(list): Lista de usuarios extraidos del reporte de cambios ABM.\n",
    "        tag(str): ('comments' | 'title' | 'Apellido') Lugar en donde se hace la busqueda.\n",
    "    \n",
    "    Return:\n",
    "        lista(list):\n",
    "    \"\"\"\n",
    "    comments = df[tag].items()\n",
    "    tk_comments = []\n",
    "    tk_user = []\n",
    "    \n",
    "    # regla_user = tomo el usuario de la lista.\n",
    "    for regla_user in list_usuarios:\n",
    "\n",
    "        # recorro la lista de titulos de los requerimientos.\n",
    "        for label, content in comments:\n",
    "            \n",
    "            # Busco dentro del titulo el nombre del usuario\n",
    "            if content.find(regla_user) >= 0:\n",
    "                tk_comments.append(label)\n",
    "                tk_user.append(regla_user)\n",
    "            elif content.find(regla_user.capitalize()) >= 0:\n",
    "                tk_comments.append(label)\n",
    "                tk_user.append(regla_user)\n",
    "            elif content.find(regla_user.upper()) >= 0:\n",
    "                tk_comments.append(label)\n",
    "                tk_user.append(regla_user)\n",
    "\n",
    "\n",
    "        comments = df[tag].items()\n",
    "\n",
    "    lista = list(zip(tk_comments,tk_user))\n",
    "    return lista"
   ]
  },
  {
   "cell_type": "markdown",
   "metadata": {
    "jp-MarkdownHeadingCollapsed": true,
    "tags": []
   },
   "source": [
    "## Set de usuarios"
   ]
  },
  {
   "cell_type": "code",
   "execution_count": null,
   "metadata": {
    "tags": []
   },
   "outputs": [],
   "source": [
    "# Importo el reporte sobre las AMB de usuarios\n",
    "abm_usuarios = pd.read_csv(\"CPITAPDC10_-_WIN_-_ABM_de_Usuarios-2024-07-01.csv\")\n",
    "\n",
    "\n",
    "# 4720: A user account was created\n",
    "# 4726: A user account was deleted\n",
    "# 4725: A user account was disabled\n",
    "# 4767: A user account was unlocked\n",
    "lista_usuarios = abm_usuarios[abm_usuarios['EventCode'].isin([4767]) &\n",
    "                                   ~abm_usuarios['Usuario Fuente'].str.startswith('MSOL') &\n",
    "                                   ~abm_usuarios['Usuario Objetivo'].str.endswith('$')]['Usuario Objetivo'].values\n",
    "\n",
    "\n",
    "lista_apellidos = []\n",
    "for i in lista_usuarios:\n",
    "    if i.startswith('e.'):\n",
    "        # print(i[3:])\n",
    "        lista_apellidos.append(i[3:])\n",
    "    else:\n",
    "        # print(i[1:])\n",
    "        lista_apellidos.append(i[1:])\n",
    "        "
   ]
  },
  {
   "cell_type": "markdown",
   "metadata": {
    "jp-MarkdownHeadingCollapsed": true,
    "tags": []
   },
   "source": [
    "### Import lista de tks desde InvGate"
   ]
  },
  {
   "cell_type": "code",
   "execution_count": null,
   "metadata": {
    "tags": []
   },
   "outputs": [],
   "source": [
    "# Importo el reporte de los tk\n",
    "vista_abm_baja = pd.read_csv(\"InvGate_ServiceDesk_-_Requests_List.csv\")\n",
    "# vista_abm_baja.columns\n",
    "\n",
    "# Acoto la lista y me quedo solo con los IDs\n",
    "lista_tks = vista_abm_baja[vista_abm_baja['ID'] > 40000]['ID'].values\n",
    "len(lista_tks)\n",
    "\n",
    "# lista_tks = [41086,40990,40989,41017,40904,40842,40829,40779,40790,40771,40598,40102,40428,\n",
    "             # 40117,40374,40187,40041]    "
   ]
  },
  {
   "cell_type": "markdown",
   "metadata": {
    "jp-MarkdownHeadingCollapsed": true,
    "tags": []
   },
   "source": [
    "## Webscraping"
   ]
  },
  {
   "cell_type": "code",
   "execution_count": null,
   "metadata": {
    "tags": []
   },
   "outputs": [],
   "source": [
    "df1 = pd.DataFrame()\n",
    "cookies = parseCookieFile('cookie_invgate.txt')\n",
    "\n",
    "for id_ in lista_tks:\n",
    "    header = {\n",
    "    'user-agent': 'Mozilla/5.0 (X11; Linux x86_64) AppleWebKit/537.36 (KHTML, like Gecko) Chrome/103.0.0.0 Safari/537.36'\n",
    "    }\n",
    "    #id_ = '29649' \n",
    "    url=f'https://centralpuerto.cloud.invgate.net/incident/show/index/id/{id_}'\n",
    "\n",
    "    response = requests.get(url, headers = header, cookies = cookies)\n",
    "    # En caso de error imprimir por pantalla\n",
    "    # if response.status_code != 200:\n",
    "    #     print(response.status_code)\n",
    "    print(response.status_code)\n",
    "    soup = BeautifulSoup(response.content, 'html.parser')\n",
    "    \n",
    "\n",
    "    # Busco por clase, escribo class_ porque \"class\" es una palabra reservada en Python\n",
    "    eventos_viewtitle = soup.find_all(class_ = 'requestViewTitle')\n",
    "    eventos_title = soup.find_all(class_ = 'itemTitle')\n",
    "    eventos_cont = soup.find_all(class_ = 'itemCont')\n",
    "    eventos_tk = soup.find_all(class_ = 'section-button__text')\n",
    "    eventos_comentarios = soup.find_all(class_ = 'activity-message__text')\n",
    "    \n",
    "    # Guardo los comentarios del tk en una string\n",
    "    comentarios = \" \"\n",
    "    for evento in eventos_comentarios:\n",
    "        comentarios += evento.text\n",
    "    \n",
    "    # Guardo los campos del tk en una lista\n",
    "    atributo = [evento.text for evento in eventos_title]\n",
    "    valor = [evento.text.strip() for evento in eventos_cont]\n",
    "    tk = [evento.text.strip() for evento in eventos_tk]\n",
    "    \n",
    "    # Armo los diccionarios\n",
    "    dict_tk = {tk[0]: comentarios}\n",
    "    lista = dict(zip(atributo,valor))\n",
    "    lista['title'] = eventos_viewtitle[0].text\n",
    "    lista['comments'] = comentarios\n",
    "    \n",
    "    # Armo los dataframes\n",
    "    df2 = pd.DataFrame(lista, index=tk)\n",
    "    df1 = pd.concat([df1,df2])\n",
    "    \n",
    "    time.sleep(1)\n",
    "    \n",
    "df1\n",
    "\n"
   ]
  },
  {
   "cell_type": "code",
   "execution_count": null,
   "metadata": {
    "tags": []
   },
   "outputs": [],
   "source": [
    "df1.tail()"
   ]
  },
  {
   "cell_type": "markdown",
   "metadata": {
    "jp-MarkdownHeadingCollapsed": true,
    "tags": []
   },
   "source": [
    "## Búsqueda"
   ]
  },
  {
   "cell_type": "markdown",
   "metadata": {
    "jp-MarkdownHeadingCollapsed": true,
    "tags": []
   },
   "source": [
    "### Búsqueda por título del tk "
   ]
  },
  {
   "cell_type": "code",
   "execution_count": null,
   "metadata": {
    "tags": []
   },
   "outputs": [],
   "source": [
    "buscar_tag(df1, lista_usuarios, 'title')"
   ]
  },
  {
   "cell_type": "code",
   "execution_count": null,
   "metadata": {
    "tags": []
   },
   "outputs": [],
   "source": [
    "buscar_tag(df1, lista_apellidos, 'title')"
   ]
  },
  {
   "cell_type": "markdown",
   "metadata": {
    "jp-MarkdownHeadingCollapsed": true,
    "tags": []
   },
   "source": [
    "### Búsqueda por los comentarios del tk "
   ]
  },
  {
   "cell_type": "code",
   "execution_count": null,
   "metadata": {
    "tags": []
   },
   "outputs": [],
   "source": [
    "buscar_tag(df1, lista_apellidos, 'comments')"
   ]
  },
  {
   "cell_type": "code",
   "execution_count": null,
   "metadata": {
    "tags": []
   },
   "outputs": [],
   "source": [
    "buscar_tag(df1, lista_usuarios, 'comments')"
   ]
  },
  {
   "cell_type": "markdown",
   "metadata": {
    "jp-MarkdownHeadingCollapsed": true,
    "tags": []
   },
   "source": [
    "### Buscar en los campos personalizados del tk.\n",
    "Este podría sumarse. Hay que tener en cuenta de separar el apellido del formato usuario."
   ]
  },
  {
   "cell_type": "code",
   "execution_count": null,
   "metadata": {
    "tags": []
   },
   "outputs": [],
   "source": [
    "df2 = df1.fillna(\"\")"
   ]
  },
  {
   "cell_type": "code",
   "execution_count": null,
   "metadata": {
    "tags": []
   },
   "outputs": [],
   "source": [
    "buscar_tag(df2, lista_apellidos, 'Apellido')"
   ]
  },
  {
   "cell_type": "markdown",
   "metadata": {
    "id": "TAamvjIDWDIi"
   },
   "source": [
    "# Herramientas útiles\n",
    "- [curl2python](https://curl.trillworks.com/)\n",
    "- [Visualizador de JSONs](http://jsonviewer.stack.hu/)\n",
    "\n",
    "# Recursos útiles\n",
    "- [Tutorial de Indian Pythonista sobre APIs ocultas](https://www.youtube.com/watch?v=twuhocLtGCg)\n",
    "- [Códigos de error HTTP](https://developer.mozilla.org/es/docs/Web/HTTP/Status)"
   ]
  }
 ],
 "metadata": {
  "colab": {
   "provenance": []
  },
  "instance_type": "ml.t3.medium",
  "kernelspec": {
   "display_name": "Python 3 (ipykernel)",
   "language": "python",
   "name": "python3"
  },
  "language_info": {
   "codemirror_mode": {
    "name": "ipython",
    "version": 3
   },
   "file_extension": ".py",
   "mimetype": "text/x-python",
   "name": "python",
   "nbconvert_exporter": "python",
   "pygments_lexer": "ipython3",
   "version": "3.11.5"
  }
 },
 "nbformat": 4,
 "nbformat_minor": 4
}
