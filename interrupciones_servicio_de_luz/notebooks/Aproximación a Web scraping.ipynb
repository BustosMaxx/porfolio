{
 "cells": [
  {
   "cell_type": "markdown",
   "id": "ad498d85",
   "metadata": {},
   "source": [
    "# Obtener información a través del HTML\n",
    "Si seleccionas líneas de la transcripción en esta sección, irás a la marca de tiempo en el vídeo\n",
    "A continuación, vamos a ver cómo podemos usar Beautiful Soup para obtener una cierta información de una página web. Aquí, por ejemplo, vamos a ir a buscar la información correspondiente a las referencias externas. Vamos a intentar obtener la información que aparece aquí y la que aparece aquí. Más concretamente conseguir los enlaces para ir siguiendo todas estas páginas web. Para hacerlo, vamos a cargar esta página, vamos a crear el 'soup' y vamos a mostrar la estructura en árbol. Lo primero que vamos a intentar, y no todo este código va a funcionar correctamente, es encontrar los enlaces externos, que es el título bajo el cual se encontraban algunos de los enlaces. Aquí sencillamente nos muestra el título. Esto no es lo que estábamos buscando. Así que vamos a ir a buscar todos los enlaces. Vamos a encontrar todos aquellos que cuenten con enlaces externos. Y vemos que volvemos a encontrarnos con lo mismo. Podemos usar las funciones de encontrar el elemento siguiente para ver cómo funciona y obtenemos esta información de aquí. Esto es un enlace, pero usaré esta estructura de aquí. Podríamos usarla para ir iterando sobre cuál es el elemento siguiente. Pero no termina de ser la manera más elegante de buscar toda la información que nos interesa. Otra opción que propongo es explorar la función contenido, y vemos que el contenido es sencillamente toda esta parte de aquí que no es código de HTML, que es exactamente esto. Estas aproximaciones que usan las funciones más básicas de Beautiful Soup son bastante más limitadas que realizar un análisis un poco más en profundidad. \n",
    "\n",
    "\n"
   ]
  },
  {
   "cell_type": "code",
   "execution_count": null,
   "id": "293ada0c",
   "metadata": {},
   "outputs": [],
   "source": [
    "cortes = soup.find(id=\"CortesProgramados\")"
   ]
  },
  {
   "cell_type": "code",
   "execution_count": null,
   "id": "1c3a9e5d-e0c5-433d-bedf-d0a14170dd8c",
   "metadata": {},
   "outputs": [],
   "source": [
    "cortes"
   ]
  },
  {
   "cell_type": "code",
   "execution_count": null,
   "id": "009fe872",
   "metadata": {},
   "outputs": [],
   "source": [
    "# pip install beautifulsoup4\n",
    "from bs4 import BeautifulSoup\n",
    "import requests\n",
    "\n",
    "pagina = requests.get(\"https://es.wikipedia.org/wiki/Python\")\n",
    "soup = BeautifulSoup(pagina.content, \"html.parser\")\n",
    "\n",
    "print(soup.prettify())"
   ]
  },
  {
   "cell_type": "code",
   "execution_count": null,
   "id": "3804df74",
   "metadata": {},
   "outputs": [],
   "source": [
    "soup.find(id=\"Enlaces_externos\")"
   ]
  },
  {
   "cell_type": "code",
   "execution_count": null,
   "id": "517c11be",
   "metadata": {},
   "outputs": [],
   "source": [
    "enlaces = soup.find(id=\"Enlaces_externos\")"
   ]
  },
  {
   "cell_type": "code",
   "execution_count": null,
   "id": "25911337",
   "metadata": {},
   "outputs": [],
   "source": [
    "enlaces"
   ]
  },
  {
   "cell_type": "code",
   "execution_count": null,
   "id": "b0cb27ec",
   "metadata": {},
   "outputs": [],
   "source": [
    "enlaces.find_next()"
   ]
  },
  {
   "cell_type": "code",
   "execution_count": null,
   "id": "90a899a1",
   "metadata": {},
   "outputs": [],
   "source": [
    "enlaces.contents"
   ]
  },
  {
   "cell_type": "code",
   "execution_count": null,
   "id": "d06966b6",
   "metadata": {},
   "outputs": [],
   "source": [
    "enlaces = soup.findAll(\"div\",{\"class\":\"listaref\"})"
   ]
  },
  {
   "cell_type": "code",
   "execution_count": null,
   "id": "f261073c",
   "metadata": {},
   "outputs": [],
   "source": [
    "enlaces"
   ]
  },
  {
   "cell_type": "markdown",
   "id": "8752e15c",
   "metadata": {},
   "source": [
    "Es lo que te propongo a continuación. Primero vamos a ver cómo podemos encontrar todos aquellos elementos que estén categorizados con esta etiqueta y que pertenezcan a una cierta clase. En este caso, el listado de referencias. Aquí obtenemos algo que tiene bastante mejor pinta que lo que estábamos obteniendo. Pero, aún así, si lo que nos interesa son los enlaces, aquí aún hay demasiado código. Por ejemplo, vemos que bajo esta etiqueta tenemos enlaces, que es lo que nos interesa conseguir, pero aún hay la referencia, dónde la cita, también hay el nombre y avisos, por ejemplo. Todo esto es información que no queremos, y lo hemos obtenido con esta instrucción de aquí. Y lo que vamos a ver es otro método."
   ]
  },
  {
   "cell_type": "code",
   "execution_count": null,
   "id": "9d4e8411",
   "metadata": {},
   "outputs": [],
   "source": [
    "soup.find_all(\"li\")"
   ]
  },
  {
   "cell_type": "markdown",
   "id": "35a6ec14",
   "metadata": {},
   "source": [
    "Vamos a ver este de aquí primero. Aquí estamos consiguiendo todos los objetos que cuelguen de esta etiqueta de aquí. Esto he ido a explorarlo usando el inspeccionar en la página web original. No son etiquetas que sean globales, sino que esto depende en concreto de cómo está estructurada la Wikipedia en español."
   ]
  },
  {
   "cell_type": "code",
   "execution_count": null,
   "id": "582f3eee",
   "metadata": {},
   "outputs": [],
   "source": [
    "for d in soup.find(\"div\", attrs={\"class\":\"listaref\"}).descendants:\n",
    "    if d.name == \"span\" and d.get(\"class\", \"\") == [\"reference-text\"]:\n",
    "        print(d.text)"
   ]
  },
  {
   "cell_type": "markdown",
   "id": "8eb631a3",
   "metadata": {},
   "source": [
    " Y este código de aquí es más elaborado y lo que estamos encontrando es cada uno de los elementos que encuentre nuestra etiqueta que cumplan, que sean de la clase lista de referencias, buscar todos sus descendientes. Una vez dentro de esta lista, por cada uno de estos elementos vamos a buscar aquellos cuyo nombre sea este, 'span', y que tengan esta clase, que pertenezcan a este grupo. Y vamos a imprimirlos. Aquí ya hemos obtenido algo mucho más útil. Estamos en el apartado de referencias, pero solo estamos obteniendo los \"links\" de aquellas páginas que directamente tenían el \"link\" en la página web. Esto eran enlaces y aquí no los estamos obteniendo. Solamente estamos obteniendo aquellos que directamente estaban escritos. Es decir, este código funciona correctamente, estamos obteniendo la información de las referencias, pero estamos obteniendo directamente el título de la referencia, no el enlace."
   ]
  },
  {
   "cell_type": "code",
   "execution_count": null,
   "id": "b5eef5d0",
   "metadata": {},
   "outputs": [],
   "source": [
    "data = soup.find(\"div\", attrs={\"class\":\"listaref\"})\n",
    "for div in data:\n",
    "    links = div.findAll(\"a\")\n",
    "    for a in links:\n",
    "        if a[\"href\"].startswith(\"http\"):\n",
    "            print(a[\"href\"])\n",
    "    "
   ]
  },
  {
   "cell_type": "markdown",
   "id": "de61f3e0",
   "metadata": {},
   "source": [
    " Y para eso os he puesto aquí un último código, que lo que obtenemos es todos los datos que estén etiquetados así, que pertenezcan a esta clase y, para cada una de estas, vamos a encontrar todos los que estén categorizados con 'a'. 'a' normalmente va asociado a 'links', es decir, enlaces. Y por cada uno de los que haya encontrado aquí, por cada 'a' que encuentre en este objeto, si la hiperreferencia de 'a' empieza con 'http', vamos a imprimirlo. Este código puede parecer muy complicado, pero en realidad solo estamos explorando cada uno de los elementos y, dentro de cada uno de los elementos, cada uno de los elementos. Si ejecutamos esto, obtenemos exactamente lo que estábamos buscando, que es todos los enlaces para cada una de las referencias que teníamos en la página web original. Este tipo de código de aquí está combinando funciones propias de Beautiful Soup con \"loops\" mediante los cuales vamos explorando todos los objetos que nos devuelven estas funciones. Puede parecer muy complejo al principio porque estás trabajando con objetos que son bastante distintos a los que estás acostumbrado con Python. Pero en realidad todo puede explorarse como si fuesen listas. Y ya ves que no estoy utilizando más que dos funciones en particular. Todo lo demás son tratamiento de \"strings\", bucles y condicionales."
   ]
  },
  {
   "cell_type": "code",
   "execution_count": null,
   "id": "46d85aaa",
   "metadata": {},
   "outputs": [],
   "source": [
    "data = soup.find(\"div\", attrs={\"class\":\"listaref\"})\n",
    "#link = data.findAll(\"a\")\n",
    "for div in data:\n",
    "    links = div.findAll(\"a\")\n",
    "    for a in links:\n",
    "        if a[\"href\"].startswith(\"http\"):\n",
    "            print(a[\"href\"])"
   ]
  },
  {
   "cell_type": "markdown",
   "id": "b9fe61a3",
   "metadata": {},
   "source": [
    "Y para eso os he puesto aquí un último código, que lo que obtenemos es todos los datos que estén etiquetados así, que pertenezcan a esta clase y, para cada una de estas, vamos a encontrar todos los que estén categorizados con 'a'. 'a' normalmente va asociado a 'links', es decir, enlaces. Y por cada uno de los que haya encontrado aquí, por cada 'a' que encuentre en este objeto, si la hiperreferencia de 'a' empieza con 'http', vamos a imprimirlo. Este código puede parecer muy complicado, pero en realidad solo estamos explorando cada uno de los elementos y, dentro de cada uno de los elementos, cada uno de los elementos. Si ejecutamos esto, obtenemos exactamente lo que estábamos buscando, que es todos los enlaces para cada una de las referencias que teníamos en la página web original. Este tipo de código de aquí está combinando funciones propias de Beautiful Soup con \"loops\" mediante los cuales vamos explorando todos los objetos que nos devuelven estas funciones. Puede parecer muy complejo al principio porque estás trabajando con objetos que son bastante distintos a los que estás acostumbrado con Python. Pero en realidad todo puede explorarse como si fuesen listas. Y ya ves que no estoy utilizando más que dos funciones en particular. Todo lo demás son tratamiento de \"strings\", bucles y condicionales."
   ]
  },
  {
   "cell_type": "markdown",
   "id": "21af5d87",
   "metadata": {},
   "source": [
    "---\n",
    "# Extracción de texto usando Beautiful Soup\n",
    "Si seleccionas líneas de la transcripción en esta sección, irás a la marca de tiempo en el vídeo\n",
    "Si quieres extraer información textual de una página web para posteriormente realizar un análisis de \"text mining\", en este vídeo voy a mostrarte distintas maneras de cómo puedes hacerlo. Lo primero que tendremos que hacer es cargar toda la información del HTML realizando estas dos funciones y vamos a visualizar qué tipo de información tenemos. Tenemos la estructura en árbol del HTML de la Wikipedia en la entrada de Python. Y aquí vamos a intentar extraer todo lo que corresponde al cuerpo del artículo, es decir, al texto en sí. Una primera aproximación es usar este tipo de estructuras. Por ejemplo, voy a usar el 'sub', voy a extraerle el título y convertirlo en 'string'. Esto funciona correctamente, pero esto solamente es el título. Beautiful Soup nos ofrece esa función que es bastante útil, pero no funciona todo lo exhaustivamente que querríamos. Efectivamente coge texto, pero también nos incorpora algunas cosas que no nos interesan. Por ejemplo, esto claramente no es el texto que estábamos buscando. Más adelante sí que hay texto. Nos incluye también el índice, que no es especialmente interesante si lo que queremos es información textual para procesar. Y aquí ya sí que tenemos más información como la que nos interesa, pero aún hay elementos que no nos interesan. Otra aproximación es ir a buscar el cuerpo del artículo. Aquí tenemos directamente todo el cuerpo con el código asociado. Y podríamos intentar explorar, por ejemplo, los elementos categorizados con 'p'. Es lo que vemos aquí abajo. Obtenemos información. Ciertamente esto es la información que estamos buscando procesar, pero aún no está limpia. Requeriría aún mucho procesamiento. Vamos a hacerlo guardando esta instrucción de aquí. Todo lo que encuentres dentro del cuerpo, todos los elementos categorizados como 'p' y vamos a ver qué tenemos aquí. Tenemos en una lista cada uno de los elementos donde el programa ha detectado que tenemos un párrafo. "
   ]
  },
  {
   "cell_type": "code",
   "execution_count": null,
   "id": "2b0a4539",
   "metadata": {},
   "outputs": [],
   "source": [
    "# pip install beautifulsoup4\n",
    "from bs4 import BeautifulSoup\n",
    "import requests\n",
    "\n",
    "pagina = requests.get(\"https://es.wikipedia.org/wiki/Python\")\n",
    "soup = BeautifulSoup(pagina.content, \"html.parser\")\n",
    "\n",
    "print(soup.prettify())"
   ]
  },
  {
   "cell_type": "code",
   "execution_count": null,
   "id": "372aff50",
   "metadata": {},
   "outputs": [],
   "source": [
    "soup.title.string"
   ]
  },
  {
   "cell_type": "code",
   "execution_count": null,
   "id": "a106b6f4",
   "metadata": {},
   "outputs": [],
   "source": [
    "print(soup.get_text())"
   ]
  },
  {
   "cell_type": "code",
   "execution_count": null,
   "id": "64fd2564",
   "metadata": {},
   "outputs": [],
   "source": [
    "soup.find(\"body\")"
   ]
  },
  {
   "cell_type": "code",
   "execution_count": null,
   "id": "c540489e",
   "metadata": {},
   "outputs": [],
   "source": [
    "elementos = soup.find(\"body\").find_all(\"p\")"
   ]
  },
  {
   "cell_type": "code",
   "execution_count": null,
   "id": "4eac30f0",
   "metadata": {},
   "outputs": [],
   "source": [
    "elementos"
   ]
  },
  {
   "cell_type": "code",
   "execution_count": null,
   "id": "91b6f0eb",
   "metadata": {},
   "outputs": [],
   "source": [
    "import re\n",
    "\n",
    "def limpiarhtml(html):\n",
    "    expresion = re.compile('<.*?>')\n",
    "    texto = re.sub(expresion, \"\", html)\n",
    "    return texto\n",
    "\n"
   ]
  },
  {
   "cell_type": "code",
   "execution_count": null,
   "id": "83987255",
   "metadata": {},
   "outputs": [],
   "source": [
    "for elem in elementos:\n",
    "    print(limpiarhtml(str(elem)))"
   ]
  },
  {
   "cell_type": "markdown",
   "id": "2e031e6b",
   "metadata": {},
   "source": [
    "Vamos a importar un nuevo paquete y a definir una función que va a limpiarnos todo lo que es código HTML. ¿Cómo se limpia el código HTML? Es muy sencillo. Tenemos que decirle que todo lo que encuentre entre estas flechitas nos lo extraiga. Como es una página web, todo esto va a eliminarlo. En principio, no tendría que haber ningún problema, porque una página web no compilaría si uno de estos está abierto pero no cerrado. Así que, lo que vamos a hacer es pedirle que nos extraiga esto y lo sustituya por nada y directamente nos devuelva el texto limpio. Y aquí sencillamente tenemos que ejecutar esta función sobre cada uno de los elementos que hayamos encontrado usando esta función de aquí. Vamos a ver el resultado. Esto es exactamente lo que estábamos buscando, es decir, toda la información textual lista para ser procesada con un modelo. Es importante notar que he tenido que convertir esto a un 'string'. Si no lo hago, Python se va a quejar. Estaba esperando un 'string' y tengo otro tipo de objeto. Es tan sencillo como añadirle aquí esta conversión. El código para obtener la información textual, como has visto, no es especialmente complicado. Sencillamente es darse cuenta de dónde se encuentra, bajo qué etiqueta y definir una función que puedes usarla, y es muy sencilla de crear, para limpiar todo aquello que no nos interesa."
   ]
  },
  {
   "cell_type": "markdown",
   "id": "5f23b7ac",
   "metadata": {},
   "source": [
    "---\n",
    "# Obtención de información no textual\n",
    "Si seleccionas líneas de la transcripción en esta sección, irás a la marca de tiempo en el vídeo\n",
    "Una de las vertientes del \"web scraping\" que más interesantes me parecen personalmente es la obtención de \"links\" para explorar cómo están conectadas las páginas entre ellas. Aquí lo que te voy a mostrar son distintas maneras de obtener estos \"links\" con códigos bastante sencillos. Voy a estar usando esta página web, la entrada de la Wikipedia de Python, y vamos a crear un 'soup' directamente. Y vamos a ver cómo obtener todos los \"links\" de una manera muy sencilla. Primero es, dentro del 'soup', encontrar todos los elementos que estén categorizados con 'a' y que tengan atributo 'hiperreferencia', que cumplan que empieza por 'http'.\n",
    "\n",
    "\n",
    " "
   ]
  },
  {
   "cell_type": "code",
   "execution_count": 1,
   "id": "8daa223f",
   "metadata": {},
   "outputs": [],
   "source": [
    "from bs4 import BeautifulSoup\n",
    "import requests\n",
    "import pandas as pd\n",
    "import numpy as np\n",
    "import matplotlib.pyplot as plt\n",
    "\n",
    "pagina = requests.get(\"https://www.enre.gov.ar/paginacorte/tabla_cortes_edenor.html\")\n",
    "soup = BeautifulSoup(pagina.text, \"html.parser\")\n",
    "\n",
    "\n"
   ]
  },
  {
   "cell_type": "code",
   "execution_count": 116,
   "id": "1c4e6446-b706-4244-a5a1-76ea6aeb77df",
   "metadata": {},
   "outputs": [],
   "source": [
    "import requests\n",
    "\n",
    "headers = {\n",
    "    'Accept': '*/*',\n",
    "    'Accept-Language': 'es-419,es;q=0.9',\n",
    "    'Connection': 'keep-alive',\n",
    "    'If-Modified-Since': 'Mon, 12 Feb 2024 16:42:44 GMT',\n",
    "    'Referer': 'https://www.enre.gov.ar/paginacorte/tabla_cortes_edenor.html',\n",
    "    'Sec-Fetch-Dest': 'script',\n",
    "    'Sec-Fetch-Mode': 'no-cors',\n",
    "    'Sec-Fetch-Site': 'same-origin',\n",
    "    'Sec-GPC': '1',\n",
    "    'User-Agent': 'Mozilla/5.0 (Windows NT 10.0; Win64; x64) AppleWebKit/537.36 (KHTML, like Gecko) Chrome/121.0.0.0 Safari/537.36',\n",
    "    'sec-ch-ua': '\"Not A(Brand\";v=\"99\", \"Brave\";v=\"121\", \"Chromium\";v=\"121\"',\n",
    "    'sec-ch-ua-mobile': '?0',\n",
    "    'sec-ch-ua-platform': '\"Windows\"',\n",
    "}\n",
    "\n",
    "params = ''\n",
    "\n",
    "response = requests.get('https://www.enre.gov.ar/paginacorte/js/data_EDN.js', params=params, headers=headers)"
   ]
  },
  {
   "cell_type": "code",
   "execution_count": 117,
   "id": "69d7acdb-6468-4836-a6c4-b5d28760aed5",
   "metadata": {},
   "outputs": [
    {
     "data": {
      "text/plain": [
       "'application/x-javascript'"
      ]
     },
     "execution_count": 117,
     "metadata": {},
     "output_type": "execute_result"
    }
   ],
   "source": [
    "response.headers['content-type']"
   ]
  },
  {
   "cell_type": "code",
   "execution_count": 118,
   "id": "98f28248-5f28-45d3-939d-270d3f1e175d",
   "metadata": {},
   "outputs": [],
   "source": [
    "import re\n",
    "\n",
    "def limpiarhtml(html, exp_reg):\n",
    "    expresion = re.compile('(?:' + exp_reg +')')\n",
    "    texto = re.sub(expresion, \"\", html)\n",
    "    return texto\n",
    "\n",
    "\n",
    "def sumar_comillas(html, exp_reg):\n",
    "    expresion = re.compile('(?:' + exp_reg +')')\n",
    "    texto = re.sub(expresion, \"\\\"\" + exp_reg + \"\\\"\", html)\n",
    "    return texto\n",
    "\n",
    "def extraccion_campo(html, exp_reg):\n",
    "    texto = re.findall(exp_reg, html)\n",
    "    return texto\n",
    "\n",
    "#tabla = limpiarhtml(response.text)"
   ]
  },
  {
   "cell_type": "code",
   "execution_count": 119,
   "id": "9e3ab5d0-b7f7-4aea-a8a9-184045998c17",
   "metadata": {},
   "outputs": [
    {
     "data": {
      "text/plain": [
       "\"var data = {\\r\\n\\tfuente : 'Web Service',\\r\\n    empresa: 'EDENOR',\\r\\n    totalUsuariosSinSuministro: '4.762',\\r\\n    totalUsuariosConSuministro: '3.305.448',\\r\\n    ultimaActualizacion: '2:05',\\r\\n    totalUsuariosAyer: '41.143',\\r\\n    cortesPreventivos:  [],\\r\\n    cortesProgramados:  [{partido: 'SAN FERNANDO',localidad: 'DELTA 3RA SECCION (SF)',subestacion_alimentador: '- / ',usuarios: '2',normalizacion: 'Sin datos'}],\\r\\n    cortesServicioMedia:  [{partido: 'ESCOBAR',localidad: 'ESCOBAR',subestacion_alimentador: '- / R:MATANZA / 65-TR1 / 65-5517',usuarios: '9',normalizacion: 'Sin datos'},{partido: 'MORENO',localidad: 'LA REJA',subestacion_alimentador: '- / R:LA REJA / 163-TR2 / 163-5527',usuarios: '1777',normalizacion: '2024-02-13 05:00'},{partido: 'TIGRE',localidad: 'DELTA 1RA SECCION (TI)',subestacion_alimentador: '- / R:TIGRE / 153-TR2 / 153-5526',usuarios: '1943',normalizacion: 'Sin datos'},{partido: 'TIGRE',localidad: 'RINCON DE MILBERG',subestacion_alimentador: '- / R:NORDELTA / 156-TR1 / 156-5513',usuarios: '815',normalizacion: 'Sin datos'}],\\r\\n    cortesComunicados:  [],\\r\\n    cortesServicioBaja:  [ {partido: 'CAPITAL FEDERAL', localidad: 'PALERMO', usuarios: '37'}, {partido: 'GRAL RODRIGUEZ', localidad: 'GRAL RODRIGUEZ', usuarios: '4'}, {partido: 'LA MATANZA', localidad: 'RAMOS MEJIA', usuarios: '5'}, {partido: 'MORON', localidad: 'HAEDO', usuarios: '22'}, {partido: 'SAN MIGUEL', localidad: 'BELLA VISTA', usuarios: '1'}, {partido: 'TIGRE', localidad: 'DELTA 1RA SECCION (TI)', usuarios: '138'}, {partido: 'TIGRE', localidad: 'RICARDO ROJAS', usuarios: '9'}]\\r\\n  }\\t\\t\\r\\n\\t\\t\""
      ]
     },
     "execution_count": 119,
     "metadata": {},
     "output_type": "execute_result"
    }
   ],
   "source": [
    "response.text"
   ]
  },
  {
   "cell_type": "markdown",
   "id": "2cc59948",
   "metadata": {},
   "source": [
    "## Encabezados"
   ]
  },
  {
   "cell_type": "code",
   "execution_count": 123,
   "id": "c2d63ad5",
   "metadata": {},
   "outputs": [],
   "source": [
    "#Limpio el texto\n",
    "tabla = response.text.replace(\"\\r\",\"\").replace(\"\\t\",\"\")\n",
    "\n",
    "#Armo una lista de los elementos.\n",
    "tabla = tabla.split(\"\\n\")\n",
    "\n",
    "exp_num = r\"'([0-9\\.]+)\"\n",
    "exp_partido = r\"partido: '([\\w\\s]*)'\"\n",
    "exp_localidad = r\"localidad: '([\\w\\s\\(\\)]*)'\"\n",
    "exp_subestacion_alimentador = r\"subestacion_alimentador: '([:/\\-\\s\\d\\w]*)'\"\n",
    "exp_usuarios = r\"usuarios: '([\\w\\s]*)'\"\n",
    "exp_normalizacion = r\"normalizacion: '([:/\\-\\s\\d\\w]*)'\" \n",
    "\n",
    "#Organizo la info en tablas \n",
    "for i in tabla:\n",
    "    if \"totalUsuariosSinSuministro:\" in i:\n",
    "        totalUsuariosSinSuministro = extraccion_campo(i,exp_num)\n",
    "    if \"totalUsuariosConSuministro:\" in i:\n",
    "        totalUsuariosConSuministro = extraccion_campo(i,exp_num)\n",
    "    if \"cortesPreventivos:\" in i:\n",
    "        partido = extraccion_campo(i,exp_partido)\n",
    "        localidad = extraccion_campo(i,exp_localidad)\n",
    "        alimentador = extraccion_campo(i,exp_subestacion_alimentador)\n",
    "        usuarios = extraccion_campo(i,exp_usuarios)\n",
    "        normalizacion = extraccion_campo(i,exp_normalizacion)\n",
    "        cortesPreventivos = pd.DataFrame(dict({'partido': partido, 'localidad': localidad, 'alimentador':alimentador, \n",
    "                                 'usuarios': usuarios,'normalizacion' : normalizacion}))\n",
    "    if \"cortesProgramados:\" in i:\n",
    "        partido = extraccion_campo(i,exp_partido)\n",
    "        localidad = extraccion_campo(i,exp_localidad)\n",
    "        alimentador = extraccion_campo(i,exp_subestacion_alimentador)\n",
    "        usuarios = extraccion_campo(i,exp_usuarios)\n",
    "        normalizacion = extraccion_campo(i,exp_normalizacion)\n",
    "        cortesProgramados = pd.DataFrame(dict({'partido': partido, 'localidad': localidad, 'alimentador':alimentador,\n",
    "                                               'usuarios': usuarios,'normalizacion' : normalizacion}))\n",
    "    if \"cortesServicioMedia:\" in i:\n",
    "        partido = extraccion_campo(i,exp_partido)\n",
    "        localidad = extraccion_campo(i,exp_localidad)\n",
    "        alimentador = extraccion_campo(i,exp_subestacion_alimentador)\n",
    "        usuarios = extraccion_campo(i,exp_usuarios)\n",
    "        normalizacion = extraccion_campo(i,exp_normalizacion)\n",
    "        cortesServicioMedia = pd.DataFrame(dict({'partido': partido, 'localidad': localidad, 'alimentador':alimentador,\n",
    "                                                 'usuarios': usuarios,'normalizacion' : normalizacion}))\n",
    "        \n",
    "    if \"cortesServicioBaja:\" in i:\n",
    "        partido = extraccion_campo(i,exp_partido)\n",
    "        localidad = extraccion_campo(i,exp_localidad)\n",
    "        usuarios = extraccion_campo(i,exp_usuarios)\n",
    "        cortesServicioBaja = pd.DataFrame(dict({'partido': partido, 'localidad': localidad, 'usuarios': usuarios}))\n",
    "            \n",
    "           "
   ]
  },
  {
   "cell_type": "code",
   "execution_count": 122,
   "id": "7222ceae-e9d8-4f12-ad8c-94776bc0fd6a",
   "metadata": {},
   "outputs": [
    {
     "data": {
      "text/html": [
       "<div>\n",
       "<style scoped>\n",
       "    .dataframe tbody tr th:only-of-type {\n",
       "        vertical-align: middle;\n",
       "    }\n",
       "\n",
       "    .dataframe tbody tr th {\n",
       "        vertical-align: top;\n",
       "    }\n",
       "\n",
       "    .dataframe thead th {\n",
       "        text-align: right;\n",
       "    }\n",
       "</style>\n",
       "<table border=\"1\" class=\"dataframe\">\n",
       "  <thead>\n",
       "    <tr style=\"text-align: right;\">\n",
       "      <th></th>\n",
       "      <th>partido</th>\n",
       "      <th>localidad</th>\n",
       "      <th>alimentador</th>\n",
       "      <th>usuarios</th>\n",
       "      <th>normalizacion</th>\n",
       "    </tr>\n",
       "  </thead>\n",
       "  <tbody>\n",
       "    <tr>\n",
       "      <th>0</th>\n",
       "      <td>ESCOBAR</td>\n",
       "      <td>ESCOBAR</td>\n",
       "      <td>- / R:MATANZA / 65-TR1 / 65-5517</td>\n",
       "      <td>9</td>\n",
       "      <td>Sin datos</td>\n",
       "    </tr>\n",
       "    <tr>\n",
       "      <th>1</th>\n",
       "      <td>MORENO</td>\n",
       "      <td>LA REJA</td>\n",
       "      <td>- / R:LA REJA / 163-TR2 / 163-5527</td>\n",
       "      <td>1777</td>\n",
       "      <td>2024-02-13 05:00</td>\n",
       "    </tr>\n",
       "    <tr>\n",
       "      <th>2</th>\n",
       "      <td>TIGRE</td>\n",
       "      <td>DELTA 1RA SECCION (TI)</td>\n",
       "      <td>- / R:TIGRE / 153-TR2 / 153-5526</td>\n",
       "      <td>1943</td>\n",
       "      <td>Sin datos</td>\n",
       "    </tr>\n",
       "    <tr>\n",
       "      <th>3</th>\n",
       "      <td>TIGRE</td>\n",
       "      <td>RINCON DE MILBERG</td>\n",
       "      <td>- / R:NORDELTA / 156-TR1 / 156-5513</td>\n",
       "      <td>815</td>\n",
       "      <td>Sin datos</td>\n",
       "    </tr>\n",
       "  </tbody>\n",
       "</table>\n",
       "</div>"
      ],
      "text/plain": [
       "   partido               localidad                          alimentador  \\\n",
       "0  ESCOBAR                 ESCOBAR     - / R:MATANZA / 65-TR1 / 65-5517   \n",
       "1   MORENO                 LA REJA   - / R:LA REJA / 163-TR2 / 163-5527   \n",
       "2    TIGRE  DELTA 1RA SECCION (TI)     - / R:TIGRE / 153-TR2 / 153-5526   \n",
       "3    TIGRE       RINCON DE MILBERG  - / R:NORDELTA / 156-TR1 / 156-5513   \n",
       "\n",
       "  usuarios     normalizacion  \n",
       "0        9         Sin datos  \n",
       "1     1777  2024-02-13 05:00  \n",
       "2     1943         Sin datos  \n",
       "3      815         Sin datos  "
      ]
     },
     "execution_count": 122,
     "metadata": {},
     "output_type": "execute_result"
    }
   ],
   "source": [
    "cortesServicioMedia"
   ]
  },
  {
   "cell_type": "code",
   "execution_count": 121,
   "id": "91fbf04e-2925-4e82-b579-97ab2a5d8dd5",
   "metadata": {},
   "outputs": [
    {
     "data": {
      "text/html": [
       "<div>\n",
       "<style scoped>\n",
       "    .dataframe tbody tr th:only-of-type {\n",
       "        vertical-align: middle;\n",
       "    }\n",
       "\n",
       "    .dataframe tbody tr th {\n",
       "        vertical-align: top;\n",
       "    }\n",
       "\n",
       "    .dataframe thead th {\n",
       "        text-align: right;\n",
       "    }\n",
       "</style>\n",
       "<table border=\"1\" class=\"dataframe\">\n",
       "  <thead>\n",
       "    <tr style=\"text-align: right;\">\n",
       "      <th></th>\n",
       "      <th>partido</th>\n",
       "      <th>localidad</th>\n",
       "      <th>usuarios</th>\n",
       "    </tr>\n",
       "  </thead>\n",
       "  <tbody>\n",
       "    <tr>\n",
       "      <th>0</th>\n",
       "      <td>CAPITAL FEDERAL</td>\n",
       "      <td>PALERMO</td>\n",
       "      <td>37</td>\n",
       "    </tr>\n",
       "    <tr>\n",
       "      <th>1</th>\n",
       "      <td>GRAL RODRIGUEZ</td>\n",
       "      <td>GRAL RODRIGUEZ</td>\n",
       "      <td>4</td>\n",
       "    </tr>\n",
       "    <tr>\n",
       "      <th>2</th>\n",
       "      <td>LA MATANZA</td>\n",
       "      <td>RAMOS MEJIA</td>\n",
       "      <td>5</td>\n",
       "    </tr>\n",
       "    <tr>\n",
       "      <th>3</th>\n",
       "      <td>MORON</td>\n",
       "      <td>HAEDO</td>\n",
       "      <td>22</td>\n",
       "    </tr>\n",
       "    <tr>\n",
       "      <th>4</th>\n",
       "      <td>SAN MIGUEL</td>\n",
       "      <td>BELLA VISTA</td>\n",
       "      <td>1</td>\n",
       "    </tr>\n",
       "    <tr>\n",
       "      <th>5</th>\n",
       "      <td>TIGRE</td>\n",
       "      <td>DELTA 1RA SECCION (TI)</td>\n",
       "      <td>138</td>\n",
       "    </tr>\n",
       "    <tr>\n",
       "      <th>6</th>\n",
       "      <td>TIGRE</td>\n",
       "      <td>RICARDO ROJAS</td>\n",
       "      <td>9</td>\n",
       "    </tr>\n",
       "  </tbody>\n",
       "</table>\n",
       "</div>"
      ],
      "text/plain": [
       "           partido               localidad usuarios\n",
       "0  CAPITAL FEDERAL                 PALERMO       37\n",
       "1   GRAL RODRIGUEZ          GRAL RODRIGUEZ        4\n",
       "2       LA MATANZA             RAMOS MEJIA        5\n",
       "3            MORON                   HAEDO       22\n",
       "4       SAN MIGUEL             BELLA VISTA        1\n",
       "5            TIGRE  DELTA 1RA SECCION (TI)      138\n",
       "6            TIGRE           RICARDO ROJAS        9"
      ]
     },
     "execution_count": 121,
     "metadata": {},
     "output_type": "execute_result"
    }
   ],
   "source": [
    "cortesServicioBaja"
   ]
  },
  {
   "cell_type": "markdown",
   "id": "415e625f",
   "metadata": {},
   "source": [
    "## Datos"
   ]
  },
  {
   "cell_type": "code",
   "execution_count": null,
   "id": "78ffc9b5",
   "metadata": {},
   "outputs": [],
   "source": [
    "aux = tabla_IDH.find_all(\"td\")\n",
    "lista_datos = [i.get_text()[:-1] if \"\\n\" in i.get_text() else i.get_text() for i in aux]"
   ]
  },
  {
   "cell_type": "code",
   "execution_count": null,
   "id": "e6daa969",
   "metadata": {},
   "outputs": [],
   "source": [
    "valores = np.array(lista_datos)\n",
    "valores.shape = (20, len(encabezado))"
   ]
  },
  {
   "cell_type": "code",
   "execution_count": null,
   "id": "dbf73b31",
   "metadata": {},
   "outputs": [],
   "source": [
    "Puesto = [i[0] for i in valores]\n",
    "Puesto"
   ]
  },
  {
   "cell_type": "code",
   "execution_count": null,
   "id": "18f5647f",
   "metadata": {},
   "outputs": [],
   "source": [
    "df = pd.DataFrame(valores, index=Puesto, columns=encabezado)\n",
    "del df[\"Puesto\"]\n",
    "df"
   ]
  },
  {
   "cell_type": "code",
   "execution_count": null,
   "id": "e4ab2c65",
   "metadata": {},
   "outputs": [],
   "source": [
    "df[\"IDH según datos del 2021\"] = df[\"IDH según datos del 2021\"].apply(str.strip)\n",
    "df[\"IDH según datos del 2021\"] = df[\"IDH según datos del 2021\"].str.replace(\",\", \".\")\n",
    "df[\"IDH según datos del 2021\"] = df[\"IDH según datos del 2021\"].astype(\"float64\")\n",
    "df[\"IDH según datos del 2019\"] = df[\"IDH según datos del 2019\"].apply(str.strip)\n",
    "df[\"IDH según datos del 2019\"] = df[\"IDH según datos del 2019\"].str.replace(\",\", \".\")\n",
    "df[\"IDH según datos del 2019\"] = df[\"IDH según datos del 2019\"].astype(\"float64\")\n",
    "df[\"Crecimiento\"] = df[\"Crecimiento\"].apply(str.strip)\n",
    "df[\"Crecimiento\"] = df[\"Crecimiento\"].str.replace(\",\", \".\")\n",
    "df[\"Crecimiento\"] = df[\"Crecimiento\"].astype(\"float64\")\n",
    "df.info()"
   ]
  },
  {
   "cell_type": "markdown",
   "id": "3e6160c3",
   "metadata": {},
   "source": [
    "# Regresión lineal"
   ]
  },
  {
   "cell_type": "code",
   "execution_count": null,
   "id": "321c07b2",
   "metadata": {},
   "outputs": [],
   "source": [
    "X = df[[\"IDH según datos del 2019\", \"IDH según datos del 2021\"]] # si no los paso con doble corchete en el predic tira error.\n",
    "Y = df.Crecimiento\n",
    "X_train, X_test, y_train, y_test = train_test_split(X,Y, test_size=0.2, random_state=10) #validación 80%(train) 20%(test)"
   ]
  },
  {
   "cell_type": "code",
   "execution_count": null,
   "id": "27e3e015",
   "metadata": {},
   "outputs": [],
   "source": [
    "X"
   ]
  },
  {
   "cell_type": "code",
   "execution_count": null,
   "id": "6fefc451",
   "metadata": {},
   "outputs": [],
   "source": [
    "regr = linear_model.LinearRegression()\n",
    "regr.fit(X_train, y_train) # entrenamiento\n",
    "\n",
    "print(\"Coeficientes:\", regr.coef_) # valor de las betas\n",
    "Y_pred = regr.predict(X) # prediccion\n",
    "print(\"R cuadrado:\", r2_score(Y,Y_pred)) #R cuadrado"
   ]
  },
  {
   "cell_type": "markdown",
   "id": "2e6dcf98",
   "metadata": {},
   "source": [
    "## Gráfico"
   ]
  },
  {
   "cell_type": "code",
   "execution_count": null,
   "id": "2313d0e4",
   "metadata": {},
   "outputs": [],
   "source": [
    "plt.scatter(X, Y, color=\"black\")\n",
    "plt.plot(X, Y_pred, color=\"blue\")\n",
    "plt.show()"
   ]
  },
  {
   "cell_type": "code",
   "execution_count": null,
   "id": "aa924ba2",
   "metadata": {},
   "outputs": [],
   "source": []
  }
 ],
 "metadata": {
  "kernelspec": {
   "display_name": "Python 3 (ipykernel)",
   "language": "python",
   "name": "python3"
  },
  "language_info": {
   "codemirror_mode": {
    "name": "ipython",
    "version": 3
   },
   "file_extension": ".py",
   "mimetype": "text/x-python",
   "name": "python",
   "nbconvert_exporter": "python",
   "pygments_lexer": "ipython3",
   "version": "3.10.9"
  }
 },
 "nbformat": 4,
 "nbformat_minor": 5
}
