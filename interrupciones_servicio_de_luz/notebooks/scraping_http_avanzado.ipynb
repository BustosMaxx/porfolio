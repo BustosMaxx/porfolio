{
 "cells": [
  {
   "cell_type": "markdown",
   "metadata": {
    "id": "YbltOBlVWDIZ"
   },
   "source": [
    "# Encontrando APIs ocultas\n",
    "\n",
    "Cuando una compañia desarrolla un sitio web muchas veces separa lo que se dice el _frontend_, que es la parte visible del sitio y la cual se ejecuta en tu navegador, del _backend_, la parte del sitio que realiza el computo mas pesado y se ejecuta en servidores/computadoras de la compañia.\n",
    "\n",
    "Para comunicar el _backend_ con el _frontend_ una forma popular es desarrollar REST APIs, a veces estas son públicas pero a veces están ocultas y las utilizamos sin darnos cuenta cuando interactuamos con un sitio web.\n",
    "\n",
    "Ejemplo de un sitio web y su API: http://numbersapi.com/\n",
    "\n",
    "Hoy veremos como encontrarlas y utilizarlas para extraer datos de forma cómoda"
   ]
  },
  {
   "cell_type": "markdown",
   "metadata": {
    "id": "-_mZyv8SWDIb"
   },
   "source": [
    "## Ejemplo 1: Precio del dólar\n",
    "\n",
    "Para este primer ejemplo veremos como encontrar una API oculta en https://www.ambito.com/.\n",
    "\n",
    "Luego veremos como utilizarla de 3 maneras:\n",
    "1. Desde el navegador\n",
    "2. Con cURL (Un programa de linea de comandos para transferir datos de internet)\n",
    "3. Con Python"
   ]
  },
  {
   "cell_type": "markdown",
   "metadata": {
    "id": "jnUvD8TUWDIc"
   },
   "source": [
    "### Método utilizando python\n",
    "1. Entramos al sitio: https://www.ambito.com/contenidos/dolar-informal.html\n",
    "2. Vamos a _Inspeccionar_ ( ctrl+shift+i )\n",
    "3. Vamos a la solapa _Network_ y seleccionamos XHR (El tipo de paquete que utilizan las APIs)\n",
    "4. Recargamos el sitio y nos ponemos a revisar el _Response_ de cada paquete hasta encontrar cual contiene la información que buscamos\n",
    "5. Copiamos el comando cURL necesario para consultarla\n",
    "6. Utilizamos [curl.trillworks.com](https://curl.trillworks.com)  [curlconverter.com](https://curlconverter.com/) para armar el request con código python y queda algo así"
   ]
  },
  {
   "cell_type": "code",
   "execution_count": null,
   "metadata": {
    "colab": {
     "base_uri": "https://localhost:8080/"
    },
    "id": "jawgGIYzWDIc",
    "outputId": "efa5f013-1710-4557-e69a-f8c4cc403d1e",
    "tags": []
   },
   "outputs": [],
   "source": [
    "import requests\n",
    "\n",
    "response = requests.get('https://mercados.ambito.com//dolar/informal/grafico/semanal')\n",
    "\n",
    "# Si los datos son provistos en formato JSON podemos utilizar el metodo .json() para acceder a ellos.\n",
    "response.json()"
   ]
  },
  {
   "cell_type": "code",
   "execution_count": null,
   "metadata": {
    "colab": {
     "base_uri": "https://localhost:8080/"
    },
    "id": "jawgGIYzWDIc",
    "outputId": "efa5f013-1710-4557-e69a-f8c4cc403d1e",
    "tags": []
   },
   "outputs": [],
   "source": [
    "import requests\n",
    "from http.cookiejar import MozillaCookieJar\n",
    "from pathlib import Path\n",
    "\n",
    "cookies_path = \"cookie_google.txt\"\n",
    "cookies = MozillaCookieJar(cookies_path)\n",
    "cookies.load()\n",
    "\n",
    "\n",
    "import requests\n",
    "\n",
    "# cookies = {\n",
    "#     'COMPASS': 'dynamite-ui=CgAQyeDGqAYaXgAJa4lX0HgsNiXRxp6hKlQfh7n_oZcoHItAOWqkBu0ByXLVgnORZLLGF0hGcl3nzaYNN63ADrclJvgaEJSGuCRI3cyVfUUoWKi8emkb0LAEvHx0KezwSSfX4eIxSzIgAQ:dynamite=CgAQ86XlqgYagAEACWuJVzEkhXJg7HxzY12r5KR_qp_Qc02vBAoT-UZFiInrrfqeoIjCm0iyDFOVUTVUbrZz_gbJNybXz5D0jBmU3HzF0ZVg76TLlpAUe2-NfCpojfkA6lSmeqaoXvqogexE2wXr7bATNGOrj9yHK0synJBY9hH3WcHlhxtzu4X--zAB',\n",
    "#     'HSID': 'AJ1ZFeYJe0mNFCV90',\n",
    "#     'SSID': 'Abi1iakV0ZiUULYAx',\n",
    "#     'APISID': 'mYGpK6ebYVUkCzQB/A2VogE_ssyMSIeS0m',\n",
    "#     'SAPISID': 'ryZjaHO0IfkCmtDk/AxfySCWGXKoKrp29r',\n",
    "#     '__Secure-1PAPISID': 'ryZjaHO0IfkCmtDk/AxfySCWGXKoKrp29r',\n",
    "#     '__Secure-3PAPISID': 'ryZjaHO0IfkCmtDk/AxfySCWGXKoKrp29r',\n",
    "#     'SID': 'cQi2GhW-wKvRhg6msLF0bR5ldJKSMSECtFCYR5awhqCU6SiclNAnhfIDIhhSppeQyqYFow.',\n",
    "#     '__Secure-1PSID': 'cQi2GhW-wKvRhg6msLF0bR5ldJKSMSECtFCYR5awhqCU6Sic-P0Zy7P6cSaQsyH3RkH7pQ.',\n",
    "#     '__Secure-3PSID': 'cQi2GhW-wKvRhg6msLF0bR5ldJKSMSECtFCYR5awhqCU6Sic_LUWcbAGcK0alyCFk2HtSg.',\n",
    "#     'OSID': 'cQi2GjOE5RiPggl4R_My99WAywm7qYGgeFVwdRL2Wdn_G6z86HmRyLSE03jELAPl_rk3Jg.',\n",
    "#     '__Secure-OSID': 'cQi2GjOE5RiPggl4R_My99WAywm7qYGgeFVwdRL2Wdn_G6z8z1km2Crld0b7_wbrtPlwqA.',\n",
    "#     'SEARCH_SAMESITE': 'CgQI0JkB',\n",
    "#     'NID': '511=lb7766ksU9YKPmui0gSifGQCvKjO83NdBy-GUd7Z6pi4fldsFBt9E9t-4ZnYI-tWe9tU5yvt32yqv8m1VdjPESeqyMzDyFx8IhmcwfQnZ1wcp9XUdmq-rdEakG9YgIgG9Hm2ErEfWEw6W5XcBnDAhVXZWGsunKOLFJNWZ7IhAO8oDJ7hfurOu6X151U_iIjngucSeMLAdkv7ZySPzpV_V9PhMJorteLUdHqdtnIO0tPvpAwjkWeTMWoIHlgvcxCEDZvEegP1IBo-pxIjDMP6UeoDfA2t4orHZRThdg7YrlyN5OX0ttJujkhXcFguZU_9D0RrhU4e56nJA9Gx_1F8OkFbeIgAlnN6SLBc_lHz7YUDbMAINBVfWpuZ3lFHhGD8RdcLdnJr2HMEtAtUxt9o44M4_TcDNfkym-bq8QJ89fOB-TbKvmoqGUfB7rdLMfMgWcTkiM6HG4KfesJQ_HvylYrfOYc1thM0uD8MJuRYUxHvhNIrm_DeJvaZrg1X86QdM5XJ-LVAUC8bClS-tPVW9VmKQYDDbzv7eTRcXpzsroKCcKbHXWQ8_GnYut75cLNG_SMFKj9ihMgdh9JTq-r2tNcDU9Q9-o2attsHfg_-ozkBmTup9eF8GqiDJqpGQLKwLg',\n",
    "#     'AEC': 'Ackid1TjrCnsmmOjaOODiZDjc1CqkbAiCrLTUtoG1sBYoDXOG-Au8gRfXuI',\n",
    "#     '__Secure-ENID': '16.SE=DBA8KmmkUMCCcJS2n-4TdcuD509aiOzmlUCQPH2Szgh8R8XnGM9jJH2v7yz4vCGUu0_3l05CsE_ggii4SgjGoVh7ah0whym7W0gEHp7RaegnsGEPUX7A2AVzkamRVeVlk4viAdB7fpXJFJemb8v0LGmg91Xs0r-Z4ukMdO0UxCToYi2ygFyHAN4dciCDx_sCNKxp9WWe9ZjhIBPM0rIXrDP4AHSKHqDJCCzv_1_Wqv5u6MhnvFHEO8FxpC2ePMFBzYjUQC8IY05J6qNNoh0dhQZkYkdWgSOCALDThe6mjBsssw3uR6A',\n",
    "#     '1P_JAR': '2023-11-14-11',\n",
    "#     'OTZ': '7300143_68_68__68_',\n",
    "#     '__Secure-1PSIDTS': 'sidts-CjEBNiGH7h3E5Qa68l3zTgJpKbE0FvpA7pdGZtVdigmeSkhCzjSOwad2x9UTv3TfD6a3EAA',\n",
    "#     '__Secure-3PSIDTS': 'sidts-CjEBNiGH7h3E5Qa68l3zTgJpKbE0FvpA7pdGZtVdigmeSkhCzjSOwad2x9UTv3TfD6a3EAA',\n",
    "#     'COMPASS': 'dynamite-ui=CgAQtqXlqgYaZwAJa4lXD3LGdo_l3zuYeaM21FtcCMEhuf_frE3kuyC1q9j8LmBVTqFMnxxQxCLBYa5I1uckACzpQtAysqxp_7L49h-UvUJbRLA1_KOWBoosy8bo5TWuzU-YMFNnvb5fSRUL5sED4mIgAQ:dynamite-frontend=CgAQ9aXlqgYaZgAJa4lXLZU_DTAN62zeWVaOPfaG5WJaZ6yexCDKLq5xqLMof1jbqpvCV0KJ_xSXk_EHN4WELuEJCUJbnKgIQhf7N8TEY_ZsZDf-L3Z5-zjTZkahfajeLhD_KtEUDqy_mq7ZB29n1DAB',\n",
    "#     'SIDCC': 'ACA-OxPERiBG5iXVtWvFQgZnWY0wlgAuCHHs3w_7vE5kQOYdh736WLhBbadeY3lG0W-9cqPvDav-',\n",
    "#     '__Secure-1PSIDCC': 'ACA-OxMzWBscTr8Ih2OqqeHFgHzfb4RHbGao31R4w2F5KgvY6MUh8CDVo2MLRbYyoniNZ0dRsmay',\n",
    "#     '__Secure-3PSIDCC': 'ACA-OxMuci9VZBMbKttsbrc-htd3IcLCQdCKb2akOqGtJI7MfTteqVzbJ8RM-ZpekAyLWifDBjU',\n",
    "# }\n",
    "\n",
    "header = {\n",
    "    'user-agent': 'Mozilla/5.0 (X11; Linux x86_64) AppleWebKit/537.36 (KHTML, like Gecko) Chrome/103.0.0.0 Safari/537.36'\n",
    "}\n",
    "\n",
    "\n",
    "\n",
    "\n",
    "response = requests.get(\"https://mail.google.com/mail/u/0/#inbox\", headers = header, cookies = cookies)"
   ]
  },
  {
   "cell_type": "code",
   "execution_count": null,
   "metadata": {},
   "outputs": [],
   "source": [
    "response.text"
   ]
  },
  {
   "cell_type": "markdown",
   "metadata": {
    "id": "ygsIxo1pWDIe"
   },
   "source": [
    "## Mejorando el código\n",
    "\n",
    "Analizando la API se puede ver que tiene al menos un parámetro modificables, el periodo.\n",
    "\n",
    "Podemos poner todo dentro de una función que extraiga los precios del dolar para un perioro determinado. De esta forma será más facil de usar y no necesitemos repetir el código."
   ]
  },
  {
   "cell_type": "code",
   "execution_count": null,
   "metadata": {
    "id": "9hsw76yLDSUc"
   },
   "outputs": [],
   "source": [
    "import requests\n",
    "\n",
    "def obtener_valor_dolar_blue(periodo):\n",
    "  \"\"\"Devuelve valor del dólar blue obteniéndolo de la API oculta de ambito.com\n",
    "\n",
    "  periodo (str) -> Puede ser semana, mensual o anual.\n",
    "  \"\"\"\n",
    "  headers = {\n",
    "      'authority': 'mercados.ambito.com',\n",
    "      'accept': '*/*',\n",
    "      'accept-language': 'en-US,en;q=0.9,es-US;q=0.8,es;q=0.7',\n",
    "      'origin': 'https://www.ambito.com',\n",
    "      'referer': 'https://www.ambito.com/',\n",
    "      'sec-ch-ua': '\".Not/A)Brand\";v=\"99\", \"Google Chrome\";v=\"103\", \"Chromium\";v=\"103\"',\n",
    "      'sec-ch-ua-mobile': '?0',\n",
    "      'sec-ch-ua-platform': '\"Linux\"',\n",
    "      'sec-fetch-dest': 'empty',\n",
    "      'sec-fetch-mode': 'cors',\n",
    "      'sec-fetch-site': 'same-site',\n",
    "      'user-agent': 'Mozilla/5.0 (X11; Linux x86_64) AppleWebKit/537.36 (KHTML, like Gecko) Chrome/103.0.0.0 Safari/537.36',\n",
    "  }\n",
    "\n",
    "  response = requests.get(f'https://mercados.ambito.com//dolar/informal/grafico/{periodo}', headers=headers)\n",
    "\n",
    "  return response.json()\n",
    "\n",
    "data = obtener_valor_dolar_blue('mensual')"
   ]
  },
  {
   "cell_type": "code",
   "execution_count": null,
   "metadata": {
    "colab": {
     "base_uri": "https://localhost:8080/",
     "height": 668
    },
    "id": "NvqXcelXDbFz",
    "outputId": "b00f8420-9fae-4dff-f029-78be050948f5"
   },
   "outputs": [],
   "source": [
    "# Cargo datos en un DataFrame y grafico\n",
    "import pandas as pd\n",
    "import plotly.express as px\n",
    "\n",
    "df = pd.DataFrame(data)\n",
    "df.columns = df.iloc[0]\n",
    "df = df[1:]\n",
    "\n",
    "display(df.head(3))\n",
    "\n",
    "fig = px.line(df, x='fecha', y='Dólar Informal')\n",
    "fig.show()"
   ]
  },
  {
   "cell_type": "markdown",
   "metadata": {
    "id": "JO58sZHIWDIf"
   },
   "source": [
    "## Ejercicio de Estación Meteorológica\n",
    "\n",
    "Conseguir los datos de la altura del río de las últimas 12 horas de la estación meteorológica Palermo: https://www.aysa.com.ar/Que-Hacemos/estaciones-meteorologicas/datos#"
   ]
  },
  {
   "cell_type": "code",
   "execution_count": null,
   "metadata": {
    "id": "Ldaf6e4_WDIg"
   },
   "outputs": [],
   "source": [
    "import requests\n",
    "\n",
    "response = requests.get('https://www.aysa.com.ar/api/estaciones/getVariablesEstacionesHistorico/82E52984-F07F-4F84-9E6B-17E7F85D7478').json()\n",
    "niveles_rio = [float(nivel) for nivel in response[\"variables\"][\"NivelRio\"]]"
   ]
  },
  {
   "cell_type": "markdown",
   "metadata": {
    "id": "mCYHNvv_WDIg"
   },
   "source": [
    "#### Usemos lo hecho para calcular las frecuencia de cada hashtag"
   ]
  },
  {
   "cell_type": "code",
   "execution_count": null,
   "metadata": {
    "colab": {
     "base_uri": "https://localhost:8080/",
     "height": 206
    },
    "id": "rffp4MJ5WDIg",
    "outputId": "33e645d0-efed-46d7-f17c-f7e16345be58"
   },
   "outputs": [],
   "source": [
    "import pandas as pd\n",
    "\n",
    "data = pd.DataFrame(niveles_rio,columns=[\"Niveles del rio (metros)\"])\n",
    "data.head()"
   ]
  },
  {
   "cell_type": "code",
   "execution_count": null,
   "metadata": {
    "colab": {
     "base_uri": "https://localhost:8080/",
     "height": 283
    },
    "id": "d1rEpllFWDIh",
    "outputId": "9d94cb8f-7171-46ac-f162-4f43352b66d1"
   },
   "outputs": [],
   "source": [
    "data.plot()"
   ]
  },
  {
   "cell_type": "markdown",
   "metadata": {
    "id": "TAamvjIDWDIi"
   },
   "source": [
    "# Herramientas útiles\n",
    "- [curl2python](https://curl.trillworks.com/)\n",
    "- [Visualizador de JSONs](http://jsonviewer.stack.hu/)\n",
    "\n",
    "# Recursos útiles\n",
    "- [Tutorial de Indian Pythonista sobre APIs ocultas](https://www.youtube.com/watch?v=twuhocLtGCg)"
   ]
  }
 ],
 "metadata": {
  "colab": {
   "provenance": []
  },
  "instance_type": "ml.t3.medium",
  "kernelspec": {
   "display_name": "Python 3 (ipykernel)",
   "language": "python",
   "name": "python3"
  },
  "language_info": {
   "codemirror_mode": {
    "name": "ipython",
    "version": 3
   },
   "file_extension": ".py",
   "mimetype": "text/x-python",
   "name": "python",
   "nbconvert_exporter": "python",
   "pygments_lexer": "ipython3",
   "version": "3.10.9"
  }
 },
 "nbformat": 4,
 "nbformat_minor": 4
}
