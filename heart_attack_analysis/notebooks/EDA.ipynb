{
 "cells": [
  {
   "cell_type": "markdown",
   "metadata": {
    "id": "P8BeecjV6tw1"
   },
   "source": [
    "# EDA - Analisis de datos exploratorio\n",
    "\n"
   ]
  },
  {
   "cell_type": "markdown",
   "metadata": {
    "id": "zBvcozaj82jg"
   },
   "source": [
    "## Planteo del Problema\n",
    "El problema que vamos a tratar de resolver es de **predecir** un **heart attack** en un **adulto**.\n",
    "\n",
    "## Conjunto de datos\n",
    "Los datos provienen de la página  [Kaggle: Heart Attack Analysis & Prediction Dataset](https://www.kaggle.com/datasets/rashikrahmanpritom/heart-attack-analysis-prediction-dataset)"
   ]
  },
  {
   "cell_type": "code",
   "execution_count": 1,
   "metadata": {
    "id": "ASPaRaWD5rCP"
   },
   "outputs": [],
   "source": [
    "import pandas as pd\n",
    "import numpy as np\n",
    "import matplotlib.pyplot as plt\n",
    "import seaborn as sns\n",
    "# import time\n",
    "# from itertools import cycle\n",
    "# import warnings\n",
    "# warnings.filterwarnings('ignore')\n"
   ]
  },
  {
   "cell_type": "code",
   "execution_count": 2,
   "metadata": {
    "id": "jJaiO5t7UEZy"
   },
   "outputs": [],
   "source": [
    "#definimos la semilla\n",
    "semilla = 42"
   ]
  },
  {
   "cell_type": "code",
   "execution_count": 3,
   "metadata": {
    "colab": {
     "base_uri": "https://localhost:8080/",
     "height": 989
    },
    "id": "YlAjSZ3M70vl",
    "outputId": "1af3de12-54ac-416c-a1f7-2ed4e85bb142"
   },
   "outputs": [
    {
     "data": {
      "text/html": [
       "<div>\n",
       "<style scoped>\n",
       "    .dataframe tbody tr th:only-of-type {\n",
       "        vertical-align: middle;\n",
       "    }\n",
       "\n",
       "    .dataframe tbody tr th {\n",
       "        vertical-align: top;\n",
       "    }\n",
       "\n",
       "    .dataframe thead th {\n",
       "        text-align: right;\n",
       "    }\n",
       "</style>\n",
       "<table border=\"1\" class=\"dataframe\">\n",
       "  <thead>\n",
       "    <tr style=\"text-align: right;\">\n",
       "      <th></th>\n",
       "      <th>age</th>\n",
       "      <th>sex</th>\n",
       "      <th>cp</th>\n",
       "      <th>trtbps</th>\n",
       "      <th>chol</th>\n",
       "      <th>fbs</th>\n",
       "      <th>restecg</th>\n",
       "      <th>thalachh</th>\n",
       "      <th>exng</th>\n",
       "      <th>oldpeak</th>\n",
       "      <th>slp</th>\n",
       "      <th>caa</th>\n",
       "      <th>thall</th>\n",
       "      <th>output</th>\n",
       "    </tr>\n",
       "  </thead>\n",
       "  <tbody>\n",
       "    <tr>\n",
       "      <th>0</th>\n",
       "      <td>63</td>\n",
       "      <td>1</td>\n",
       "      <td>3</td>\n",
       "      <td>145</td>\n",
       "      <td>233</td>\n",
       "      <td>1</td>\n",
       "      <td>0</td>\n",
       "      <td>150</td>\n",
       "      <td>0</td>\n",
       "      <td>2.3</td>\n",
       "      <td>0</td>\n",
       "      <td>0</td>\n",
       "      <td>1</td>\n",
       "      <td>1</td>\n",
       "    </tr>\n",
       "    <tr>\n",
       "      <th>1</th>\n",
       "      <td>37</td>\n",
       "      <td>1</td>\n",
       "      <td>2</td>\n",
       "      <td>130</td>\n",
       "      <td>250</td>\n",
       "      <td>0</td>\n",
       "      <td>1</td>\n",
       "      <td>187</td>\n",
       "      <td>0</td>\n",
       "      <td>3.5</td>\n",
       "      <td>0</td>\n",
       "      <td>0</td>\n",
       "      <td>2</td>\n",
       "      <td>1</td>\n",
       "    </tr>\n",
       "    <tr>\n",
       "      <th>2</th>\n",
       "      <td>41</td>\n",
       "      <td>0</td>\n",
       "      <td>1</td>\n",
       "      <td>130</td>\n",
       "      <td>204</td>\n",
       "      <td>0</td>\n",
       "      <td>0</td>\n",
       "      <td>172</td>\n",
       "      <td>0</td>\n",
       "      <td>1.4</td>\n",
       "      <td>2</td>\n",
       "      <td>0</td>\n",
       "      <td>2</td>\n",
       "      <td>1</td>\n",
       "    </tr>\n",
       "    <tr>\n",
       "      <th>3</th>\n",
       "      <td>56</td>\n",
       "      <td>1</td>\n",
       "      <td>1</td>\n",
       "      <td>120</td>\n",
       "      <td>236</td>\n",
       "      <td>0</td>\n",
       "      <td>1</td>\n",
       "      <td>178</td>\n",
       "      <td>0</td>\n",
       "      <td>0.8</td>\n",
       "      <td>2</td>\n",
       "      <td>0</td>\n",
       "      <td>2</td>\n",
       "      <td>1</td>\n",
       "    </tr>\n",
       "    <tr>\n",
       "      <th>4</th>\n",
       "      <td>57</td>\n",
       "      <td>0</td>\n",
       "      <td>0</td>\n",
       "      <td>120</td>\n",
       "      <td>354</td>\n",
       "      <td>0</td>\n",
       "      <td>1</td>\n",
       "      <td>163</td>\n",
       "      <td>1</td>\n",
       "      <td>0.6</td>\n",
       "      <td>2</td>\n",
       "      <td>0</td>\n",
       "      <td>2</td>\n",
       "      <td>1</td>\n",
       "    </tr>\n",
       "    <tr>\n",
       "      <th>...</th>\n",
       "      <td>...</td>\n",
       "      <td>...</td>\n",
       "      <td>...</td>\n",
       "      <td>...</td>\n",
       "      <td>...</td>\n",
       "      <td>...</td>\n",
       "      <td>...</td>\n",
       "      <td>...</td>\n",
       "      <td>...</td>\n",
       "      <td>...</td>\n",
       "      <td>...</td>\n",
       "      <td>...</td>\n",
       "      <td>...</td>\n",
       "      <td>...</td>\n",
       "    </tr>\n",
       "    <tr>\n",
       "      <th>298</th>\n",
       "      <td>57</td>\n",
       "      <td>0</td>\n",
       "      <td>0</td>\n",
       "      <td>140</td>\n",
       "      <td>241</td>\n",
       "      <td>0</td>\n",
       "      <td>1</td>\n",
       "      <td>123</td>\n",
       "      <td>1</td>\n",
       "      <td>0.2</td>\n",
       "      <td>1</td>\n",
       "      <td>0</td>\n",
       "      <td>3</td>\n",
       "      <td>0</td>\n",
       "    </tr>\n",
       "    <tr>\n",
       "      <th>299</th>\n",
       "      <td>45</td>\n",
       "      <td>1</td>\n",
       "      <td>3</td>\n",
       "      <td>110</td>\n",
       "      <td>264</td>\n",
       "      <td>0</td>\n",
       "      <td>1</td>\n",
       "      <td>132</td>\n",
       "      <td>0</td>\n",
       "      <td>1.2</td>\n",
       "      <td>1</td>\n",
       "      <td>0</td>\n",
       "      <td>3</td>\n",
       "      <td>0</td>\n",
       "    </tr>\n",
       "    <tr>\n",
       "      <th>300</th>\n",
       "      <td>68</td>\n",
       "      <td>1</td>\n",
       "      <td>0</td>\n",
       "      <td>144</td>\n",
       "      <td>193</td>\n",
       "      <td>1</td>\n",
       "      <td>1</td>\n",
       "      <td>141</td>\n",
       "      <td>0</td>\n",
       "      <td>3.4</td>\n",
       "      <td>1</td>\n",
       "      <td>2</td>\n",
       "      <td>3</td>\n",
       "      <td>0</td>\n",
       "    </tr>\n",
       "    <tr>\n",
       "      <th>301</th>\n",
       "      <td>57</td>\n",
       "      <td>1</td>\n",
       "      <td>0</td>\n",
       "      <td>130</td>\n",
       "      <td>131</td>\n",
       "      <td>0</td>\n",
       "      <td>1</td>\n",
       "      <td>115</td>\n",
       "      <td>1</td>\n",
       "      <td>1.2</td>\n",
       "      <td>1</td>\n",
       "      <td>1</td>\n",
       "      <td>3</td>\n",
       "      <td>0</td>\n",
       "    </tr>\n",
       "    <tr>\n",
       "      <th>302</th>\n",
       "      <td>57</td>\n",
       "      <td>0</td>\n",
       "      <td>1</td>\n",
       "      <td>130</td>\n",
       "      <td>236</td>\n",
       "      <td>0</td>\n",
       "      <td>0</td>\n",
       "      <td>174</td>\n",
       "      <td>0</td>\n",
       "      <td>0.0</td>\n",
       "      <td>1</td>\n",
       "      <td>1</td>\n",
       "      <td>2</td>\n",
       "      <td>0</td>\n",
       "    </tr>\n",
       "  </tbody>\n",
       "</table>\n",
       "<p>303 rows × 14 columns</p>\n",
       "</div>"
      ],
      "text/plain": [
       "     age  sex  cp  trtbps  chol  fbs  restecg  thalachh  exng  oldpeak  slp  \\\n",
       "0     63    1   3     145   233    1        0       150     0      2.3    0   \n",
       "1     37    1   2     130   250    0        1       187     0      3.5    0   \n",
       "2     41    0   1     130   204    0        0       172     0      1.4    2   \n",
       "3     56    1   1     120   236    0        1       178     0      0.8    2   \n",
       "4     57    0   0     120   354    0        1       163     1      0.6    2   \n",
       "..   ...  ...  ..     ...   ...  ...      ...       ...   ...      ...  ...   \n",
       "298   57    0   0     140   241    0        1       123     1      0.2    1   \n",
       "299   45    1   3     110   264    0        1       132     0      1.2    1   \n",
       "300   68    1   0     144   193    1        1       141     0      3.4    1   \n",
       "301   57    1   0     130   131    0        1       115     1      1.2    1   \n",
       "302   57    0   1     130   236    0        0       174     0      0.0    1   \n",
       "\n",
       "     caa  thall  output  \n",
       "0      0      1       1  \n",
       "1      0      2       1  \n",
       "2      0      2       1  \n",
       "3      0      2       1  \n",
       "4      0      2       1  \n",
       "..   ...    ...     ...  \n",
       "298    0      3       0  \n",
       "299    0      3       0  \n",
       "300    2      3       0  \n",
       "301    1      3       0  \n",
       "302    1      2       0  \n",
       "\n",
       "[303 rows x 14 columns]"
      ]
     },
     "execution_count": 3,
     "metadata": {},
     "output_type": "execute_result"
    }
   ],
   "source": [
    "#Obtenemos el nombre de las variables\n",
    "### Cambiar nombre\n",
    "\n",
    "heart = pd.read_csv('../data/raw/heart.csv')\n",
    "heart"
   ]
  },
  {
   "cell_type": "markdown",
   "metadata": {
    "id": "ZjBu6p-U-8Hi"
   },
   "source": [
    "### **Glosario** \n",
    "----------------\n",
    "\n",
    "About this dataset.\n",
    "\n",
    "**Age :** Age of the patient\n",
    "\n",
    "**Sex :** Sex of the patient\n",
    "\n",
    "**exang:** exercise induced angina (1 = yes; 0 = no)\n",
    "\n",
    "**ca:** number of major vessels (0-3)\n",
    "\n",
    "**cp :** Chest Pain type chest pain type\n",
    "\n",
    "* Value 1: typical angina\n",
    "* Value 2: atypical angina\n",
    "* Value 3: non-anginal pain\n",
    "* Value 4: asymptomatic\n",
    "**trtbps :** resting blood pressure (in mm Hg)\n",
    "\n",
    "**chol :** cholestoral in mg/dl fetched via BMI sensor\n",
    "\n",
    "**fbs :** (fasting blood sugar > 120 mg/dl) (1 = true; 0 = false)\n",
    "\n",
    "**rest_ecg :** resting electrocardiographic results\n",
    "\n",
    "* Value 0: normal\n",
    "* Value 1: having ST-T wave abnormality (T wave inversions and/or ST elevation or depression of > 0.05 mV)\n",
    "* Value 2: showing probable or definite left ventricular hypertrophy by Estes' criteria\n",
    "**thalach :** maximum heart rate achieved\n",
    "\n",
    "**target :**\n",
    "* 0= less chance of heart attack\n",
    "* 1= more chance of heart attack"
   ]
  },
  {
   "cell_type": "code",
   "execution_count": 4,
   "metadata": {
    "id": "J47A259O_5uz"
   },
   "outputs": [
    {
     "data": {
      "text/plain": [
       "age         0\n",
       "sex         0\n",
       "cp          0\n",
       "trtbps      0\n",
       "chol        0\n",
       "fbs         0\n",
       "restecg     0\n",
       "thalachh    0\n",
       "exng        0\n",
       "oldpeak     0\n",
       "slp         0\n",
       "caa         0\n",
       "thall       0\n",
       "output      0\n",
       "dtype: int64"
      ]
     },
     "execution_count": 4,
     "metadata": {},
     "output_type": "execute_result"
    }
   ],
   "source": [
    "# Validamos si algunas de las variables tiene valores nulos.\n",
    "heart.isnull().sum()"
   ]
  },
  {
   "cell_type": "code",
   "execution_count": 5,
   "metadata": {},
   "outputs": [
    {
     "data": {
      "text/plain": [
       "age         0\n",
       "sex         0\n",
       "cp          0\n",
       "trtbps      0\n",
       "chol        0\n",
       "fbs         0\n",
       "restecg     0\n",
       "thalachh    0\n",
       "exng        0\n",
       "oldpeak     0\n",
       "slp         0\n",
       "caa         0\n",
       "thall       0\n",
       "output      0\n",
       "dtype: int64"
      ]
     },
     "execution_count": 5,
     "metadata": {},
     "output_type": "execute_result"
    }
   ],
   "source": [
    "heart.isna().sum().sort_values(ascending = False)"
   ]
  },
  {
   "cell_type": "code",
   "execution_count": 6,
   "metadata": {
    "colab": {
     "base_uri": "https://localhost:8080/"
    },
    "id": "O2NM51nwAAji",
    "outputId": "ee930776-179f-4922-8a95-1ecf2f2b15bc"
   },
   "outputs": [
    {
     "name": "stdout",
     "output_type": "stream",
     "text": [
      "<class 'pandas.core.frame.DataFrame'>\n",
      "RangeIndex: 303 entries, 0 to 302\n",
      "Data columns (total 14 columns):\n",
      " #   Column    Non-Null Count  Dtype  \n",
      "---  ------    --------------  -----  \n",
      " 0   age       303 non-null    int64  \n",
      " 1   sex       303 non-null    int64  \n",
      " 2   cp        303 non-null    int64  \n",
      " 3   trtbps    303 non-null    int64  \n",
      " 4   chol      303 non-null    int64  \n",
      " 5   fbs       303 non-null    int64  \n",
      " 6   restecg   303 non-null    int64  \n",
      " 7   thalachh  303 non-null    int64  \n",
      " 8   exng      303 non-null    int64  \n",
      " 9   oldpeak   303 non-null    float64\n",
      " 10  slp       303 non-null    int64  \n",
      " 11  caa       303 non-null    int64  \n",
      " 12  thall     303 non-null    int64  \n",
      " 13  output    303 non-null    int64  \n",
      "dtypes: float64(1), int64(13)\n",
      "memory usage: 33.3 KB\n"
     ]
    }
   ],
   "source": [
    "# Observamos la informacion del dataset\n",
    "heart.info()"
   ]
  },
  {
   "cell_type": "code",
   "execution_count": 7,
   "metadata": {},
   "outputs": [
    {
     "name": "stdout",
     "output_type": "stream",
     "text": [
      "<class 'pandas.core.frame.DataFrame'>\n",
      "RangeIndex: 303 entries, 0 to 302\n",
      "Data columns (total 14 columns):\n",
      " #   Column    Non-Null Count  Dtype   \n",
      "---  ------    --------------  -----   \n",
      " 0   age       303 non-null    int64   \n",
      " 1   sex       303 non-null    category\n",
      " 2   cp        303 non-null    category\n",
      " 3   trtbps    303 non-null    int64   \n",
      " 4   chol      303 non-null    int64   \n",
      " 5   fbs       303 non-null    category\n",
      " 6   restecg   303 non-null    category\n",
      " 7   thalachh  303 non-null    int64   \n",
      " 8   exng      303 non-null    category\n",
      " 9   oldpeak   303 non-null    float64 \n",
      " 10  slp       303 non-null    category\n",
      " 11  caa       303 non-null    category\n",
      " 12  thall     303 non-null    category\n",
      " 13  output    303 non-null    category\n",
      "dtypes: category(9), float64(1), int64(4)\n",
      "memory usage: 16.0 KB\n"
     ]
    }
   ],
   "source": [
    "# Casteamos las variables a categóricas, aquellas que si lo son.\n",
    "heart = heart.astype({\"sex\":\"category\", \"cp\":\"category\", 'fbs':\"category\", 'restecg':\"category\", 'exng':\"category\",\n",
    "                      'slp':\"category\", 'caa':\"category\", 'thall':\"category\", 'output':\"category\"})\n",
    "heart.info()"
   ]
  },
  {
   "cell_type": "markdown",
   "metadata": {
    "id": "zn4gGeMaAwRH"
   },
   "source": [
    "### 1. Análsis Exploratorio\n"
   ]
  },
  {
   "cell_type": "markdown",
   "metadata": {
    "id": "ERTKVbe4-R05"
   },
   "source": [
    "#### Gráfico de la relación entre la posición y el salario\n",
    "Veamos como es la distribución de salarios según la posición de juego. Se agregan las etiquetas de los jugadores que cobran mayores sueldos **buscar forma de agregar labels no muy compleja**"
   ]
  },
  {
   "cell_type": "code",
   "execution_count": 12,
   "metadata": {
    "colab": {
     "base_uri": "https://localhost:8080/",
     "height": 705
    },
    "id": "h4aeQ8Bg-ZFO",
    "outputId": "af8e8566-8b93-43ba-cbbb-0784e98ede41"
   },
   "outputs": [
    {
     "data": {
      "image/png": "[encoded data removed]",
      "text/plain": [
       "<Figure size 1000x700 with 1 Axes>"
      ]
     },
     "metadata": {},
     "output_type": "display_data"
    }
   ],
   "source": [
    "# Graficamos la relacion entre las posicion y el salario del jugador\n",
    "\n",
    "fig, ax = plt.subplots(figsize=(10,7))\n",
    "ax = sns.boxplot(x=\"chol\", y=\"output\", data=heart)\n",
    "ax.set_title('Boxplots: Chances de tener un ataque cardiaco', fontweight='bold', fontsize=20, y=1.1)\n",
    "ax.spines['right'].set_visible(False)\n",
    "ax.spines['top'].set_visible(False)\n",
    "ax.grid(axis='y', linestyle='--')\n",
    "ax.set_ylabel('Output', fontsize=10)\n",
    "ax.set_xlabel('Colesterol', fontsize=10)\n",
    "plt.show()"
   ]
  },
  {
   "cell_type": "markdown",
   "metadata": {},
   "source": [
    "#### VARIABLES CATEGÓRICAS"
   ]
  },
  {
   "cell_type": "code",
   "execution_count": 28,
   "metadata": {},
   "outputs": [],
   "source": [
    "def graficos_eda_categoricos(cat):\n",
    "    \n",
    "    #Calculamos el número de filas que necesitamos\n",
    "    from math import ceil\n",
    "    filas = ceil(cat.shape[1] / 2)\n",
    "\n",
    "    #Definimos el gráfico\n",
    "    f, ax = plt.subplots(nrows = filas, ncols = 2, figsize = (16, filas * 6))\n",
    "\n",
    "    #Aplanamos para iterar por el gráfico como si fuera de 1 dimensión en lugar de 2\n",
    "    ax = ax.flat \n",
    "\n",
    "    #Creamos el bucle que va añadiendo gráficos\n",
    "    for cada, variable in enumerate(cat):\n",
    "        cat[variable].value_counts().plot.barh(ax = ax[cada])\n",
    "        ax[cada].set_title(variable, fontsize = 16, fontweight = \"bold\")\n",
    "        ax[cada].tick_params(labelsize = 12)"
   ]
  },
  {
   "cell_type": "code",
   "execution_count": 29,
   "metadata": {},
   "outputs": [
    {
     "data": {
      "image/png": "[encoded data removed]",
      "text/plain": [
       "<Figure size 1600x3000 with 10 Axes>"
      ]
     },
     "metadata": {},
     "output_type": "display_data"
    }
   ],
   "source": [
    "graficos_eda_categoricos(heart.select_dtypes('category'))"
   ]
  },
  {
   "cell_type": "markdown",
   "metadata": {
    "id": "Aoco1T39D-Mr"
   },
   "source": [
    "Observamos que la distribucion varía un poco entre las posiciones y hay varios sujetos que son outliers.\n",
    "\n",
    "#### Correlograma\n",
    "Realizamos un correlograma entre todas las variables cuantitativas"
   ]
  },
  {
   "cell_type": "code",
   "execution_count": null,
   "metadata": {
    "id": "6KD0ItdoASPM"
   },
   "outputs": [],
   "source": [
    "# Obtenemos las variables numericas y generamos la matriz de correlacion\n",
    "nba_numericas = nba.select_dtypes(include=['float64','int64'])\n",
    "matriz_correlacion = nba_numericas.corr()"
   ]
  },
  {
   "cell_type": "code",
   "execution_count": null,
   "metadata": {},
   "outputs": [],
   "source": [
    "matriz_correlacion"
   ]
  },
  {
   "cell_type": "code",
   "execution_count": null,
   "metadata": {
    "colab": {
     "base_uri": "https://localhost:8080/",
     "height": 1000
    },
    "id": "EeAHHmDgBxqv",
    "outputId": "02fcff74-b467-4ed2-8037-a31766dea42f"
   },
   "outputs": [],
   "source": [
    "# Graficamos la correlacion entre las variables\n",
    "\n",
    "mask = np.zeros_like(matriz_correlacion, dtype=np.bool)\n",
    "mask[np.triu_indices_from(mask)]= True\n",
    "\n",
    "f, ax = plt.subplots(figsize=(17, 17))\n",
    "\n",
    "heatmap = sns.heatmap(matriz_correlacion,\n",
    "                      mask = mask,\n",
    "                      square = True,\n",
    "                      linewidths = .5,\n",
    "                      cmap = 'coolwarm',\n",
    "                      cbar_kws = {'shrink': .4,\n",
    "                                'ticks': [-1, -.5, 0, 0.5, 1]},\n",
    "                      vmin = -1,\n",
    "                      vmax = 1,\n",
    "                      annot = True, annot_kws={\"fontsize\":8})\n",
    "\n",
    "\n",
    "ax.set_yticklabels(matriz_correlacion.columns, rotation = 0)\n",
    "ax.set_xticklabels(matriz_correlacion.columns)\n",
    "\n",
    "sns.set_style({'xtick.bottom': True}, {'ytick.left': True})"
   ]
  },
  {
   "cell_type": "markdown",
   "metadata": {
    "id": "AiYoxKosGWQt"
   },
   "source": [
    "Observamos que existen relaciones de diversa magnitud y signo entre todas las variables.\n",
    "\n",
    "### Analisis de Distribución, Scatterplot y correlación de algunas variables"
   ]
  },
  {
   "cell_type": "code",
   "execution_count": null,
   "metadata": {
    "colab": {
     "base_uri": "https://localhost:8080/",
     "height": 1000
    },
    "id": "DV6QxkmJGVhf",
    "outputId": "c104fec1-3675-4dd1-8335-02e9142d33a0"
   },
   "outputs": [],
   "source": [
    "#Seleccionamos algunas variables y graficamos su correlacion\n",
    "\n",
    "nba_numericas_seleccion = nba_numericas[['salary','age','pts_per_g','gs','ast_per_g','blk_per_g']]\n",
    "\n",
    "def corr(x, y, **kwargs):\n",
    "\n",
    "    # Calculamos el valor de la correlacion\n",
    "    coef = np.corrcoef(x, y)[0][1]\n",
    "    # Generamos la etiqueta\n",
    "    label = r'$\\rho$ = ' + str(round(coef, 2))\n",
    "\n",
    "    # Agregamos la etiqueta al grafico\n",
    "    ax = plt.gca()\n",
    "    ax.annotate(label, xy = (0.2, 0.95), size = 20, xycoords = ax.transAxes)\n",
    "\n",
    "\n",
    "# Mapeamos los graficos en las ubicaciones correspondientes\n",
    "g = sns.PairGrid(nba_numericas_seleccion)\n",
    "g.map_diag(sns.histplot)\n",
    "g.map_lower(sns.regplot)\n",
    "g.map_upper(corr)"
   ]
  },
  {
   "cell_type": "markdown",
   "metadata": {
    "id": "x6vFedJzJIhT"
   },
   "source": [
    "Se puede observar que el **salario** se correlaciona de forma positiva con todas las variables.\n",
    "Tambien se puede ver una **correlacion positiva** entre los **pts_per_g** (puntos por partido) y **ast_per_g** (asistencia por partido)\n",
    "\n",
    "## Modelo Lineal\n",
    "\n",
    "Vamos a ajustar un modelo lineal que incluya todas las variables (excepto el nombre del jugaodr y del equipo) y obtendremos todos los parámetros del modelo junto al valor de su intervalo de confianza\n",
    "\n",
    "$E(salario|.) = \\beta_0 + \\beta_1 \\cdot age + \\beta_2 \\cdot g + ... + \\beta_n \\cdot position\\_SG$\n",
    "\n",
    "#### Creación de las variables dummies\n",
    "\n",
    "Para crear las variables dummies vamos a utilizar el transformer (es un tipo de clase) [OneHotEncoder](https://scikit-learn.org/stable/modules/generated/sklearn.preprocessing.OneHotEncoder.html). Los argumentos que vamos a utilizar son:\n",
    "\n",
    "* `categories:` la lista de categorías que tiene la variable categórica\n",
    "* `drop='first'`: indica que se va a \"tirar\" la primera categoría (es la que queda contenida en el intercepto)\n",
    "\n",
    "### Coeficientes estimados\n",
    "\n",
    "Creamos el modelo y accedemos a la información de los coeficientes"
   ]
  },
  {
   "cell_type": "code",
   "execution_count": null,
   "metadata": {
    "id": "ea-Oo8ttBEpG"
   },
   "outputs": [],
   "source": [
    "# Eliminamos las variables del nombre del jugador y el equipo\n",
    "nba_lineal = nba.drop(['player','team_id'], axis = 1)"
   ]
  },
  {
   "cell_type": "code",
   "execution_count": null,
   "metadata": {
    "id": "PjxPFhG7BMHB"
   },
   "outputs": [],
   "source": [
    "# Seleccionamos las variables numericas\n",
    "nba_lineal_numericas = nba_lineal.select_dtypes(include=['float64','int64'])"
   ]
  },
  {
   "cell_type": "code",
   "execution_count": null,
   "metadata": {
    "id": "el1311fQBR7y"
   },
   "outputs": [],
   "source": [
    "# Seleccionamos las variables categoricas y las convertimos en dummies\n",
    "nba_lineal_cat = nba_lineal.select_dtypes(include=['object'])\n"
   ]
  },
  {
   "cell_type": "code",
   "execution_count": null,
   "metadata": {
    "colab": {
     "base_uri": "https://localhost:8080/"
    },
    "id": "63u5NHWBxwlU",
    "outputId": "df22f8fd-0cef-4ceb-8666-360cc4e01bce"
   },
   "outputs": [],
   "source": [
    "nba_lineal_cat['position'].unique()"
   ]
  },
  {
   "cell_type": "code",
   "execution_count": null,
   "metadata": {},
   "outputs": [],
   "source": [
    "nba_lineal_cat"
   ]
  },
  {
   "cell_type": "code",
   "execution_count": null,
   "metadata": {
    "id": "26xjkeyGBT3S"
   },
   "outputs": [],
   "source": [
    "from sklearn.preprocessing import OneHotEncoder"
   ]
  },
  {
   "cell_type": "code",
   "execution_count": null,
   "metadata": {
    "id": "CRU64W8RCl2S"
   },
   "outputs": [],
   "source": [
    "# Definimos una instancia del transformer\n",
    "one_hot_encoder = OneHotEncoder(categories=[['PG', 'SG', 'PF', 'SF', 'C']], drop='first')"
   ]
  },
  {
   "cell_type": "code",
   "execution_count": null,
   "metadata": {
    "colab": {
     "base_uri": "https://localhost:8080/",
     "height": 74
    },
    "id": "T1iyeTHbE2t6",
    "outputId": "66dcf893-1a9f-4fdb-d429-f0a5960c55f9"
   },
   "outputs": [],
   "source": [
    "# Realizamos el fit con los datos de entrenamiento\n",
    "one_hot_encoder.fit(nba_lineal_cat[['position']])"
   ]
  },
  {
   "cell_type": "code",
   "execution_count": null,
   "metadata": {
    "colab": {
     "base_uri": "https://localhost:8080/"
    },
    "id": "uGC7li7LFvqE",
    "outputId": "5c9297f8-434c-4f5d-f31a-69680dd030c2"
   },
   "outputs": [],
   "source": [
    "# Accedemos a las categorias del encoder\n",
    "one_hot_encoder.categories_"
   ]
  },
  {
   "cell_type": "code",
   "execution_count": null,
   "metadata": {
    "colab": {
     "base_uri": "https://localhost:8080/"
    },
    "id": "jN6VGgVRF_Zl",
    "outputId": "c7b3a1fb-ed55-4ce6-aed2-b1cbd3105923"
   },
   "outputs": [],
   "source": [
    " # Generamos las variables dummies de la variable property type (notemos que tenemos 2 columnas!)\n",
    " matriz_dummies = one_hot_encoder.transform(nba_lineal_cat[['position']]).toarray()\n",
    " matriz_dummies"
   ]
  },
  {
   "cell_type": "code",
   "execution_count": null,
   "metadata": {
    "colab": {
     "base_uri": "https://localhost:8080/"
    },
    "id": "NRDERxHOGjKJ",
    "outputId": "d71c1b61-daa8-4cf6-f337-4a7f4323c980"
   },
   "outputs": [],
   "source": [
    "# Generamos los nombres de las variables dummies (notemos que tenemos 2 columnas!)\n",
    "nombres_dummies = one_hot_encoder.get_feature_names_out(['position'])\n",
    "nombres_dummies"
   ]
  },
  {
   "cell_type": "code",
   "execution_count": null,
   "metadata": {
    "colab": {
     "base_uri": "https://localhost:8080/",
     "height": 206
    },
    "id": "V6qqD6vCHziB",
    "outputId": "29c6117c-3189-43f9-8bb1-a62713339046"
   },
   "outputs": [],
   "source": [
    "# Generamos el dataframe con las variables dummies con las matrices y columnas\n",
    "df_dummies = pd.DataFrame(matriz_dummies, columns=nombres_dummies, index=nba_lineal_cat.index)\n",
    "df_dummies.head()"
   ]
  },
  {
   "cell_type": "code",
   "execution_count": null,
   "metadata": {
    "id": "9zIGWGdfB91J"
   },
   "outputs": [],
   "source": [
    "# Separamos las variables predictoras de la que va a ser preditcha 'salary'\n",
    "nba_lineal = pd.concat([nba_lineal_numericas, df_dummies],axis=1)\n",
    "X = nba_lineal.drop(['salary'], axis = 1)\n",
    "reg_features = X.columns\n",
    "y = nba_lineal['salary']\n"
   ]
  },
  {
   "cell_type": "code",
   "execution_count": null,
   "metadata": {
    "id": "4IiRJ5GABvFw"
   },
   "outputs": [],
   "source": [
    "# Import el paquete sm de la libreria stats\n",
    "import statsmodels.api as sm\n",
    "from statsmodels.api import add_constant"
   ]
  },
  {
   "cell_type": "code",
   "execution_count": null,
   "metadata": {
    "id": "JRRVDVtmBzuS"
   },
   "outputs": [],
   "source": [
    "# Construimos el modelo agregando una constante\n",
    "X = sm.add_constant(X)\n",
    "model = sm.OLS(y,X)\n",
    "results = model.fit()"
   ]
  },
  {
   "cell_type": "code",
   "execution_count": null,
   "metadata": {
    "colab": {
     "base_uri": "https://localhost:8080/"
    },
    "id": "INXTtdKzH-3B",
    "outputId": "2b532e13-ef47-4395-f26c-24b89bdc1af8"
   },
   "outputs": [],
   "source": [
    "# Error Cuadratico Medio de los Residuos\n",
    "print(f\"ECM: {results.mse_resid}\")"
   ]
  },
  {
   "cell_type": "code",
   "execution_count": null,
   "metadata": {
    "colab": {
     "base_uri": "https://localhost:8080/"
    },
    "id": "h7pGJuI2B-fz",
    "outputId": "16e66a25-8474-42f5-cb2e-c0d2ee915516"
   },
   "outputs": [],
   "source": [
    "# Visualizamos el ajuste final\n",
    "print(results.summary())"
   ]
  },
  {
   "cell_type": "code",
   "execution_count": null,
   "metadata": {
    "id": "7dC-ogG8PsQ6"
   },
   "outputs": [],
   "source": [
    "def coef_summary(results):\n",
    "    '''\n",
    "    Toma los resultado del modelo de OLS\n",
    "\n",
    "    Elimina el intercepto.\n",
    "    '''\n",
    "    # Creo un dataframe de los resultados del summary\n",
    "    coef_df = pd.DataFrame(results.summary().tables[1].data)\n",
    "\n",
    "    # Agrego el nombre de las columnas\n",
    "    coef_df.columns = coef_df.iloc[0]\n",
    "\n",
    "    # Elimino la fila extra del intercepto\n",
    "    coef_df=coef_df.drop(0)\n",
    "\n",
    "    # Seteo el nombre de las variables como index\n",
    "    coef_df = coef_df.set_index(coef_df.columns[0])\n",
    "\n",
    "    # Convertimos a float los object\n",
    "    coef_df = coef_df.astype(float)\n",
    "\n",
    "    # Obtenemos el error; (coef - limite inferior del IC)\n",
    "    errors = coef_df['coef'] - coef_df['[0.025']\n",
    "\n",
    "    # Agregamos los errores al dataframe\n",
    "    coef_df['errors'] = errors\n",
    "\n",
    "    # Eliminamos la variable const\n",
    "    coef_df = coef_df.drop(['const'])\n",
    "\n",
    "    # Ordenamos los coeficientes\n",
    "    coef_df = coef_df.sort_values(by=['coef'])\n",
    "\n",
    "    ### Graficamos ###\n",
    "\n",
    "    # x-labels\n",
    "    variables = list(coef_df.index.values)\n",
    "\n",
    "    # Agregamos la columna con el nombre de las variables\n",
    "    coef_df['variables'] = variables\n",
    "\n",
    "    return  coef_df"
   ]
  },
  {
   "cell_type": "code",
   "execution_count": null,
   "metadata": {
    "id": "6SyY2MwwQ4Ge"
   },
   "outputs": [],
   "source": [
    "# Aplicamos la funcion coef_summary a los results\n",
    "\n",
    "coef_df = coef_summary(results)"
   ]
  },
  {
   "cell_type": "markdown",
   "metadata": {
    "id": "h1WQMnXYSWcX"
   },
   "source": [
    "Graficamos los p-valores de mayor a menor para evaluar la significatividad individual de los coeficientes"
   ]
  },
  {
   "cell_type": "code",
   "execution_count": null,
   "metadata": {
    "colab": {
     "base_uri": "https://localhost:8080/",
     "height": 771
    },
    "id": "vuSDMfqcT5_B",
    "outputId": "b7b485d3-2896-40c6-eba6-6346f5a5e31e"
   },
   "outputs": [],
   "source": [
    "# Graficamos los p-valor\n",
    "fig, ax = plt.subplots(figsize=(10,7))\n",
    "coef_df = coef_df.sort_values(by='P>|t|', ascending = False)\n",
    "ax = sns.barplot(x='variables', y='P>|t|', data=coef_df,\n",
    "                 palette=\"Spectral\")\n",
    "ax.set_title('P-valor de los regresores', fontweight='bold', fontsize=20, y=1.1)\n",
    "ax.spines['right'].set_visible(False)\n",
    "ax.spines['top'].set_visible(False)\n",
    "ax.grid(axis='y', linestyle='--')\n",
    "ax.set_ylabel('P-valor', fontsize=10)\n",
    "ax.set_xlabel('variables', fontsize=10)\n",
    "plt.xticks(rotation=90, fontsize = 10 )\n",
    "plt.yticks( fontsize = 10 )\n",
    "plt.axhline(y = 0.05, color = 'black', linestyle = '--')\n",
    "plt.show()"
   ]
  },
  {
   "cell_type": "markdown",
   "metadata": {
    "id": "WHwBw-A8VnDB"
   },
   "source": [
    "Notamos que:\n",
    "\n",
    "* Solo algunas variables tienen coeficientes significativos: **gs**,  **pf_per_g**, **ast_per_g**, **g**, **position_SG**, **fg3a_per_g**, **fg2a_per_g**, **fga_per_g**, **position_PG**, **stl_per_g**, **age**\n",
    "\n",
    "Para evitar los problemas que puede introducir la escala, reescalamos las variables y repetimos el ajuste para estos nuevos datos\n"
   ]
  },
  {
   "cell_type": "code",
   "execution_count": null,
   "metadata": {
    "id": "mJD1-XRODcP_"
   },
   "outputs": [],
   "source": [
    "#Importamos StandardScaler de la libreria sklear\n",
    "from sklearn.preprocessing import StandardScaler"
   ]
  },
  {
   "cell_type": "code",
   "execution_count": null,
   "metadata": {
    "id": "FrkEJehXDho-"
   },
   "outputs": [],
   "source": [
    "# Instanciamos la funcion para escalar\n",
    "scaler = StandardScaler()"
   ]
  },
  {
   "cell_type": "code",
   "execution_count": null,
   "metadata": {
    "id": "SqS_nD4TDqjB"
   },
   "outputs": [],
   "source": [
    "# Seleccionamos las variables numericas\n",
    "nba_lineal = nba.drop(['player','team_id'], axis = 1)\n",
    "nba_lineal_numericas = nba_lineal.select_dtypes(include=['float64','int64'])\n",
    "# Eliminamos la variable salary del escalado\n",
    "nba_lineal_numericas= nba_lineal_numericas.drop(['salary'], axis = 1)\n",
    "nba_lineal_numericas_columns = nba_lineal_numericas.columns"
   ]
  },
  {
   "cell_type": "code",
   "execution_count": null,
   "metadata": {
    "id": "a9pTlwBND0_r"
   },
   "outputs": [],
   "source": [
    "#Escalamos las variables\n",
    "scaled = scaler.fit_transform(nba_lineal_numericas)"
   ]
  },
  {
   "cell_type": "code",
   "execution_count": null,
   "metadata": {
    "id": "-3QSrcDnD367"
   },
   "outputs": [],
   "source": [
    "# Generamos un dataframe con las variables escaladas\n",
    "nba_lineal_numericas = pd.DataFrame(scaled, columns = nba_lineal_numericas_columns)"
   ]
  },
  {
   "cell_type": "code",
   "execution_count": null,
   "metadata": {
    "id": "Yx7zMVlQD_Vj"
   },
   "outputs": [],
   "source": [
    "# Generamos dummies con las variables categoricas\n",
    "nba_lineal_cat = nba_lineal.select_dtypes(include=['object'])\n",
    "nba_lineal_cat = pd.get_dummies(nba_lineal_cat)\n"
   ]
  },
  {
   "cell_type": "code",
   "execution_count": null,
   "metadata": {},
   "outputs": [],
   "source": [
    "nba_lineal_cat"
   ]
  },
  {
   "cell_type": "code",
   "execution_count": null,
   "metadata": {
    "id": "aOVl8dZsSjPk"
   },
   "outputs": [],
   "source": [
    "# Generamos el conjunto de datos para ajustar el modelo\n",
    "nba_lineal = pd.concat([nba_lineal_numericas, df_dummies],axis=1)\n",
    "X = nba_lineal.copy()\n",
    "y = nba['salary']"
   ]
  },
  {
   "cell_type": "code",
   "execution_count": null,
   "metadata": {
    "id": "4mae-FVLEXDz"
   },
   "outputs": [],
   "source": [
    "# Construimos el modelo agregando una constante\n",
    "X = sm.add_constant(X)\n",
    "model_scaled = sm.OLS(y,X)\n",
    "results_scaled = model_scaled.fit()"
   ]
  },
  {
   "cell_type": "code",
   "execution_count": null,
   "metadata": {
    "colab": {
     "base_uri": "https://localhost:8080/"
    },
    "id": "H0gfr8_TEXDz",
    "outputId": "a7150d99-f0a4-41a7-ef2a-fc867cb3c296"
   },
   "outputs": [],
   "source": [
    "# Error Cuadratico Medio de los Residuos\n",
    "print(f\"ECM: {results_scaled.mse_resid}\")"
   ]
  },
  {
   "cell_type": "code",
   "execution_count": null,
   "metadata": {
    "colab": {
     "base_uri": "https://localhost:8080/"
    },
    "id": "S2APLCo9EXD0",
    "outputId": "1f95850f-5dea-4477-887a-2b7e67e943c6"
   },
   "outputs": [],
   "source": [
    "# Visualizamos el ajuste final\n",
    "print(results_scaled.summary())"
   ]
  },
  {
   "cell_type": "code",
   "execution_count": null,
   "metadata": {
    "id": "Vp2OCimvXTg9"
   },
   "outputs": [],
   "source": [
    "#Graficamos los coeficientes al 95% de confianza\n",
    "coef_df_scaled = coef_summary(results_scaled)"
   ]
  },
  {
   "cell_type": "code",
   "execution_count": null,
   "metadata": {
    "colab": {
     "base_uri": "https://localhost:8080/",
     "height": 771
    },
    "id": "_MqlA5voX18-",
    "outputId": "0b99b872-280e-49f6-b151-0854a10e75df"
   },
   "outputs": [],
   "source": [
    "# Graficamos los p-valor\n",
    "fig, ax = plt.subplots(figsize=(10,7))\n",
    "coef_df_scaled = coef_df_scaled.sort_values(by='P>|t|', ascending = False)\n",
    "ax = sns.barplot(x='variables', y='P>|t|', data=coef_df_scaled,\n",
    "                 palette=\"Spectral\")\n",
    "ax.set_title('P-valor de los regresores', fontweight='bold', fontsize=20, y=1.1)\n",
    "ax.spines['right'].set_visible(False)\n",
    "ax.spines['top'].set_visible(False)\n",
    "ax.grid(axis='y', linestyle='--')\n",
    "ax.set_ylabel('P-valor', fontsize=10)\n",
    "ax.set_xlabel('variables', fontsize=10)\n",
    "plt.xticks(rotation=90, fontsize = 10 )\n",
    "plt.yticks( fontsize = 10 )\n",
    "plt.axhline(y = 0.05, color = 'black', linestyle = '--')\n",
    "plt.show()"
   ]
  },
  {
   "cell_type": "code",
   "execution_count": null,
   "metadata": {
    "colab": {
     "base_uri": "https://localhost:8080/"
    },
    "id": "YhKmMeiUYNGK",
    "outputId": "e861b312-05dc-452d-c147-2405af2e7803"
   },
   "outputs": [],
   "source": [
    "print(f\"MSE Scaled: {results_scaled.rsquared}\",'vs.',f\"MSE: {results.rsquared}\" )\n",
    "print(f\"Adj MSE Scaled: {results_scaled.rsquared_adj}\",'vs.',f\" Adj MSE: {results.rsquared_adj}\" )\n",
    "print(f\"p-value Scaled: {results_scaled.f_pvalue}\",'vs.',f\" p-value: {results.f_pvalue}\" )"
   ]
  },
  {
   "cell_type": "markdown",
   "metadata": {
    "id": "n-DqdeYVbyFH"
   },
   "source": [
    "La alta cantidad de variables y la existencia de una alta correlación entre varias de ellas ocasionan que los coeficientes estimados tengan alta varianza y que muchos de ellos no sean significativos en términos estadísticos. Las técnicas de **regularización** pueden ayudarnos a mejorar esta situación."
   ]
  },
  {
   "cell_type": "markdown",
   "metadata": {
    "id": "qQnF-wtxv54f"
   },
   "source": [
    "##3. Regularización\n",
    "\n",
    "La librería scikit-learn (sklearn) nos permite trabajar con modelos Ridge, Lasso y Elastic Net. Para cada uno de ellas tendremos una función particular para poder llevar adelante el cálculo\n",
    "\n",
    "**Fórmula**\n",
    "\n",
    "*ECM* + $\\lambda$ [ $\\alpha$ $\\Sigma_{j}$|$\\beta_{j}$| + (1-$\\alpha$) $\\Sigma_{j}$$\\beta_{j}^{2}$]\n",
    "\n",
    "$\\lambda$ controla toda la penalidad, mientras que $\\alpha$ controla la penalidad de la **Elastic Net** y actua como un puente entre **Lasso** y **Ridge**\n",
    "\n",
    "Con el parámentro $\\alpha$ indicamos con qué tipo de modelo deseamos trabajar:\n",
    "* Ridge: $\\alpha$ = 0\n",
    "* Lasso: $\\alpha$ = 1\n",
    "*Elastic Net: 0 < $\\alpha$ < 1"
   ]
  },
  {
   "cell_type": "markdown",
   "metadata": {
    "id": "lw9aNODK0Mj0"
   },
   "source": [
    "### 3.1 Partición Train y Test\n",
    "Realizamos una partición entre dataset de entrenamiento y de testeo con la función *train_test_split* de la librería *sklearn*"
   ]
  },
  {
   "cell_type": "code",
   "execution_count": null,
   "metadata": {
    "id": "zceLewtAEnE6"
   },
   "outputs": [],
   "source": [
    "# Importamos la funcion trai_test_split\n",
    "from sklearn.model_selection import train_test_split"
   ]
  },
  {
   "cell_type": "code",
   "execution_count": null,
   "metadata": {
    "id": "nCpqNXrdZVG7"
   },
   "outputs": [],
   "source": [
    "# Preparamos el conjunto de datos\n",
    "\n",
    "nba_reg = nba.drop(['player','team_id'], axis = 1)\n",
    "nba_reg_numericas = nba_reg.select_dtypes(include=['float64','int64'])\n",
    "nba_reg_numericas_columns = nba_reg_numericas.columns\n",
    "\n",
    "nba_reg_object = df_dummies.copy()\n",
    "nba_reg = pd.concat([nba_reg_numericas, nba_reg_object],axis=1)\n",
    "\n",
    "X = nba_reg.drop(['salary'], axis = 1)\n",
    "y = nba_reg['salary']"
   ]
  },
  {
   "cell_type": "code",
   "execution_count": null,
   "metadata": {
    "id": "R0v8cAS0Eyre"
   },
   "outputs": [],
   "source": [
    "# Separamos el conjunto de datos en train y test\n",
    "X_train, X_test, y_train, y_test = train_test_split(X, y, test_size=0.3, random_state=semilla)"
   ]
  },
  {
   "cell_type": "markdown",
   "metadata": {
    "id": "5TnSziJA1TqN"
   },
   "source": [
    "### 3.2 Lasso\n",
    "Es un tipo de regularización la cual utiliza la penalización lineal mediante el valor absoluto. La magnitud de la penalización viene dada por el parámetro $\\lambda$. Si lo pensamos mediante la formula de *ElasticNet* estariamos utilizando un $\\alpha$ = 1. Para esto vamos a utilizar la función [Lasso](https://scikit-learn.org/stable/modules/generated/sklearn.linear_model.Lasso.html) de sklearn\n",
    "\n",
    "$\\hat{\\beta_L}= arg min_\\beta\\sum_{i=1}^{n}(y_i-\\beta_0-\\sum_{j=p}^{n}\\beta_jx_{ji})^{2}+\\lambda\\sum_{j=p}^{n}|\\beta_j|$\n",
    "\n",
    "1. Cuál es la penalización que introduce el modelo Lasso?\n",
    "1. Cómo impacta esto en las variables?"
   ]
  },
  {
   "cell_type": "code",
   "execution_count": null,
   "metadata": {
    "id": "SIrekV_QFA9O"
   },
   "outputs": [],
   "source": [
    "# Importamos la funcion Lasso\n",
    "from sklearn.linear_model import Lasso"
   ]
  },
  {
   "cell_type": "markdown",
   "metadata": {
    "id": "NaEViB0tG7oL"
   },
   "source": [
    "Vamos a ver como se van modificando las variables para distintos valores de $\\lambda$ para eso vamos a establecer a generar un número de $\\lambda$ y luego lo vamos a graficar"
   ]
  },
  {
   "cell_type": "code",
   "execution_count": null,
   "metadata": {
    "id": "9dYwY3MEHNna"
   },
   "outputs": [],
   "source": [
    "# generamos 50 lambdas para evaluar los distintos escenarios\n",
    "n_alphas = 50\n",
    "alphas = np.logspace(-5, 7.2, n_alphas)"
   ]
  },
  {
   "cell_type": "code",
   "execution_count": null,
   "metadata": {
    "id": "S7sXs_rrHfhO"
   },
   "outputs": [],
   "source": [
    "# Ajustamos  la regresion Lasso para los disntos valores de lambda que establecimos\n",
    "coefs = []\n",
    "for a in alphas:\n",
    "    lasso = Lasso(alpha=a, fit_intercept=False)\n",
    "    lasso.fit(X_train, y_train)\n",
    "    coefs.append(lasso.coef_)"
   ]
  },
  {
   "cell_type": "code",
   "execution_count": null,
   "metadata": {
    "colab": {
     "base_uri": "https://localhost:8080/",
     "height": 651
    },
    "id": "HfEnpD1C2zNC",
    "outputId": "450d945c-8230-4845-fa0a-1591e47c74b2"
   },
   "outputs": [],
   "source": [
    "#Graficamos como varian las variables cuando se aumenta el lambda\n",
    "\n",
    "fig, ax = plt.subplots(figsize=(10,7))\n",
    "\n",
    "l1 = plt.plot(alphas, coefs,linewidth=2 )\n",
    "\n",
    "ax.set_title('Regularización Lasso', fontweight='bold', fontsize=20)\n",
    "ax.spines['right'].set_visible(False)\n",
    "ax.spines['top'].set_visible(False)\n",
    "\n",
    "ax.set_ylabel('coeficientes', fontsize=10)\n",
    "ax.set_xlabel('Log(lambda)', fontsize=10)\n",
    "\n",
    "plt.xticks(fontsize = 10 )\n",
    "plt.yticks( fontsize = 10 )\n",
    "\n",
    "plt.show()"
   ]
  },
  {
   "cell_type": "markdown",
   "metadata": {
    "id": "uBBSHlCAH1q2"
   },
   "source": [
    "Como la regularización *Lasso* tambien puede ser utilizada como selector de variables, vamos a quedarnos con aquellas variables que sobreviven al proceso final de selección."
   ]
  },
  {
   "cell_type": "code",
   "execution_count": null,
   "metadata": {
    "id": "fKWlM7U5HtB3"
   },
   "outputs": [],
   "source": [
    "# Nos quedamos con las variables que sobreviven al proceso de selección\n",
    "coeficientes = pd.DataFrame(coefs, columns =X_train.columns)\n",
    "\n",
    "variables_importantes = coeficientes.loc[:,X_train.columns[coeficientes.loc[45:].any().values]]"
   ]
  },
  {
   "cell_type": "code",
   "execution_count": null,
   "metadata": {
    "colab": {
     "base_uri": "https://localhost:8080/",
     "height": 651
    },
    "id": "puEhaRUb5qVG",
    "outputId": "3982242d-7d70-44e9-9c6c-16d79c5952d5"
   },
   "outputs": [],
   "source": [
    "# Graficamos nuevamente\n",
    "fig, ax = plt.subplots(figsize=(10,7))\n",
    "\n",
    "l1 = plt.plot(alphas, variables_importantes,linewidth=2 )\n",
    "\n",
    "ax.set_title('Regularización Lasso', fontweight='bold', fontsize=20)\n",
    "ax.spines['right'].set_visible(False)\n",
    "ax.spines['top'].set_visible(False)\n",
    "ax.legend(coeficientes.columns, fontsize=10)\n",
    "ax.set_ylabel('coeficientes', fontsize=10)\n",
    "ax.set_xlabel('Log(lambda)', fontsize=10)\n",
    "\n",
    "plt.xticks(fontsize = 10 )\n",
    "plt.yticks( fontsize = 10 )\n",
    "\n",
    "plt.show()"
   ]
  },
  {
   "cell_type": "markdown",
   "metadata": {
    "id": "B1fbyenKjpku"
   },
   "source": [
    "Los métods de regularización no son invariante a la magnitud de los datos. Por este movito es importante standarizar las variables"
   ]
  },
  {
   "cell_type": "code",
   "execution_count": null,
   "metadata": {
    "id": "FeuAVio7IKHj"
   },
   "outputs": [],
   "source": [
    "# Instanciamos la funcion para escalar\n",
    "scaler = StandardScaler()"
   ]
  },
  {
   "cell_type": "code",
   "execution_count": null,
   "metadata": {
    "id": "PdWKU6hCIQTo"
   },
   "outputs": [],
   "source": [
    "# Seleccionamos las variables numericas que vamos a escalar\n",
    "nba_reg = nba.drop(['player','team_id'], axis = 1)\n",
    "nba_reg_numericas = nba_reg.select_dtypes(include=['float64','int64'])\n",
    "nba_reg_numericas_columns = nba_reg_numericas.columns"
   ]
  },
  {
   "cell_type": "code",
   "execution_count": null,
   "metadata": {
    "id": "f4fPFuI9IVO1"
   },
   "outputs": [],
   "source": [
    "# Escalamos las variables\n",
    "scaled = scaler.fit_transform(nba_reg_numericas)\n",
    "nba_reg_numericas = pd.DataFrame(scaled, columns = nba_reg_numericas_columns)"
   ]
  },
  {
   "cell_type": "code",
   "execution_count": null,
   "metadata": {
    "id": "9a_efIGO54uN"
   },
   "outputs": [],
   "source": [
    "# Conformamos el nuevo conjunto de entrenamiento\n",
    "nba_reg = pd.concat([nba_reg_numericas, df_dummies],axis=1)\n",
    "\n",
    "X = nba_reg.drop(['salary'], axis = 1)\n",
    "y = nba_reg['salary']\n"
   ]
  },
  {
   "cell_type": "code",
   "execution_count": null,
   "metadata": {
    "id": "QVxUPnWnIpN2"
   },
   "outputs": [],
   "source": [
    "#Separamos en train y test\n",
    "X_train, X_test, y_train, y_test = train_test_split(X, y, test_size=0.3, random_state=semilla)"
   ]
  },
  {
   "cell_type": "code",
   "execution_count": null,
   "metadata": {
    "id": "_573DsO7IttL"
   },
   "outputs": [],
   "source": [
    "# Ajsutamos nuevamente las distintas regresiones Lasso para los alphas planteados\n",
    "n_alphas = 50\n",
    "alphas = np.logspace(-5, 0, n_alphas)\n",
    "\n",
    "coefs = []\n",
    "for a in alphas:\n",
    "    lasso = Lasso(alpha=a, fit_intercept=False)\n",
    "    lasso.fit(X_train, y_train)\n",
    "    coefs.append(lasso.coef_)"
   ]
  },
  {
   "cell_type": "code",
   "execution_count": null,
   "metadata": {
    "colab": {
     "base_uri": "https://localhost:8080/",
     "height": 651
    },
    "id": "7zGVCoMiAWF8",
    "outputId": "93be98a8-76cd-4bf3-c987-07820e315f6d"
   },
   "outputs": [],
   "source": [
    "# Graficamos los resultados\n",
    "\n",
    "fig, ax = plt.subplots(figsize=(10,7))\n",
    "\n",
    "l1 = plt.plot(alphas, coefs,linewidth=2 )\n",
    "\n",
    "ax.set_title('Regularización Lasso', fontweight='bold', fontsize=20)\n",
    "ax.spines['right'].set_visible(False)\n",
    "ax.spines['top'].set_visible(False)\n",
    "\n",
    "ax.set_ylabel('coeficientes', fontsize=10)\n",
    "ax.set_xlabel('Log(lambda)', fontsize=10)\n",
    "\n",
    "plt.xticks(fontsize = 10 )\n",
    "plt.yticks( fontsize = 10 )\n",
    "\n",
    "plt.show()"
   ]
  },
  {
   "cell_type": "markdown",
   "metadata": {
    "id": "JQXaO4IPJLVS"
   },
   "source": [
    "Nuevamente seleccionamos aquellas variables que sobreviven al proceso de selección,"
   ]
  },
  {
   "cell_type": "code",
   "execution_count": null,
   "metadata": {
    "id": "r_ZCtOjwJKH9"
   },
   "outputs": [],
   "source": [
    "#Seleccionamos las variables que sobreviven mayor tiempo al proceso de seleccion\n",
    "coeficientes = pd.DataFrame(coefs, columns =X_train.columns)\n",
    "\n",
    "variables_importantes = coeficientes.loc[:,X_train.columns[coeficientes.loc[40:].any().values]]\n"
   ]
  },
  {
   "cell_type": "code",
   "execution_count": null,
   "metadata": {
    "colab": {
     "base_uri": "https://localhost:8080/",
     "height": 651
    },
    "id": "0YleUSKaDGdl",
    "outputId": "594c9b31-29fc-4fb1-e783-8090e5a761fb"
   },
   "outputs": [],
   "source": [
    "# Graficamos\n",
    "fig, ax = plt.subplots(figsize=(10,7))\n",
    "\n",
    "l1 = plt.plot(alphas, variables_importantes,linewidth=2 )\n",
    "\n",
    "ax.set_title('Regularización Lasso', fontweight='bold', fontsize=20)\n",
    "ax.spines['right'].set_visible(False)\n",
    "ax.spines['top'].set_visible(False)\n",
    "ax.legend(coeficientes.columns, fontsize=10)\n",
    "ax.set_ylabel('coeficientes', fontsize=10)\n",
    "ax.set_xlabel('Log(lambda)', fontsize=10)\n",
    "\n",
    "plt.xticks(fontsize = 10 )\n",
    "plt.yticks( fontsize = 10 )\n",
    "\n",
    "plt.show()"
   ]
  },
  {
   "cell_type": "markdown",
   "metadata": {
    "id": "eWZFk4hgj7Oj"
   },
   "source": [
    "Una de las formas de obtener un $\\lambda$ optimo es utiliznado la técnica de **Cross-Validation**.\n",
    "\n",
    "Esta técnica consiste en partir en k partes el dataset de entrenamiento. El modelo se entrena con k-1 conjuntos y se evalua con el que fue dejado fuera. Este proceso se realiza k veces (folds) y el resultado final es el promedio de todos los entrenamientos.\n",
    "\n",
    "En este caso ajustaremos 20 veces el modelo Lasso utilizando la función [LassoCV](https://scikit-learn.org/stable/modules/generated/sklearn.linear_model.LassoCV.html?highlight=lassocv#sklearn.linear_model.LassoCV) y graficaremos la evolución del Error Cuadrático Medio para los distintos valores de $\\lambda$"
   ]
  },
  {
   "cell_type": "code",
   "execution_count": null,
   "metadata": {
    "id": "6excCszLKWTG"
   },
   "outputs": [],
   "source": [
    "# Importamos Lasso CV\n",
    "from sklearn.linear_model import LassoCV"
   ]
  },
  {
   "cell_type": "code",
   "execution_count": null,
   "metadata": {
    "id": "l4VMrCiYKgpg"
   },
   "outputs": [],
   "source": [
    "# Ajustamos el modelo mediante Cross-Validation\n",
    "t1 = time.time()\n",
    "lasso = LassoCV(cv=20).fit(X_train, y_train)\n",
    "t_lasso_cv = time.time() - t1"
   ]
  },
  {
   "cell_type": "code",
   "execution_count": null,
   "metadata": {
    "colab": {
     "base_uri": "https://localhost:8080/",
     "height": 655
    },
    "id": "ZfpVRtQeDJ6W",
    "outputId": "d1017eae-9141-42ef-d1ef-dc5003a7fe1e"
   },
   "outputs": [],
   "source": [
    "# Graficamos\n",
    "\n",
    "EPSILON = 1e-4\n",
    "\n",
    "fig, ax =plt.subplots(figsize=(10,7))\n",
    "plt.semilogx(lasso.alphas_ + EPSILON, lasso.mse_path_, ':')\n",
    "l1 =plt.plot(lasso.alphas_ + EPSILON, lasso.mse_path_.mean(axis=-1), 'k',\n",
    "         label='Promedio entre folds', linewidth=2)\n",
    "ax.axvline(lasso.alpha_ + EPSILON, linestyle='--', color='k',\n",
    "            label='lambda: CV estimado')\n",
    "\n",
    "ax.legend(fontsize=10)\n",
    "\n",
    "ax.set_xlabel(r'$\\lambda$', fontsize=10)\n",
    "ax.set_ylabel('Error Cuadratico Medio', fontsize=10)\n",
    "ax.set_title('Error cuadratico medio en cada fold: coordinate descent '\n",
    "          '(train time: %.2fs)' % t_lasso_cv, fontweight='bold', fontsize=20)\n",
    "plt.xticks(fontsize = 10 )\n",
    "plt.yticks( fontsize = 10 )\n",
    "\n",
    "ax.spines['right'].set_visible(False)\n",
    "ax.spines['top'].set_visible(False)\n",
    "\n",
    "plt.show()"
   ]
  },
  {
   "cell_type": "code",
   "execution_count": null,
   "metadata": {
    "colab": {
     "base_uri": "https://localhost:8080/"
    },
    "id": "VSjglQQKHHlc",
    "outputId": "bfe5384d-deb6-413e-c0d7-5eb8827ee979"
   },
   "outputs": [],
   "source": [
    "print(f\"El lambda final obtenido mediante CV es: {lasso.alpha_}\" )"
   ]
  },
  {
   "cell_type": "markdown",
   "metadata": {
    "id": "Yyl9fBqxkyjK"
   },
   "source": [
    "Visualizamos los nuevos coeficientes luego de la regularización"
   ]
  },
  {
   "cell_type": "code",
   "execution_count": null,
   "metadata": {
    "colab": {
     "base_uri": "https://localhost:8080/",
     "height": 989
    },
    "id": "G77lx-YsIAQ7",
    "outputId": "bc0c45c5-1303-4f11-e0f1-1afa47e0926f"
   },
   "outputs": [],
   "source": [
    "coeficientes_finales = pd.DataFrame([np.array(X_train.columns.tolist()),lasso.coef_]).T\n",
    "coeficientes_finales.columns = ['feature','coeficiente']\n",
    "coeficientes_finales"
   ]
  },
  {
   "cell_type": "code",
   "execution_count": null,
   "metadata": {
    "colab": {
     "base_uri": "https://localhost:8080/"
    },
    "id": "UjK6cgnOIfbO",
    "outputId": "d6da305f-f25e-4823-ecde-cba8d03ffa3d"
   },
   "outputs": [],
   "source": [
    "print(f\"El modelo final cuenta con : {coeficientes_finales[coeficientes_finales['coeficiente']!=0].shape[0]}\",' features' )"
   ]
  },
  {
   "cell_type": "markdown",
   "metadata": {
    "id": "bnmn5YM_KdAC"
   },
   "source": [
    "### 3.3 Ridge\n",
    "\n",
    "Es una técnica de regularización que utiliza una penalización cuadrática:\n",
    "\n",
    "$\\hat{\\beta_L}= arg min_\\beta\\sum_{i=1}^{n}(y_i-\\beta_0-\\sum_{j=p}^{n}\\beta_jx_{ji})^{2}+\\lambda\\sum_{j=p}^{n}\\beta_j^{2}$\n",
    "\n",
    "Pensandolo en términos de *ElasticNet* estaríamos en el caso de $\\alpha$=0. Para hacer este ajuste utilizarmos la función [Ridge](https://scikit-learn.org/stable/modules/generated/sklearn.linear_model.Ridge.html?highlight=ridge#sklearn.linear_model.Ridge). Vamos a replicar lo que ya realizamos con Lasso"
   ]
  },
  {
   "cell_type": "code",
   "execution_count": null,
   "metadata": {
    "id": "dHCCKA-WLwqc"
   },
   "outputs": [],
   "source": [
    "#Importamos el modelo\n",
    "from sklearn.linear_model import Ridge"
   ]
  },
  {
   "cell_type": "code",
   "execution_count": null,
   "metadata": {
    "id": "3_rz23Q6MCwr"
   },
   "outputs": [],
   "source": [
    "# Ajustamos el modelo para distintos valores de lambda\n",
    "n_alphas = 30\n",
    "alphas = np.logspace(-5,0, n_alphas)\n",
    "\n",
    "coefs = []\n",
    "for a in alphas:\n",
    "    ridge = Ridge(alpha=a, fit_intercept=False)\n",
    "    ridge.fit(X_train, y_train)\n",
    "    coefs.append(ridge.coef_)"
   ]
  },
  {
   "cell_type": "code",
   "execution_count": null,
   "metadata": {
    "colab": {
     "base_uri": "https://localhost:8080/",
     "height": 651
    },
    "id": "wweUnHHLJmPc",
    "outputId": "4bd5c585-e7f7-4ca4-d226-87099f95ecc0"
   },
   "outputs": [],
   "source": [
    "# Graficamos\n",
    "\n",
    "fig, ax = plt.subplots(figsize=(10,7))\n",
    "\n",
    "l1 = plt.plot(alphas, coefs,linewidth=2 )\n",
    "\n",
    "ax.set_title('Regularización Ridge', fontweight='bold', fontsize=20)\n",
    "ax.spines['right'].set_visible(False)\n",
    "ax.spines['top'].set_visible(False)\n",
    "\n",
    "ax.set_ylabel('coeficientes', fontsize=10)\n",
    "ax.set_xlabel('Log(lambda)', fontsize=10)\n",
    "\n",
    "plt.xticks(fontsize = 10 )\n",
    "plt.yticks( fontsize = 10 )\n",
    "\n",
    "plt.show()"
   ]
  },
  {
   "cell_type": "markdown",
   "metadata": {
    "id": "lJOeHTLPlPZn"
   },
   "source": [
    "Vamos a utilizar la función [RidgeCV](https://scikit-learn.org/stable/modules/generated/sklearn.linear_model.RidgeCV.html?highlight=ridgecv#sklearn.linear_model.RidgeCV) de la librería *sklearn* para mediante Cross-Validation obtener el $\\lambda$ óptimo"
   ]
  },
  {
   "cell_type": "code",
   "execution_count": null,
   "metadata": {
    "id": "6NmN-Wq4TB4G"
   },
   "outputs": [],
   "source": [
    "#Importamos el modelo\n",
    "from sklearn.linear_model import RidgeCV"
   ]
  },
  {
   "cell_type": "code",
   "execution_count": null,
   "metadata": {
    "id": "6g7BIRCPMdRo"
   },
   "outputs": [],
   "source": [
    "# Ajustamos el modelo para 100 valores distintos de lambda\n",
    "n_alphas = 100\n",
    "alphas = np.logspace(1,5, n_alphas)\n",
    "ridge = RidgeCV(alphas=alphas, store_cv_values=True).fit(X_train, y_train)"
   ]
  },
  {
   "cell_type": "markdown",
   "metadata": {
    "id": "auWHBwsiMsac"
   },
   "source": [
    "Si queremos almacenar la evolución del ECM en RidgeCV debemos pasar el parámetro *store_cv_values=True*. Haciendo esto no podemos controlar el *k* del cv. Para poder visualizar mejor vamos a seleccionar 20 particiones aleatorias del total que realizo RidgCV"
   ]
  },
  {
   "cell_type": "code",
   "execution_count": null,
   "metadata": {
    "id": "aYE-4k7kMlnG"
   },
   "outputs": [],
   "source": [
    "#La funcion RidgeCV no permite controlar la cantidad de k seleccionamos 20 al azar\n",
    "number_of_rows = ridge.cv_values_.shape[0]\n",
    "random_indices = np.random.choice(number_of_rows,\n",
    "                                  size=20,\n",
    "                                  replace=False)\n",
    "row = ridge.cv_values_[random_indices, :]"
   ]
  },
  {
   "cell_type": "code",
   "execution_count": null,
   "metadata": {
    "colab": {
     "base_uri": "https://localhost:8080/",
     "height": 655
    },
    "id": "71sgfdSkLa3o",
    "outputId": "6fdf785d-a477-4706-e31e-b18e68c739f3"
   },
   "outputs": [],
   "source": [
    "# Graficamos\n",
    "fig, ax =plt.subplots(figsize=(10,7))\n",
    "\n",
    "plt.semilogx(ridge.alphas + EPSILON, row.T, ':')\n",
    "l1 =plt.plot(ridge.alphas + EPSILON,row.T.mean(axis=-1), 'k',\n",
    "         label='Promedio entre folds', linewidth=2)\n",
    "ax.axvline(ridge.alpha_ + EPSILON, linestyle='--', color='k',\n",
    "            label='lambda: CV estimado')\n",
    "\n",
    "ax.legend(fontsize=10)\n",
    "\n",
    "ax.set_xlabel(r'$\\lambda$', fontsize=10)\n",
    "ax.set_ylabel('Error Cuadratico Medio', fontsize=10)\n",
    "ax.set_title('Error cuadratico medio en cada fold: coordinate descent '\n",
    "          '(train time: %.2fs)' % t_lasso_cv, fontweight='bold', fontsize=20)\n",
    "plt.xticks(fontsize = 10 )\n",
    "plt.yticks( fontsize = 10 )\n",
    "\n",
    "ax.spines['right'].set_visible(False)\n",
    "ax.spines['top'].set_visible(False)\n",
    "\n",
    "plt.show()"
   ]
  },
  {
   "cell_type": "markdown",
   "metadata": {
    "id": "K54S4vDEaK2W"
   },
   "source": [
    "Seleccion del Lambda optimo"
   ]
  },
  {
   "cell_type": "code",
   "execution_count": null,
   "metadata": {
    "colab": {
     "base_uri": "https://localhost:8080/"
    },
    "id": "kaXQrD2cL7R2",
    "outputId": "c4eac776-a96b-4038-e600-53b6270f3eca"
   },
   "outputs": [],
   "source": [
    "print(f\"El lambda final obtenido mediante CV es: {ridge.alpha_}\" )"
   ]
  },
  {
   "cell_type": "markdown",
   "metadata": {
    "id": "_nDUCmROlwnp"
   },
   "source": [
    "Visualizamos los nuevos coeficientes luego de la regularización"
   ]
  },
  {
   "cell_type": "code",
   "execution_count": null,
   "metadata": {
    "colab": {
     "base_uri": "https://localhost:8080/",
     "height": 989
    },
    "id": "aEsTPqBrWoTf",
    "outputId": "a5639b22-bf30-451a-ebc7-02a9149f156a"
   },
   "outputs": [],
   "source": [
    "coeficientes_finales = pd.DataFrame([np.array(X_train.columns.tolist()),ridge.coef_]).T\n",
    "coeficientes_finales.columns = ['feature','coeficiente']\n",
    "coeficientes_finales"
   ]
  },
  {
   "cell_type": "markdown",
   "metadata": {
    "id": "fSHgoFCfavHf"
   },
   "source": [
    "### 3.4 Elastic Net\n",
    "\n",
    "El modelo de Elastic Net incopora los dos tipos de penalización: Lasso (Norma L1) y Ridge (Norma L2). Define un compromiso entre las penalidades de lasso y ridge. El parámetro $\\alpha$ regula la importancia de cada penalización, cuanto más cerca de cero será más importante la penalización del tipo Ridge y más cerca de 1, la del tipo Lasso.\n",
    "\n",
    "*ECM* + $\\lambda$ [ $\\alpha$ $\\Sigma_{j}$|$\\beta_{j}$| + (1-$\\alpha$) $\\Sigma_{j}$$\\beta_{j}^{2}$]\n",
    "\n",
    "\n",
    "En este caso aplicaremos un modelo con un $\\alpha$=0.5. Para poder visualizar la evolución de las variables en función de $\\lambda$ vamos a utilizar la funcion [enet_path](https://scikit-learn.org/stable/modules/generated/sklearn.linear_model.enet_path.html?highlight=enet_path#sklearn.linear_model.enet_path)"
   ]
  },
  {
   "cell_type": "code",
   "execution_count": null,
   "metadata": {
    "id": "uaaNn7l1Ny-A"
   },
   "outputs": [],
   "source": [
    "#Importamos la funcion enet_path\n",
    "from sklearn.linear_model import enet_path"
   ]
  },
  {
   "cell_type": "code",
   "execution_count": null,
   "metadata": {
    "id": "5E_U7ZUqN-eH"
   },
   "outputs": [],
   "source": [
    "#Ajsutamos el modelo\n",
    "eps = 5e-3\n",
    "alphas_enet, coefs_enet, _ = enet_path(X_train, y_train, eps=eps, l1_ratio=0.5)\n"
   ]
  },
  {
   "cell_type": "code",
   "execution_count": null,
   "metadata": {
    "id": "6pHRcntPOH1D"
   },
   "outputs": [],
   "source": [
    "#Definimos todos los colores que vamos a utilizar para poder graficar\n",
    "import matplotlib.pyplot as plt\n",
    "from matplotlib import colors as mcolors\n",
    "colors = dict(mcolors.BASE_COLORS, **mcolors.CSS4_COLORS)\n",
    "\n",
    "# Sort colors by hue, saturation, value and name.\n",
    "by_hsv = sorted((tuple(mcolors.rgb_to_hsv(mcolors.to_rgba(color)[:3])), name)\n",
    "                for name, color in colors.items())\n",
    "sorted_names = [name for hsv, name in by_hsv]\n",
    "np.random.shuffle(sorted_names)"
   ]
  },
  {
   "cell_type": "code",
   "execution_count": null,
   "metadata": {
    "colab": {
     "base_uri": "https://localhost:8080/",
     "height": 649
    },
    "id": "J8cyBNepaDeo",
    "outputId": "132eaa70-db6d-4dbe-dc0d-0a80f688524f"
   },
   "outputs": [],
   "source": [
    "#Graficamos\n",
    "eps = 5e-3\n",
    "fig, ax =plt.subplots(figsize=(10,7))\n",
    "colors = cycle(sorted_names[:30])\n",
    "\n",
    "neg_log_alphas_enet = -np.log10(alphas_enet)\n",
    "for  coef_e, c in zip(coefs_enet, colors):\n",
    "    l2 = plt.plot(neg_log_alphas_enet, coef_e, linestyle='--', c=c)\n",
    "\n",
    "ax.set_xlabel('-Log(alpha)',fontsize = 10)\n",
    "ax.set_ylabel('coefficients',fontsize = 10)\n",
    "ax.set_title('Elastic-Net Paths', fontweight='bold', fontsize=20)\n",
    "\n",
    "plt.axis('tight')\n",
    "\n",
    "plt.xticks(fontsize = 10 )\n",
    "plt.yticks( fontsize = 10 )\n",
    "\n",
    "ax.spines['right'].set_visible(False)\n",
    "ax.spines['top'].set_visible(False)\n",
    "plt.show()"
   ]
  },
  {
   "cell_type": "markdown",
   "metadata": {
    "id": "ULn5wYbTOVMI"
   },
   "source": [
    "Para la obtención del $\\lambda$ óptimo vamos a utilizar nuevamente la estrategia de **Cross-Validation**. Para eso utilizaremos la función [ElasticNetCV](https://scikit-learn.org/stable/modules/generated/sklearn.linear_model.ElasticNetCV.html?highlight=elasticnetcv#sklearn.linear_model.ElasticNetCV)"
   ]
  },
  {
   "cell_type": "code",
   "execution_count": null,
   "metadata": {
    "id": "jGw42VIHOyD0"
   },
   "outputs": [],
   "source": [
    "#Importamos el modelo\n",
    "from sklearn.linear_model import ElasticNetCV"
   ]
  },
  {
   "cell_type": "code",
   "execution_count": null,
   "metadata": {
    "id": "eRivVWPAO5Xk"
   },
   "outputs": [],
   "source": [
    "#Ajustamos el modelo\n",
    "enet = ElasticNetCV(cv=20).fit(X_train, y_train)\n"
   ]
  },
  {
   "cell_type": "code",
   "execution_count": null,
   "metadata": {
    "colab": {
     "base_uri": "https://localhost:8080/",
     "height": 655
    },
    "id": "uYSOZ-bbe_xB",
    "outputId": "60563856-6d5f-43c0-f041-43c50638fbb9"
   },
   "outputs": [],
   "source": [
    "#Graficamos\n",
    "EPSILON = 1e-4\n",
    "\n",
    "\n",
    "fig, ax =plt.subplots(figsize=(10,7))\n",
    "plt.semilogx(enet.alphas_ + EPSILON, enet.mse_path_, ':')\n",
    "l1 =plt.plot(enet.alphas_ + EPSILON, enet.mse_path_.mean(axis=-1), 'k',\n",
    "         label='Promedio entre folds', linewidth=2)\n",
    "ax.axvline(enet.alpha_ + EPSILON, linestyle='--', color='k',\n",
    "            label='lambda: CV estimado')\n",
    "\n",
    "ax.legend(fontsize=10)\n",
    "\n",
    "ax.set_xlabel(r'$\\lambda$', fontsize=10)\n",
    "ax.set_ylabel('Error Cuadratico Medio', fontsize=10)\n",
    "ax.set_title('Error cuadratico medio en cada fold: coordinate descent '\n",
    "          '(train time: %.2fs)' % t_lasso_cv, fontweight='bold', fontsize=20)\n",
    "plt.xticks(fontsize = 10 )\n",
    "plt.yticks( fontsize = 10 )\n",
    "\n",
    "ax.spines['right'].set_visible(False)\n",
    "ax.spines['top'].set_visible(False)\n",
    "\n",
    "plt.show()"
   ]
  },
  {
   "cell_type": "markdown",
   "metadata": {
    "id": "4OydrAazhrPL"
   },
   "source": [
    "Obtenemos el lambda óptimo"
   ]
  },
  {
   "cell_type": "code",
   "execution_count": null,
   "metadata": {
    "colab": {
     "base_uri": "https://localhost:8080/"
    },
    "id": "OET2F-mfhpKq",
    "outputId": "82adf502-4899-4d5e-cd66-7062589baff9"
   },
   "outputs": [],
   "source": [
    "print(f\"El lambda final obtenido mediante CV es: {enet.alpha_}\" )"
   ]
  },
  {
   "cell_type": "markdown",
   "metadata": {
    "id": "7kv3sIn5mP3Y"
   },
   "source": [
    "Visualizamos los nuevos coeficientes luego de la regularización"
   ]
  },
  {
   "cell_type": "code",
   "execution_count": null,
   "metadata": {
    "colab": {
     "base_uri": "https://localhost:8080/",
     "height": 989
    },
    "id": "SRO4w5vpdc2L",
    "outputId": "efee01b7-37f5-4558-bb86-a119d6b84358"
   },
   "outputs": [],
   "source": [
    "coeficientes_finales = pd.DataFrame([np.array(X_train.columns.tolist()),enet.coef_]).T\n",
    "coeficientes_finales.columns = ['feature','coeficiente']\n",
    "coeficientes_finales"
   ]
  },
  {
   "cell_type": "code",
   "execution_count": null,
   "metadata": {
    "colab": {
     "base_uri": "https://localhost:8080/"
    },
    "id": "9jdplVe9qwwl",
    "outputId": "f6499709-ae0f-44ba-f91e-94ccfb99b906"
   },
   "outputs": [],
   "source": [
    "print(f\"El modelo final cuenta con : {coeficientes_finales[coeficientes_finales['coeficiente']!=0].shape[0]}\",' features' )"
   ]
  },
  {
   "cell_type": "markdown",
   "metadata": {
    "id": "NzXVBzAVpWgb"
   },
   "source": [
    "### 3.5 Comparación de Modelos\n",
    "\n",
    "Para comparar los distintos modelos lo que vamos a hacer es realizar predicciones mediante la método *.predict()* y evaluarlas con la función [mean_squared_error](https://scikit-learn.org/stable/modules/generated/sklearn.metrics.mean_squared_error.html?highlight=mean_squared_error#sklearn.metrics.mean_squared_error)"
   ]
  },
  {
   "cell_type": "code",
   "execution_count": null,
   "metadata": {
    "id": "Rr9BzjT0PdLy"
   },
   "outputs": [],
   "source": [
    "#importamos la metrica\n",
    "from sklearn.metrics import mean_squared_error"
   ]
  },
  {
   "cell_type": "code",
   "execution_count": null,
   "metadata": {
    "id": "dIZUdIoMPh8p"
   },
   "outputs": [],
   "source": [
    "# Computamos el ECM tomando como modelo al promedio de los salarios\n",
    "promedio = np.repeat(y_train.mean(), y_train.shape[0])\n",
    "mse_promedio = mean_squared_error(y_train, promedio)"
   ]
  },
  {
   "cell_type": "code",
   "execution_count": null,
   "metadata": {
    "id": "i1Sp-aGKPmb-"
   },
   "outputs": [],
   "source": [
    "#Importamos el modelo de regresion lineal\n",
    "from sklearn.linear_model import LinearRegression\n",
    "\n",
    "#Ajustamos el modelo\n",
    "model_scaled_lineal = LinearRegression()\n",
    "model_scaled_lineal = model_scaled_lineal.fit(X_train, y_train)\n",
    "\n",
    "#Obtenemoos las predicciones y el ECM del modelo de regresion lineal\n",
    "y_pred_lineal = model_scaled_lineal.predict(X_train)\n",
    "mse_lineal = mean_squared_error(y_train, y_pred_lineal)"
   ]
  },
  {
   "cell_type": "code",
   "execution_count": null,
   "metadata": {
    "id": "oV9zFE5fP-ky"
   },
   "outputs": [],
   "source": [
    "#Obtenemos el ECM de la regresion Lasso\n",
    "\n",
    "y_pred_lasso = lasso.predict(X_train)\n",
    "mse_lasso = mean_squared_error(y_train, y_pred_lasso)"
   ]
  },
  {
   "cell_type": "code",
   "execution_count": null,
   "metadata": {
    "id": "ugpxYGbuQEP_"
   },
   "outputs": [],
   "source": [
    "#Obtenemos el ECM de la regresion Ridge\n",
    "y_pred_ridge = ridge.predict(X_train)\n",
    "mse_ridge = mean_squared_error(y_train, y_pred_ridge)"
   ]
  },
  {
   "cell_type": "code",
   "execution_count": null,
   "metadata": {
    "id": "U12T90jKQHS5"
   },
   "outputs": [],
   "source": [
    "#Obtenemos el ECM de ElasticNet\n",
    "\n",
    "y_pred_enet = enet.predict(X_train)\n",
    "mse_enet = mean_squared_error(y_train, y_pred_enet)\n"
   ]
  },
  {
   "cell_type": "code",
   "execution_count": null,
   "metadata": {
    "colab": {
     "base_uri": "https://localhost:8080/",
     "height": 206
    },
    "id": "a-zua4ZPdpdS",
    "outputId": "a8b1297e-cd66-42ba-9baa-3db9f82595a3"
   },
   "outputs": [],
   "source": [
    "#Ordenamos los datos y los acomodamos en un dataframe\n",
    "modelo = ['promedio', 'lineal','lasso','ridge','enet']\n",
    "metrica = np.repeat('ecm', 5)\n",
    "error = [mse_promedio, mse_lineal, mse_lasso, mse_ridge, mse_enet]\n",
    "columns = ['modelo', 'metrica', 'valor']\n",
    "data = np.array([modelo, metrica, error]).T\n",
    "pd.DataFrame(data=data, columns=columns)"
   ]
  },
  {
   "cell_type": "markdown",
   "metadata": {
    "id": "iSl3R90AQQ_p"
   },
   "source": [
    "Ahora vamos a evaluar los modelos en el conjunto de Test"
   ]
  },
  {
   "cell_type": "code",
   "execution_count": null,
   "metadata": {
    "id": "N4C8693HQPX-"
   },
   "outputs": [],
   "source": [
    "# Computamos el ECM tomando como modelo al promedio de los salarios\n",
    "promedio = np.repeat(y_test.mean(), y_test.shape[0])\n",
    "mse_promedio = mean_squared_error(y_test, promedio)"
   ]
  },
  {
   "cell_type": "code",
   "execution_count": null,
   "metadata": {
    "id": "-BvSjfCdQXD1"
   },
   "outputs": [],
   "source": [
    "#Obtenemoos las predicciones y el ECM del modelo de regresion lineal\n",
    "y_pred_lineal = model_scaled_lineal.predict(X_test)\n",
    "mse_lineal = mean_squared_error(y_test, y_pred_lineal)"
   ]
  },
  {
   "cell_type": "code",
   "execution_count": null,
   "metadata": {
    "id": "ZZhoopwyQZ10"
   },
   "outputs": [],
   "source": [
    "#Obtenemos el ECM de la regresion Lasso\n",
    "y_pred_lasso = lasso.predict(X_test)\n",
    "mse_lasso = mean_squared_error(y_test, y_pred_lasso)"
   ]
  },
  {
   "cell_type": "code",
   "execution_count": null,
   "metadata": {
    "id": "SvCWM5rcQclH"
   },
   "outputs": [],
   "source": [
    "#Obtenemos el ECM de la regresion Ridge\n",
    "y_pred_ridge = ridge.predict(X_test)\n",
    "mse_ridge = mean_squared_error(y_test, y_pred_ridge)\n"
   ]
  },
  {
   "cell_type": "code",
   "execution_count": null,
   "metadata": {
    "id": "oovIpo2YQhjg"
   },
   "outputs": [],
   "source": [
    "#Obtenemos el ECM de ElasticNet\n",
    "y_pred_enet = enet.predict(X_test)\n",
    "mse_enet = mean_squared_error(y_test, y_pred_enet)"
   ]
  },
  {
   "cell_type": "code",
   "execution_count": null,
   "metadata": {
    "colab": {
     "base_uri": "https://localhost:8080/",
     "height": 206
    },
    "id": "e1SVBFIJrcan",
    "outputId": "da82ebf0-317d-49a8-b56c-7c8f6f9f2770"
   },
   "outputs": [],
   "source": [
    "#Ordenamos los datos y los acomodamos en un dataframe\n",
    "y_pred_enet = enet.predict(X_test)\n",
    "mse_enet = mean_squared_error(y_test, y_pred_enet)\n",
    "\n",
    "modelo = ['promedio', 'lineal','lasso','ridge','enet']\n",
    "metrica = np.repeat('ecm', 5)\n",
    "error = [mse_promedio, mse_lineal, mse_lasso, mse_ridge, mse_enet]\n",
    "columns = ['modelo', 'metrica', 'valor']\n",
    "data = np.array([modelo, metrica, error]).T\n",
    "pd.DataFrame(data=data, columns=columns)"
   ]
  },
  {
   "cell_type": "markdown",
   "metadata": {
    "id": "fMcp24wwrxAt"
   },
   "source": [
    "## 4. Optimización de Hiperparámetros\n",
    "\n",
    "Los **hiperparametros** no se obtienen mediante el proceso de ajuste, sino que son definición propia del modelo por parte de quien lo esta llevando adelante. La elección de los mismos va a tener una injerencia significativa en el desempeño del modelo ya que por ejemplo pueden ayudar a prevenir el *sobreajuste* o *overfitting*\n",
    "\n",
    "En el caso particular de los modelos que estuvimos viendo en esta sección los hiperparámetros serán:\n",
    "* $\\lambda$: cuantifica la magnitud de la penalización o regularización a aplicar\n",
    "* $\\alpha$: balancea el tipo de penalidad que vamos a aplicar. Actua como un puente entre *Ridge* ($\\alpha$=0) y *Lasso* ($\\alpha$=1)\n",
    "\n"
   ]
  },
  {
   "cell_type": "markdown",
   "metadata": {
    "id": "vQeG2ZL401Lx"
   },
   "source": [
    "### 4.1 Búsqueda de Grilla o Grid-search\n",
    "\n",
    "Tal como indica su nombre la Búsqueda de Grilla se lleva adelante generando una matriz con los distintos valores de los parámetros que deseamos evaluar. Esto implica que la cantidad de iteraciones vendrá dada por todas las posibles combinaciones de los valores de los parámetros que indicamos en la grilla.\n",
    "\n",
    "En nuestro caso vamos a evaluar esta estrategia sobre el modelo *Elastic Net*. Para eso vamos a utilizar la función [GridSearchCV](https://scikit-learn.org/stable/modules/generated/sklearn.model_selection.GridSearchCV.html#sklearn.model_selection.GridSearchCV) de la librería *sklearn*.\n",
    "Para conformar la grilla a evaluar debemos generar un diccionario cuyas 'keys' van a ser los nombres de los parámetros y una lista de los valores para cada uno de ellos"
   ]
  },
  {
   "cell_type": "code",
   "execution_count": null,
   "metadata": {
    "id": "eE0Ir9RCQqGh"
   },
   "outputs": [],
   "source": [
    "# Importamos el modelo\n",
    "from sklearn.model_selection import GridSearchCV\n",
    "from sklearn.linear_model import  ElasticNet"
   ]
  },
  {
   "cell_type": "code",
   "execution_count": null,
   "metadata": {
    "id": "2iGNmgyHQu0z"
   },
   "outputs": [],
   "source": [
    "#Definimos la grilla\n",
    "parametros = {'alpha':[0.001,0.01,0.1,1,10,100],\n",
    "               'l1_ratio':[0,0.25,0.5,0.75,1]}"
   ]
  },
  {
   "cell_type": "code",
   "execution_count": null,
   "metadata": {
    "id": "T7auCKxFQz5q"
   },
   "outputs": [],
   "source": [
    "# Definimos el modelo\n",
    "enet = ElasticNet()\n",
    "\n",
    "grid_search = GridSearchCV(estimator = enet, param_grid = parametros, cv = 20, scoring ='neg_mean_squared_error')"
   ]
  },
  {
   "cell_type": "code",
   "execution_count": null,
   "metadata": {
    "colab": {
     "base_uri": "https://localhost:8080/"
    },
    "id": "HUuTDcB8Q3yU",
    "outputId": "074fb9ae-7c21-456e-e552-6d058daaa969"
   },
   "outputs": [],
   "source": [
    "#Ajustamos el modelo\n",
    "start_time = time.time()\n",
    "grid_search.fit(X_train, y_train)\n",
    "\n",
    "tiempo_grid = (time.time() - start_time)\n",
    "print(\"Tiempo de ejecucion %s segundos ---\\n\" % tiempo_grid)\n",
    "print('Mejor combinación de parámetros %s \\n'% grid_search.best_params_)\n",
    "print('Definición del Modelo %s '% grid_search.best_estimator_)"
   ]
  },
  {
   "cell_type": "code",
   "execution_count": null,
   "metadata": {
    "colab": {
     "base_uri": "https://localhost:8080/",
     "height": 989
    },
    "id": "fG_IjB5k2Wi0",
    "outputId": "3d6c95c1-9e62-4f7b-dfdb-4e2c122de822"
   },
   "outputs": [],
   "source": [
    "#Obtenemos la combinacion total de parametros\n",
    "import itertools as it\n",
    "\n",
    "diccionario_parametros = sorted(parametros)\n",
    "combinaciones = it.product(*(parametros[Name] for Name in diccionario_parametros))\n",
    "combinacioes_realizadas = pd.DataFrame(combinaciones, columns=['lambda', 'alpha'])\n",
    "combinacioes_realizadas"
   ]
  },
  {
   "cell_type": "code",
   "execution_count": null,
   "metadata": {
    "colab": {
     "base_uri": "https://localhost:8080/"
    },
    "id": "-7toqwKw5RjM",
    "outputId": "72899d8d-ffd7-4828-be20-b685da531280"
   },
   "outputs": [],
   "source": [
    "print('Cantidad de combinaciones evaluadas %s '% combinacioes_realizadas.shape[0])"
   ]
  },
  {
   "cell_type": "code",
   "execution_count": null,
   "metadata": {
    "colab": {
     "base_uri": "https://localhost:8080/",
     "height": 989
    },
    "id": "WjxnBchRsOtY",
    "outputId": "05396968-cf49-436c-ba70-faa0641e9bb3"
   },
   "outputs": [],
   "source": [
    "#Mostramos los coeficientes fianles\n",
    "coeficientes_finales_grid = pd.DataFrame([np.array(X_train.columns.tolist()),grid_search.best_estimator_.coef_]).T\n",
    "coeficientes_finales_grid.columns = ['feature','coeficiente']\n",
    "coeficientes_finales_grid"
   ]
  },
  {
   "cell_type": "code",
   "execution_count": null,
   "metadata": {
    "colab": {
     "base_uri": "https://localhost:8080/"
    },
    "id": "Itc5E4fw5xIf",
    "outputId": "e71eaf9b-6406-460e-dbb6-70cefce8cf28"
   },
   "outputs": [],
   "source": [
    "print(f\"El modelo final cuenta con : {coeficientes_finales_grid[coeficientes_finales_grid['coeficiente']!=0].shape[0]}\",' features' )"
   ]
  },
  {
   "cell_type": "markdown",
   "metadata": {
    "id": "q7KLX2FC046g"
   },
   "source": [
    "### 4.2 Búsqueda aleatoria o Random Search\n",
    "\n",
    "Es una estrategia de búsqueda que realiza combinaciones aleatorias de los parámetros a partir de una definición de la distribución de los mismos por parte del usuario. A diferencia de la Búsqueda de Grilla, la Búsqueda aleatoria requiere que el usuario establezca la cantidad de combinaciones que se van a realizar.\n",
    "\n",
    "Vamos a utilizar la función [RandomizedSearchCV](https://scikit-learn.org/stable/modules/generated/sklearn.model_selection.RandomizedSearchCV.html) tambien de sklearn. Al igual que en el caso de la Búsqueda de Grilla, debemos generar un diccionario con las distribuciones de los parámetros a evaluar."
   ]
  },
  {
   "cell_type": "code",
   "execution_count": null,
   "metadata": {
    "id": "Ko3PyMl5RF15"
   },
   "outputs": [],
   "source": [
    "#Importamos el modelo y algunas funciones auxiliares\n",
    "from sklearn.model_selection import RandomizedSearchCV\n",
    "from sklearn.utils.fixes import loguniform\n",
    "import scipy.stats as stats"
   ]
  },
  {
   "cell_type": "code",
   "execution_count": null,
   "metadata": {
    "id": "pE8_9RmSRKxZ"
   },
   "outputs": [],
   "source": [
    "# Definimos los parametros\n",
    "parametros={'l1_ratio': stats.uniform(0, 1),\n",
    "              'alpha': loguniform(1e-4, 1e0)}\n",
    "n_iteraciones = 15\n",
    "semilla = 2021"
   ]
  },
  {
   "cell_type": "code",
   "execution_count": null,
   "metadata": {
    "colab": {
     "base_uri": "https://localhost:8080/"
    },
    "id": "jO_AE6FS0u1a",
    "outputId": "21fc040d-045f-4909-88bc-d767c17ed453"
   },
   "outputs": [],
   "source": [
    "#Ajustamos el modelo\n",
    "start_time = time.time()\n",
    "\n",
    "\n",
    "enet_random = ElasticNet()\n",
    "random_search = RandomizedSearchCV(estimator = enet_random, n_iter = n_iteraciones, param_distributions = parametros,\n",
    "                                   cv = 20, scoring ='neg_mean_squared_error', random_state = semilla )\n",
    "random_search.fit(X_train, y_train)\n",
    "tiempo_random = (time.time() - start_time)\n",
    "\n",
    "print(\"Tiempo de ejecucion %s segundos ---\\n\" % tiempo_random)\n",
    "print('Mejor combinación de parámetros %s \\n'% random_search.best_params_)\n",
    "print('Definición del Modelo %s \\n'% random_search.best_estimator_)\n",
    "print('Combinaciones Evaluadas %s '% n_iteraciones)"
   ]
  },
  {
   "cell_type": "code",
   "execution_count": null,
   "metadata": {
    "colab": {
     "base_uri": "https://localhost:8080/",
     "height": 989
    },
    "id": "4cFfWj-BxUEX",
    "outputId": "c8ef287d-092d-4ab5-bbb0-a3661f3a10d7"
   },
   "outputs": [],
   "source": [
    "#Visualizamos los coeficientes\n",
    "coeficientes_finales_random = pd.DataFrame([np.array(X_train.columns.tolist()),random_search.best_estimator_.coef_]).T\n",
    "coeficientes_finales_random.columns = ['feature','coeficiente']\n",
    "coeficientes_finales_random"
   ]
  },
  {
   "cell_type": "code",
   "execution_count": null,
   "metadata": {
    "colab": {
     "base_uri": "https://localhost:8080/"
    },
    "id": "brC9ud3L51kx",
    "outputId": "03331134-f7ea-49d8-aedc-af814b94890e"
   },
   "outputs": [],
   "source": [
    "print(f\"El modelo final cuenta con : {coeficientes_finales_random[coeficientes_finales_random['coeficiente']!=0].shape[0]}\",' features' )"
   ]
  },
  {
   "cell_type": "markdown",
   "metadata": {
    "id": "wCFaVaHt4xcM"
   },
   "source": [
    "### 4.3 Comparación de Optimizadores"
   ]
  },
  {
   "cell_type": "code",
   "execution_count": null,
   "metadata": {
    "id": "xt7WZuNdRUyc"
   },
   "outputs": [],
   "source": [
    "#Computamos el ECM del Grid Search\n",
    "y_pred_grid = grid_search.best_estimator_.predict(X_test)\n",
    "mse_grid = mean_squared_error(y_test, y_pred_grid)"
   ]
  },
  {
   "cell_type": "code",
   "execution_count": null,
   "metadata": {
    "id": "yDNAMyHzRYkL"
   },
   "outputs": [],
   "source": [
    "#Computamos el ECM del Random Search\n",
    "y_pred_random = random_search.best_estimator_.predict(X_test)\n",
    "mse_random = mean_squared_error(y_test, y_pred_random)"
   ]
  },
  {
   "cell_type": "code",
   "execution_count": null,
   "metadata": {
    "colab": {
     "base_uri": "https://localhost:8080/",
     "height": 112
    },
    "id": "DplJPIr-2ro7",
    "outputId": "fd36c56e-a524-449b-a933-73f192201fcd"
   },
   "outputs": [],
   "source": [
    "#Organizamos la informacion en un dataframe\n",
    "estrategia = ['GridSearch', 'RandomSearch']\n",
    "tiempo = [tiempo_grid, tiempo_random]\n",
    "metrica = np.repeat('ecm', 2)\n",
    "error = [mse_grid, mse_random]\n",
    "iteraciones = [combinacioes_realizadas.shape[0], n_iteraciones ]\n",
    "folds = [20,20]\n",
    "n_variables = [ coeficientes_finales_grid[coeficientes_finales_grid['coeficiente']!=0].shape[0], coeficientes_finales_random[coeficientes_finales_random['coeficiente']!=0].shape[0]]\n",
    "columns = ['estregia','tiempo', 'metrica', 'valor', 'combinaciones', 'folds', 'n_variables']\n",
    "data = np.array([estrategia, tiempo, metrica, error, iteraciones, folds, n_variables]).T\n",
    "pd.DataFrame(data=data, columns=columns)"
   ]
  },
  {
   "cell_type": "markdown",
   "metadata": {
    "id": "A07bAuf-8iPF"
   },
   "source": [
    "## 5. Feature Engineering"
   ]
  },
  {
   "cell_type": "markdown",
   "metadata": {
    "id": "gnICnqDYetga"
   },
   "source": [
    "Vamos a cargar nuevamente el conjutno de datos para poder operar las distintas transformaciones que deseemos."
   ]
  },
  {
   "cell_type": "code",
   "execution_count": null,
   "metadata": {
    "id": "fv6T4MvD6r5D"
   },
   "outputs": [],
   "source": [
    "nba = pd.read_csv('https://datasets-humai.s3.amazonaws.com/datasets/nba_salarios_2021.csv')"
   ]
  },
  {
   "cell_type": "markdown",
   "metadata": {
    "id": "4hYcT7WCe2QU"
   },
   "source": [
    "### 5.1 Imputación de datos faltantes\n",
    "\n",
    "La imputación de datos faltantes puede hacerse mediante distitnas estrategias:\n",
    "\n",
    "**Variables Numéricas**\n",
    "* Media: completar los nulos con la media de la columna\n",
    "* Mediana: completar los nulos con la mediana de la columna\n",
    "* Media Condicionada: los nulos se completan con la media condicionada respecto a alguna otra columna.\n",
    "\n",
    "**Variables Numéricas o Categóricas**\n",
    "* Valor más frecuente: se completa con el valor que más veces se repite en la columna\n",
    "* Valor Constante: se completa con algun valor que se desee\n",
    "\n",
    "Para poder hacerlo vamos a utilizar la función [SimpleImputer](https://scikit-learn.org/stable/modules/generated/sklearn.impute.SimpleImputer.html#sklearn.impute.SimpleImputer)"
   ]
  },
  {
   "cell_type": "code",
   "execution_count": null,
   "metadata": {
    "colab": {
     "base_uri": "https://localhost:8080/"
    },
    "id": "OQMBjPZlftMy",
    "outputId": "fff5bfa1-e398-4857-f5a6-ba7e61174f36"
   },
   "outputs": [],
   "source": [
    "#Observamos cuantos datos faltantes hay en cada columna\n",
    "nba.isnull().sum()"
   ]
  },
  {
   "cell_type": "code",
   "execution_count": null,
   "metadata": {
    "id": "THN-ADI1f4ci"
   },
   "outputs": [],
   "source": [
    "#Generamos un par de nulos en la posicion para poder imputar categoricas\n",
    "nba['position'] = np.where(nba['salary'].isnull(),np.nan, nba['position'])"
   ]
  },
  {
   "cell_type": "code",
   "execution_count": null,
   "metadata": {
    "colab": {
     "base_uri": "https://localhost:8080/",
     "height": 141
    },
    "id": "oFa3Axva8hFU",
    "outputId": "20333449-b524-4e12-d944-252faf059c06"
   },
   "outputs": [],
   "source": [
    "# Visualizamos los casos con faltantes\n",
    "nba[nba['salary'].isnull()]"
   ]
  },
  {
   "cell_type": "code",
   "execution_count": null,
   "metadata": {
    "id": "rvwx6ughds4E"
   },
   "outputs": [],
   "source": [
    "# Importamos la funcion\n",
    "from sklearn.impute import SimpleImputer"
   ]
  },
  {
   "cell_type": "code",
   "execution_count": null,
   "metadata": {
    "id": "tjoiBkotgj34"
   },
   "outputs": [],
   "source": [
    "# Separamos las variables categoricas y nulas con faltantes para poder tener una mejor visualizacion\n",
    "numericas = nba[['salary']]\n",
    "categoricas = nba[['position']]\n"
   ]
  },
  {
   "cell_type": "markdown",
   "metadata": {
    "id": "qykM8O60ijCQ"
   },
   "source": [
    "Procedemos a hacerlo con las variables numéricas"
   ]
  },
  {
   "cell_type": "code",
   "execution_count": null,
   "metadata": {
    "id": "9Pi4K4i1g3Ru"
   },
   "outputs": [],
   "source": [
    "# Imputamos con la media\n",
    "imputer = SimpleImputer(missing_values=np.nan, strategy='mean')\n",
    "imputer.fit(numericas[['salary']])\n",
    "numericas['media']=imputer.transform(numericas[['salary']])"
   ]
  },
  {
   "cell_type": "code",
   "execution_count": null,
   "metadata": {
    "id": "40BIlMyOh8fX"
   },
   "outputs": [],
   "source": [
    "# Imputamos con la mediana\n",
    "imputer = SimpleImputer(missing_values=np.nan, strategy='median')\n",
    "imputer.fit(numericas[['salary']])\n",
    "numericas['mediana']=imputer.transform(numericas[['salary']])"
   ]
  },
  {
   "cell_type": "code",
   "execution_count": null,
   "metadata": {
    "id": "bTa1iIhCiJCT"
   },
   "outputs": [],
   "source": [
    "# Imputamos con un valor constante\n",
    "imputer = SimpleImputer(missing_values=np.nan, strategy='constant', fill_value = 99999)\n",
    "imputer.fit(numericas[['salary']])\n",
    "numericas['constante']=imputer.transform(numericas[['salary']])"
   ]
  },
  {
   "cell_type": "code",
   "execution_count": null,
   "metadata": {
    "id": "Rf4mtcCriRa9"
   },
   "outputs": [],
   "source": [
    "# Imputamos con el valor mas frecuente\n",
    "imputer = SimpleImputer(missing_values=np.nan, strategy='most_frequent')\n",
    "imputer.fit(numericas[['salary']])\n",
    "numericas['mas_frecuente']=imputer.transform(numericas[['salary']])"
   ]
  },
  {
   "cell_type": "code",
   "execution_count": null,
   "metadata": {
    "colab": {
     "base_uri": "https://localhost:8080/",
     "height": 112
    },
    "id": "kp0uURMthls3",
    "outputId": "7781eaea-3129-461e-a975-08194090be53"
   },
   "outputs": [],
   "source": [
    "# Visualizamos el resultado de las distintas estraegias\n",
    "numericas[numericas['salary'].isnull()]"
   ]
  },
  {
   "cell_type": "markdown",
   "metadata": {
    "id": "iuEJanGyinYw"
   },
   "source": [
    "Ahora lo hacemos con las variables categoricas"
   ]
  },
  {
   "cell_type": "code",
   "execution_count": null,
   "metadata": {
    "id": "omHQspQxh5j4"
   },
   "outputs": [],
   "source": [
    "# Imputamos con un valor constante\n",
    "imputer = SimpleImputer(missing_values=np.nan, strategy='constant', fill_value = 'S/D')\n",
    "imputer.fit(categoricas[['position']])\n",
    "categoricas['constante']=imputer.transform(categoricas[['position']])"
   ]
  },
  {
   "cell_type": "code",
   "execution_count": null,
   "metadata": {
    "id": "2yYCFm_fit4B"
   },
   "outputs": [],
   "source": [
    "# Imputamos con el valor mas frecuente\n",
    "imputer = SimpleImputer(missing_values=np.nan, strategy='most_frequent')\n",
    "imputer.fit(categoricas[['position']])\n",
    "categoricas['mas_frecuente']=imputer.transform(categoricas[['position']])"
   ]
  },
  {
   "cell_type": "code",
   "execution_count": null,
   "metadata": {
    "colab": {
     "base_uri": "https://localhost:8080/",
     "height": 112
    },
    "id": "Wr8EaMjNi1Wt",
    "outputId": "ad7384b7-9c0c-46c7-c7b5-5856fc0ce6b8"
   },
   "outputs": [],
   "source": [
    "categoricas[categoricas['position'].isnull()]"
   ]
  },
  {
   "cell_type": "markdown",
   "metadata": {
    "id": "aLidHjnOnXDB"
   },
   "source": [
    "### 5.2 Binning\n",
    "\n",
    "Es una estrategia que se utiliza para agrupar en bins  los registros en función de cierto criterio. Con esto se resigna variabilidad en las variables pero se gana robustez en el modelo general.\n"
   ]
  },
  {
   "cell_type": "markdown",
   "metadata": {
    "id": "QQ32rftYoA7M"
   },
   "source": [
    "**Numéricas**\n",
    "\n",
    "\n",
    "Vamos a armar bins a partir del valor de los salarios para eso vamos a usar la funcion *qcut*"
   ]
  },
  {
   "cell_type": "code",
   "execution_count": null,
   "metadata": {
    "colab": {
     "base_uri": "https://localhost:8080/",
     "height": 423
    },
    "id": "hRf9_Ao3oRw5",
    "outputId": "0415db2e-6c9d-4d6d-b203-9dd56044ad9a"
   },
   "outputs": [],
   "source": [
    "# Generamos 10 bins\n",
    "nba['salario_bins'] = pd.qcut(nba['salary'], q = 10)\n",
    "nba[['salary','salario_bins']]"
   ]
  },
  {
   "cell_type": "markdown",
   "metadata": {
    "id": "pYhC21ff1KXy"
   },
   "source": [
    "  **Categoricas**"
   ]
  },
  {
   "cell_type": "markdown",
   "metadata": {
    "id": "pCUX0223o0Xi"
   },
   "source": [
    "\n",
    "\n",
    "Vamos a reemplazar todas aquellas posiciones multiples. Para eso vamos a utilizar la funcion *np.where*"
   ]
  },
  {
   "cell_type": "code",
   "execution_count": null,
   "metadata": {
    "colab": {
     "base_uri": "https://localhost:8080/"
    },
    "id": "vXaA95Cqnhf3",
    "outputId": "73cb702c-944a-4fd6-a08a-ee4bfdf33624"
   },
   "outputs": [],
   "source": [
    "#Observamos lso valores que puede tomar la variable position\n",
    "nba.position.value_counts()"
   ]
  },
  {
   "cell_type": "code",
   "execution_count": null,
   "metadata": {
    "colab": {
     "base_uri": "https://localhost:8080/"
    },
    "id": "D5l_2YKxmtIS",
    "outputId": "2aede80d-4fed-4bb6-c4a4-17d2d38658f2"
   },
   "outputs": [],
   "source": [
    "#Reemplazamos los valores que representan multiples posiciones\n",
    "nba['posicion_agrup'] = np.where(nba['position'].isin(['SG','C','PF','SF','PG']),nba['position'], 'Otro')\n",
    "nba['posicion_agrup'].value_counts()"
   ]
  },
  {
   "cell_type": "markdown",
   "metadata": {
    "id": "_ZcuU28zpjzC"
   },
   "source": [
    "### 5.3 One-hot Encoding\n",
    "Dada una variable categórica con N filas y M categorías, mediante el One-hot-encoding la variable se va a expresar como una matriz de N filas por M columnas (NxM). En donde cada columna representa una de las categorías de la variable original y están codificadas con los valores 1 y 0.\n",
    "\n",
    "Esto lo podemos llevar adelante con la función [OneHotEncoder](https://scikit-learn.org/stable/modules/generated/sklearn.preprocessing.OneHotEncoder.html?highlight=onehotenco#sklearn.preprocessing.OneHotEncoder) o la función [get_dummies](https://pandas.pydata.org/docs/reference/api/pandas.get_dummies.html) de pandas"
   ]
  },
  {
   "cell_type": "code",
   "execution_count": null,
   "metadata": {
    "colab": {
     "base_uri": "https://localhost:8080/",
     "height": 423
    },
    "id": "RF8mCaf7pjXy",
    "outputId": "d7380150-79c4-4bb8-f4e5-bb59ca5e36e0"
   },
   "outputs": [],
   "source": [
    "#realizamos el One-hot Encoding con get_dummies\n",
    "pd.get_dummies(nba['position'])"
   ]
  },
  {
   "cell_type": "code",
   "execution_count": null,
   "metadata": {
    "id": "saVZ8TNHnmXd"
   },
   "outputs": [],
   "source": [
    "#Importamos OneHotEncoder\n",
    "from sklearn.preprocessing import OneHotEncoder"
   ]
  },
  {
   "cell_type": "code",
   "execution_count": null,
   "metadata": {
    "id": "BiUCWkfYrDLN"
   },
   "outputs": [],
   "source": [
    "#Imputamos los datos faltantes porque no debe contener nans\n",
    "imputer = SimpleImputer(missing_values=np.nan, strategy='most_frequent')\n",
    "imputer.fit(nba[['position']])\n",
    "nba['position']=imputer.transform(nba[['position']])"
   ]
  },
  {
   "cell_type": "code",
   "execution_count": null,
   "metadata": {
    "colab": {
     "base_uri": "https://localhost:8080/",
     "height": 74
    },
    "id": "r3TIjU5cqr1S",
    "outputId": "22aaec54-f28f-487d-d65c-6ebb1aca331c"
   },
   "outputs": [],
   "source": [
    "#Ajustamos el encoder\n",
    "enc = OneHotEncoder(handle_unknown='ignore')\n",
    "enc.fit(nba[['position']])"
   ]
  },
  {
   "cell_type": "code",
   "execution_count": null,
   "metadata": {
    "colab": {
     "base_uri": "https://localhost:8080/",
     "height": 423
    },
    "id": "AoyyOKx6q1be",
    "outputId": "de5489f4-5898-428d-ec06-7067d167ab1e"
   },
   "outputs": [],
   "source": [
    "#Generamos las dummies\n",
    "dummies = enc.transform(nba[['position']])\n",
    "pd.DataFrame(dummies.toarray())"
   ]
  },
  {
   "cell_type": "markdown",
   "metadata": {
    "id": "FuIwD7sxsHdI"
   },
   "source": [
    "### 5.4 Agrupación\n",
    "\n",
    "Mediante la agrupación se puede  generar nuevas variables resumiendo de la información de distintas observaciones y agrupandolas según algún criterio que surte a partir de otra/otras variables. La función que utilizaremos es [groupby](https://pandas.pydata.org/pandas-docs/stable/reference/api/pandas.DataFrame.groupby.html)"
   ]
  },
  {
   "cell_type": "code",
   "execution_count": null,
   "metadata": {
    "colab": {
     "base_uri": "https://localhost:8080/",
     "height": 457
    },
    "id": "uK2_m6j1sHGI",
    "outputId": "386e3238-040a-435f-a4cc-2635b6701e4e"
   },
   "outputs": [],
   "source": [
    "# Calculamos la media de las variables salary y fga_per_g por posicion\n",
    "nba.groupby('position').agg({'salary':'mean', 'fga_per_g' :'mean'})"
   ]
  },
  {
   "cell_type": "code",
   "execution_count": null,
   "metadata": {
    "colab": {
     "base_uri": "https://localhost:8080/",
     "height": 455
    },
    "id": "exqm2eIcuT-p",
    "outputId": "453f84b4-cec8-42ac-c8e0-f5cbdbce29cd"
   },
   "outputs": [],
   "source": [
    "# Calculamos la media de las variables salary y fga_per_g por posicion y equipo\n",
    "nba.groupby(['position','team_id']).agg({'salary':'mean', 'fga_per_g' :'mean'})"
   ]
  },
  {
   "cell_type": "code",
   "execution_count": null,
   "metadata": {
    "colab": {
     "base_uri": "https://localhost:8080/",
     "height": 457
    },
    "id": "xTnSDEfkrR1R",
    "outputId": "f02a22ca-6cce-4c4a-c11b-e0f130d54657"
   },
   "outputs": [],
   "source": [
    "# Calculamos la media, el minimo, maximo y la sumo de la variable salary\n",
    "nba.groupby('position').agg(min_salary=('salary', 'min'),\n",
    "                            max_salary=('salary', 'max'),\n",
    "                            media_salary = ('salary', 'mean'),\n",
    "                            suma_salary = ('salary', 'sum'))"
   ]
  },
  {
   "cell_type": "markdown",
   "metadata": {
    "id": "5wIR3ZRRuiLf"
   },
   "source": [
    "### 5.5 Escalado de Datos\n",
    "\n",
    "Hay algoritmos que son sonsibles a la magnitud de los datos, por eso se vuelve relevalante escalarlos y llevarlos todos al mismo rango. Para existo se utilizan principalmente dos strategias\n",
    "\n",
    "* Normalización: $X_{norm} = \\frac{X-X_{min}}{X_{max}-X_{min}}$\n",
    "\n",
    "* Estandarización: $X_{std} = \\frac{X-\\mu}{\\sigma}$\n",
    "\n",
    "Donde $\\mu$ y $\\sigma$ son la media y el desvío standard de la distribución de la variable a estandarizar.\n",
    "\n",
    "Para la estandarizacion vamos a utilizar [StandardScaler](https://scikit-learn.org/stable/modules/generated/sklearn.preprocessing.StandardScaler.html?highlight=standard%20scaler#sklearn.preprocessing.StandardScaler) y para la normalización [MinMaxScaler](https://scikit-learn.org/stable/modules/generated/sklearn.preprocessing.MinMaxScaler.html?highlight=minmax#sklearn.preprocessing.MinMaxScaler) ambas de *sklearn*\n"
   ]
  },
  {
   "cell_type": "code",
   "execution_count": null,
   "metadata": {
    "id": "S8r6yMQg89_O"
   },
   "outputs": [],
   "source": [
    "#generamos un dataframe que sea solo la columna salario\n",
    "salario = nba[['salary']]"
   ]
  },
  {
   "cell_type": "code",
   "execution_count": null,
   "metadata": {
    "id": "EDxSzomT8JS7"
   },
   "outputs": [],
   "source": [
    "# Vamos a normalizar la variable salario\n",
    "# Importamos la función\n",
    "from sklearn.preprocessing import MinMaxScaler"
   ]
  },
  {
   "cell_type": "code",
   "execution_count": null,
   "metadata": {
    "colab": {
     "base_uri": "https://localhost:8080/",
     "height": 74
    },
    "id": "8puKb0HrrW_K",
    "outputId": "93abae03-eb08-4c92-9d43-5a1d31f72ced"
   },
   "outputs": [],
   "source": [
    "#Ajustamos el escalado\n",
    "scaler = MinMaxScaler()\n",
    "scaler.fit(salario[['salary']])"
   ]
  },
  {
   "cell_type": "code",
   "execution_count": null,
   "metadata": {
    "id": "bh2LzZ21uaH6"
   },
   "outputs": [],
   "source": [
    "#Realizamos la normalizacion\n",
    "salario['norm'] = scaler.transform(salario[['salary']])"
   ]
  },
  {
   "cell_type": "code",
   "execution_count": null,
   "metadata": {
    "colab": {
     "base_uri": "https://localhost:8080/",
     "height": 423
    },
    "id": "4tJ5YUeB85ZA",
    "outputId": "1aeb0b94-a4a0-406c-ccf2-fb954afb1744"
   },
   "outputs": [],
   "source": [
    "salario"
   ]
  },
  {
   "cell_type": "code",
   "execution_count": null,
   "metadata": {
    "id": "TTUpvAlo9W9b"
   },
   "outputs": [],
   "source": [
    "# Vamos a estandarizar la variable salario\n",
    "# Importamos la función\n",
    "from sklearn.preprocessing import StandardScaler"
   ]
  },
  {
   "cell_type": "code",
   "execution_count": null,
   "metadata": {
    "colab": {
     "base_uri": "https://localhost:8080/",
     "height": 74
    },
    "id": "ViXVSXLb9W9c",
    "outputId": "41a2adcf-be5e-4c0d-f1b7-a8bce662ebd4"
   },
   "outputs": [],
   "source": [
    "#Ajustamos el escalado\n",
    "scaler = StandardScaler()\n",
    "scaler.fit(salario[['salary']])"
   ]
  },
  {
   "cell_type": "code",
   "execution_count": null,
   "metadata": {
    "id": "f9XJtOAC9W9c"
   },
   "outputs": [],
   "source": [
    "#Realizamos la estandarización\n",
    "salario['std'] = scaler.transform(salario[['salary']])"
   ]
  },
  {
   "cell_type": "code",
   "execution_count": null,
   "metadata": {
    "colab": {
     "base_uri": "https://localhost:8080/",
     "height": 423
    },
    "id": "y4SSL31A9Sxm",
    "outputId": "bd9886a9-d8e6-448a-ee85-93b108adeb3c"
   },
   "outputs": [],
   "source": [
    "#vemos como quedaron las distitnas alternativas\n",
    "salario"
   ]
  },
  {
   "cell_type": "code",
   "execution_count": null,
   "metadata": {
    "colab": {
     "base_uri": "https://localhost:8080/",
     "height": 300
    },
    "id": "AkV6NMfa9gxu",
    "outputId": "ddbdda43-ecd4-4a6a-854d-c04ba42cb7c1"
   },
   "outputs": [],
   "source": [
    "#Vemos la distribucion\n",
    "salario.describe()\n"
   ]
  },
  {
   "cell_type": "markdown",
   "metadata": {
    "id": "FxZsYBLI9uHf"
   },
   "source": [
    "## 6. Pipelines\n",
    "\n",
    "Un pipeline es *‘Una lista de transformaciones aplicadas de forma secuencial sobre el estimador. Los pasos intermedios deben ser “transforms” es decir, implementan los métodos fit y transform. El estimador final sólo necesita implementar el fit’*.\n",
    "\n",
    "Vamos a usar la función [Pipeline](https://scikit-learn.org/stable/modules/generated/sklearn.pipeline.Pipeline.html) a la cual le debemos pasar una lista de tuplas de procedimientos que queremos realizar.\n",
    "\n",
    "Trabajaremos con variables numericas para ejemplificar el procedimiento"
   ]
  },
  {
   "cell_type": "code",
   "execution_count": null,
   "metadata": {
    "colab": {
     "base_uri": "https://localhost:8080/",
     "height": 235
    },
    "id": "luZRZufU9qTs",
    "outputId": "6a11660e-ed8e-4d56-abae-d997e24896e0"
   },
   "outputs": [],
   "source": [
    "#Seleccionamos las variables numéricas\n",
    "nba_numericas = nba.select_dtypes(include=['float64','int64'])\n",
    "nba_numericas.head()"
   ]
  },
  {
   "cell_type": "code",
   "execution_count": null,
   "metadata": {
    "id": "k8oArA2-_URM"
   },
   "outputs": [],
   "source": [
    "#Eliminamos los registros que no poseen salario\n",
    "nba_numericas = nba_numericas[nba_numericas['salary'].notnull()]\n",
    "# Separamos la variable target de las predictoras\n",
    "X = nba_numericas.drop(['salary'], axis=1)\n",
    "y = nba_numericas[['salary']]"
   ]
  },
  {
   "cell_type": "code",
   "execution_count": null,
   "metadata": {
    "id": "9aTQ3AdwAKPk"
   },
   "outputs": [],
   "source": [
    "# Separamos en train y en test\n",
    "\n",
    "X_train, X_test, y_train, y_test = train_test_split(X, y, test_size=0.3, random_state=semilla)"
   ]
  },
  {
   "cell_type": "code",
   "execution_count": null,
   "metadata": {
    "id": "9e9rktc7AUYt"
   },
   "outputs": [],
   "source": [
    "# Definimos el diccionario con los pasos que queremos que tenga el pipeline en este caso StandardScaler y ElasticNet\n",
    "\n",
    "pasos = [('scaler', StandardScaler()), ('enet', ElasticNet())]"
   ]
  },
  {
   "cell_type": "code",
   "execution_count": null,
   "metadata": {
    "id": "-vvEHc4jAppp"
   },
   "outputs": [],
   "source": [
    "#Importamos la funcion Pipeline\n",
    "from sklearn.pipeline import Pipeline"
   ]
  },
  {
   "cell_type": "code",
   "execution_count": null,
   "metadata": {
    "id": "UCq51-6XAv4q"
   },
   "outputs": [],
   "source": [
    "# Definimos el objeto que va a contener nuestro pipeline\n",
    "pipeline = Pipeline(pasos)"
   ]
  },
  {
   "cell_type": "code",
   "execution_count": null,
   "metadata": {
    "id": "MTHkgvgLA2dg"
   },
   "outputs": [],
   "source": [
    "# Como vamos a ealphajecutar una busqueda de grilla definimos los parametros a evaluar\n",
    "#debemos poner el nombre del estimador seguido de __ y luego el parametro\n",
    "parametros = {'enet__alpha':[0.001,0.01,0.1,1,10,100],\n",
    "               'enet__l1_ratio':[0,0.25,0.5,0.75,1]}"
   ]
  },
  {
   "cell_type": "code",
   "execution_count": null,
   "metadata": {
    "id": "HZd9YoFrA-RI"
   },
   "outputs": [],
   "source": [
    "# Instanciamos la búsqueda de grilla pasandole el pipeline que deseamos que ejecute\n",
    "\n",
    "grid = GridSearchCV(pipeline, param_grid=parametros, cv=20, scoring= 'neg_mean_squared_error')"
   ]
  },
  {
   "cell_type": "code",
   "execution_count": null,
   "metadata": {
    "colab": {
     "base_uri": "https://localhost:8080/",
     "height": 152
    },
    "id": "iHP_9ldbBJyr",
    "outputId": "1aec8a25-0c4d-487e-d4ea-926060097b10"
   },
   "outputs": [],
   "source": [
    "# Ajustamos nuestro modelo al conjunto de entramiento\n",
    "grid.fit(X_train, y_train)"
   ]
  },
  {
   "cell_type": "code",
   "execution_count": null,
   "metadata": {
    "colab": {
     "base_uri": "https://localhost:8080/"
    },
    "id": "ttEAh4zkBQfo",
    "outputId": "9d6ac446-af0a-4b35-b7e8-bec73c29a753"
   },
   "outputs": [],
   "source": [
    "#Obtenemos el mejor Score del modelo\n",
    "print (\"score = %3.2f\" %(grid.score(X_test,y_test)))"
   ]
  },
  {
   "cell_type": "code",
   "execution_count": null,
   "metadata": {
    "colab": {
     "base_uri": "https://localhost:8080/"
    },
    "id": "0z5BeD3gBsX5",
    "outputId": "8341bae3-8dfc-4e3f-afe0-944f7261e98c"
   },
   "outputs": [],
   "source": [
    "#Imprimimos los mejores parametros\n",
    "print( grid.best_params_)\n"
   ]
  },
  {
   "cell_type": "markdown",
   "metadata": {
    "id": "uHoBZetgFRUr"
   },
   "source": [
    "Si quisieramos incorporar el imputer en caso de tener registros sin datos los pasos que debieramos pasarles serian los siguientes:"
   ]
  },
  {
   "cell_type": "code",
   "execution_count": null,
   "metadata": {
    "id": "an_lQVF7FQ61"
   },
   "outputs": [],
   "source": [
    "#Agregamos un imputador con una estrategia de media\n",
    "pasos = [('imputer', SimpleImputer(strategy='mean')),('scaler', StandardScaler()), ('enet', ElasticNet())]"
   ]
  },
  {
   "cell_type": "code",
   "execution_count": null,
   "metadata": {
    "id": "j8KtZ5-NF_gV"
   },
   "outputs": [],
   "source": [
    "# Definimos el objeto que va a contener nuestro pipeline\n",
    "pipeline = Pipeline(pasos)"
   ]
  },
  {
   "cell_type": "code",
   "execution_count": null,
   "metadata": {
    "id": "pkzlxGiAF_gZ"
   },
   "outputs": [],
   "source": [
    "# Como vamos a ealphajecutar una busqueda de grilla definimos los parametros a evaluar\n",
    "#debemos poner el nombre del estimador seguido de __ y luego el parametro\n",
    "parametros = {'enet__alpha':[0.001,0.01,0.1,1,10,100],\n",
    "               'enet__l1_ratio':[0,0.25,0.5,0.75,1]}"
   ]
  },
  {
   "cell_type": "code",
   "execution_count": null,
   "metadata": {
    "id": "eteOlA2QF_gZ"
   },
   "outputs": [],
   "source": [
    "# Instanciamos la búsqueda de grilla pasandole el pipeline que deseamos que ejecute\n",
    "\n",
    "grid = GridSearchCV(pipeline, param_grid=parametros, cv=20, scoring= 'neg_mean_squared_error')"
   ]
  },
  {
   "cell_type": "code",
   "execution_count": null,
   "metadata": {
    "colab": {
     "base_uri": "https://localhost:8080/",
     "height": 186
    },
    "id": "sPVVzNW1F_gZ",
    "outputId": "3d7eabb1-a69f-46fd-838e-74e33f4cca08"
   },
   "outputs": [],
   "source": [
    "# Ajustamos nuestro modelo al conjunto de entramiento\n",
    "grid.fit(X_train, y_train)"
   ]
  }
 ],
 "metadata": {
  "colab": {
   "provenance": []
  },
  "kernelspec": {
   "display_name": "Python 3 (ipykernel)",
   "language": "python",
   "name": "python3"
  },
  "language_info": {
   "codemirror_mode": {
    "name": "ipython",
    "version": 3
   },
   "file_extension": ".py",
   "mimetype": "text/x-python",
   "name": "python",
   "nbconvert_exporter": "python",
   "pygments_lexer": "ipython3",
   "version": "3.10.9"
  }
 },
 "nbformat": 4,
 "nbformat_minor": 4
}
